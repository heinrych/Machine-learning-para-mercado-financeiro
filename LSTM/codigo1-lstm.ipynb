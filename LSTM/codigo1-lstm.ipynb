{
 "cells": [
  {
   "cell_type": "markdown",
   "id": "f5c8164d",
   "metadata": {
    "_cell_guid": "b1076dfc-b9ad-4769-8c92-a6c4dae69d19",
    "_uuid": "8f2839f25d086af736a60e9eeb907d3b93b6e0e5",
    "execution": {
     "iopub.execute_input": "2022-09-12T21:42:18.001433Z",
     "iopub.status.busy": "2022-09-12T21:42:18.000915Z",
     "iopub.status.idle": "2022-09-12T21:42:18.032962Z",
     "shell.execute_reply": "2022-09-12T21:42:18.031777Z",
     "shell.execute_reply.started": "2022-09-12T21:42:18.001337Z"
    },
    "papermill": {
     "duration": 0.007807,
     "end_time": "2022-09-12T23:20:18.032588",
     "exception": false,
     "start_time": "2022-09-12T23:20:18.024781",
     "status": "completed"
    },
    "tags": []
   },
   "source": []
  },
  {
   "cell_type": "code",
   "execution_count": 1,
   "id": "74a04836",
   "metadata": {
    "execution": {
     "iopub.execute_input": "2022-09-12T23:20:18.047695Z",
     "iopub.status.busy": "2022-09-12T23:20:18.047184Z",
     "iopub.status.idle": "2022-09-12T23:20:18.059037Z",
     "shell.execute_reply": "2022-09-12T23:20:18.058088Z"
    },
    "papermill": {
     "duration": 0.022558,
     "end_time": "2022-09-12T23:20:18.061701",
     "exception": false,
     "start_time": "2022-09-12T23:20:18.039143",
     "status": "completed"
    },
    "tags": []
   },
   "outputs": [],
   "source": [
    "# This Python 3 environment comes with many helpful analytics libraries installed\n",
    "# It is defined by the kaggle/python Docker image: https://github.com/kaggle/docker-python\n",
    "# For example, here's several helpful packages to load\n",
    "\n",
    "import numpy as np # linear algebra\n",
    "import pandas as pd # data processing, CSV file I/O (e.g. pd.read_csv)\n",
    "\n",
    "# Input data files are available in the read-only \"../input/\" directory\n",
    "# For example, running this (by clicking run or pressing Shift+Enter) will list all files under the input directory\n",
    "\n",
    "import os\n",
    "\n",
    "# You can write up to 20GB to the current directory (/kaggle/working/) that gets preserved as output when you create a version using \"Save & Run All\" \n",
    "# You can also write temporary files to /kaggle/temp/, but they won't be saved outside of the current session"
   ]
  },
  {
   "cell_type": "code",
   "execution_count": 2,
   "id": "4defe3df",
   "metadata": {
    "execution": {
     "iopub.execute_input": "2022-09-12T23:20:18.076585Z",
     "iopub.status.busy": "2022-09-12T23:20:18.076156Z",
     "iopub.status.idle": "2022-09-12T23:20:25.686687Z",
     "shell.execute_reply": "2022-09-12T23:20:25.685359Z"
    },
    "papermill": {
     "duration": 7.621495,
     "end_time": "2022-09-12T23:20:25.689615",
     "exception": false,
     "start_time": "2022-09-12T23:20:18.068120",
     "status": "completed"
    },
    "tags": []
   },
   "outputs": [],
   "source": [
    "# import yfinance as yf\n",
    "import pandas as pd\n",
    "import numpy as np\n",
    "from sklearn.preprocessing import StandardScaler  \n",
    "import matplotlib.pyplot as plt\n",
    "from sklearn.model_selection import train_test_split\n",
    "from collections import Counter\n",
    "\n",
    "from keras. utils.vis_utils import plot_model\n"
   ]
  },
  {
   "cell_type": "code",
   "execution_count": 3,
   "id": "2daeefbd",
   "metadata": {
    "execution": {
     "iopub.execute_input": "2022-09-12T23:20:25.704506Z",
     "iopub.status.busy": "2022-09-12T23:20:25.703770Z",
     "iopub.status.idle": "2022-09-12T23:20:26.116144Z",
     "shell.execute_reply": "2022-09-12T23:20:26.114932Z"
    },
    "papermill": {
     "duration": 0.423314,
     "end_time": "2022-09-12T23:20:26.119355",
     "exception": false,
     "start_time": "2022-09-12T23:20:25.696041",
     "status": "completed"
    },
    "tags": []
   },
   "outputs": [
    {
     "data": {
      "text/html": [
       "<div>\n",
       "<style scoped>\n",
       "    .dataframe tbody tr th:only-of-type {\n",
       "        vertical-align: middle;\n",
       "    }\n",
       "\n",
       "    .dataframe tbody tr th {\n",
       "        vertical-align: top;\n",
       "    }\n",
       "\n",
       "    .dataframe thead th {\n",
       "        text-align: right;\n",
       "    }\n",
       "</style>\n",
       "<table border=\"1\" class=\"dataframe\">\n",
       "  <thead>\n",
       "    <tr style=\"text-align: right;\">\n",
       "      <th></th>\n",
       "      <th>Open</th>\n",
       "      <th>Hight</th>\n",
       "      <th>Low</th>\n",
       "      <th>Close</th>\n",
       "      <th>Ticket</th>\n",
       "      <th>Volume</th>\n",
       "      <th>mm5d</th>\n",
       "      <th>mm21d</th>\n",
       "    </tr>\n",
       "    <tr>\n",
       "      <th>Date</th>\n",
       "      <th></th>\n",
       "      <th></th>\n",
       "      <th></th>\n",
       "      <th></th>\n",
       "      <th></th>\n",
       "      <th></th>\n",
       "      <th></th>\n",
       "      <th></th>\n",
       "    </tr>\n",
       "  </thead>\n",
       "  <tbody>\n",
       "    <tr>\n",
       "      <th>2022-08-09 09:03:20</th>\n",
       "      <td>109025.0</td>\n",
       "      <td>109030.0</td>\n",
       "      <td>108970.0</td>\n",
       "      <td>109015.0</td>\n",
       "      <td>4384</td>\n",
       "      <td>11805</td>\n",
       "      <td>109011.0</td>\n",
       "      <td>108994.523810</td>\n",
       "    </tr>\n",
       "    <tr>\n",
       "      <th>2022-08-09 09:03:21</th>\n",
       "      <td>109025.0</td>\n",
       "      <td>109030.0</td>\n",
       "      <td>108970.0</td>\n",
       "      <td>109005.0</td>\n",
       "      <td>4488</td>\n",
       "      <td>12000</td>\n",
       "      <td>109010.0</td>\n",
       "      <td>108993.333333</td>\n",
       "    </tr>\n",
       "    <tr>\n",
       "      <th>2022-08-09 09:03:22</th>\n",
       "      <td>109025.0</td>\n",
       "      <td>109030.0</td>\n",
       "      <td>108970.0</td>\n",
       "      <td>108985.0</td>\n",
       "      <td>4777</td>\n",
       "      <td>12855</td>\n",
       "      <td>109004.0</td>\n",
       "      <td>108991.428571</td>\n",
       "    </tr>\n",
       "    <tr>\n",
       "      <th>2022-08-09 09:03:23</th>\n",
       "      <td>109025.0</td>\n",
       "      <td>109030.0</td>\n",
       "      <td>108970.0</td>\n",
       "      <td>108985.0</td>\n",
       "      <td>4847</td>\n",
       "      <td>12961</td>\n",
       "      <td>108999.0</td>\n",
       "      <td>108991.428571</td>\n",
       "    </tr>\n",
       "    <tr>\n",
       "      <th>2022-08-09 09:03:24</th>\n",
       "      <td>109025.0</td>\n",
       "      <td>109030.0</td>\n",
       "      <td>108970.0</td>\n",
       "      <td>108980.0</td>\n",
       "      <td>4983</td>\n",
       "      <td>13308</td>\n",
       "      <td>108994.0</td>\n",
       "      <td>108990.952381</td>\n",
       "    </tr>\n",
       "    <tr>\n",
       "      <th>...</th>\n",
       "      <td>...</td>\n",
       "      <td>...</td>\n",
       "      <td>...</td>\n",
       "      <td>...</td>\n",
       "      <td>...</td>\n",
       "      <td>...</td>\n",
       "      <td>...</td>\n",
       "      <td>...</td>\n",
       "    </tr>\n",
       "    <tr>\n",
       "      <th>2022-08-15 17:50:55</th>\n",
       "      <td>113265.0</td>\n",
       "      <td>113280.0</td>\n",
       "      <td>113235.0</td>\n",
       "      <td>113235.0</td>\n",
       "      <td>2271</td>\n",
       "      <td>7924</td>\n",
       "      <td>113240.0</td>\n",
       "      <td>113241.428571</td>\n",
       "    </tr>\n",
       "    <tr>\n",
       "      <th>2022-08-15 17:50:56</th>\n",
       "      <td>113265.0</td>\n",
       "      <td>113280.0</td>\n",
       "      <td>113230.0</td>\n",
       "      <td>113230.0</td>\n",
       "      <td>2377</td>\n",
       "      <td>8206</td>\n",
       "      <td>113238.0</td>\n",
       "      <td>113240.476190</td>\n",
       "    </tr>\n",
       "    <tr>\n",
       "      <th>2022-08-15 17:50:57</th>\n",
       "      <td>113265.0</td>\n",
       "      <td>113280.0</td>\n",
       "      <td>113230.0</td>\n",
       "      <td>113235.0</td>\n",
       "      <td>2409</td>\n",
       "      <td>8287</td>\n",
       "      <td>113236.0</td>\n",
       "      <td>113240.000000</td>\n",
       "    </tr>\n",
       "    <tr>\n",
       "      <th>2022-08-15 17:50:58</th>\n",
       "      <td>113265.0</td>\n",
       "      <td>113280.0</td>\n",
       "      <td>113230.0</td>\n",
       "      <td>113230.0</td>\n",
       "      <td>2424</td>\n",
       "      <td>8326</td>\n",
       "      <td>113234.0</td>\n",
       "      <td>113239.285714</td>\n",
       "    </tr>\n",
       "    <tr>\n",
       "      <th>2022-08-15 17:50:59</th>\n",
       "      <td>113265.0</td>\n",
       "      <td>113280.0</td>\n",
       "      <td>113230.0</td>\n",
       "      <td>113230.0</td>\n",
       "      <td>2464</td>\n",
       "      <td>8429</td>\n",
       "      <td>113232.0</td>\n",
       "      <td>113238.333333</td>\n",
       "    </tr>\n",
       "  </tbody>\n",
       "</table>\n",
       "<p>157460 rows × 8 columns</p>\n",
       "</div>"
      ],
      "text/plain": [
       "                         Open     Hight       Low     Close  Ticket  Volume  \\\n",
       "Date                                                                          \n",
       "2022-08-09 09:03:20  109025.0  109030.0  108970.0  109015.0    4384   11805   \n",
       "2022-08-09 09:03:21  109025.0  109030.0  108970.0  109005.0    4488   12000   \n",
       "2022-08-09 09:03:22  109025.0  109030.0  108970.0  108985.0    4777   12855   \n",
       "2022-08-09 09:03:23  109025.0  109030.0  108970.0  108985.0    4847   12961   \n",
       "2022-08-09 09:03:24  109025.0  109030.0  108970.0  108980.0    4983   13308   \n",
       "...                       ...       ...       ...       ...     ...     ...   \n",
       "2022-08-15 17:50:55  113265.0  113280.0  113235.0  113235.0    2271    7924   \n",
       "2022-08-15 17:50:56  113265.0  113280.0  113230.0  113230.0    2377    8206   \n",
       "2022-08-15 17:50:57  113265.0  113280.0  113230.0  113235.0    2409    8287   \n",
       "2022-08-15 17:50:58  113265.0  113280.0  113230.0  113230.0    2424    8326   \n",
       "2022-08-15 17:50:59  113265.0  113280.0  113230.0  113230.0    2464    8429   \n",
       "\n",
       "                         mm5d          mm21d  \n",
       "Date                                          \n",
       "2022-08-09 09:03:20  109011.0  108994.523810  \n",
       "2022-08-09 09:03:21  109010.0  108993.333333  \n",
       "2022-08-09 09:03:22  109004.0  108991.428571  \n",
       "2022-08-09 09:03:23  108999.0  108991.428571  \n",
       "2022-08-09 09:03:24  108994.0  108990.952381  \n",
       "...                       ...            ...  \n",
       "2022-08-15 17:50:55  113240.0  113241.428571  \n",
       "2022-08-15 17:50:56  113238.0  113240.476190  \n",
       "2022-08-15 17:50:57  113236.0  113240.000000  \n",
       "2022-08-15 17:50:58  113234.0  113239.285714  \n",
       "2022-08-15 17:50:59  113232.0  113238.333333  \n",
       "\n",
       "[157460 rows x 8 columns]"
      ]
     },
     "execution_count": 3,
     "metadata": {},
     "output_type": "execute_result"
    }
   ],
   "source": [
    "#data = pd.read_csv(\"../input/winq22/WINQ22_SPREAD_1.csv\",sep=\";\")\n",
    "data = pd.read_csv(\"../input/winq22-process/submission_example.csv\",\n",
    "                  #skiprows = range(30001, 3119977), # ignora as primeiras 10 linhas do excel\n",
    "                  )\n",
    "df = pd.DataFrame(data)\n",
    "# df = df.reset_index()\n",
    "df.shape\n",
    "\n",
    "#Criando o Dataframe\n",
    "df.sort_index(ascending=True, axis=0)\n",
    "data = df.sort_index(ascending=True, axis=0)\n",
    "\n",
    "#Colocando data como índice\n",
    "df.index = df.Date\n",
    "df.drop('Date', axis=1, inplace=True)\n",
    "\n",
    "df.head()\n",
    "\n",
    "df['mm5d'] = df['Close'].rolling(5).mean()\n",
    "df['mm21d'] = df['Close'].rolling(21).mean()\n",
    "\n",
    "#retirando os dados nulos\n",
    "df.dropna(inplace=True)\n",
    "df"
   ]
  },
  {
   "cell_type": "code",
   "execution_count": 4,
   "id": "41fa789d",
   "metadata": {
    "execution": {
     "iopub.execute_input": "2022-09-12T23:20:26.134627Z",
     "iopub.status.busy": "2022-09-12T23:20:26.133843Z",
     "iopub.status.idle": "2022-09-12T23:20:26.544900Z",
     "shell.execute_reply": "2022-09-12T23:20:26.544057Z"
    },
    "papermill": {
     "duration": 0.421109,
     "end_time": "2022-09-12T23:20:26.547060",
     "exception": false,
     "start_time": "2022-09-12T23:20:26.125951",
     "status": "completed"
    },
    "tags": []
   },
   "outputs": [
    {
     "data": {
      "image/png": "[encoded data removed]",
      "text/plain": [
       "<Figure size 1296x648 with 1 Axes>"
      ]
     },
     "metadata": {
      "needs_background": "light"
     },
     "output_type": "display_data"
    }
   ],
   "source": [
    "plt.figure(figsize = (18,9))\n",
    "plt.plot(range(df.shape[0]),(df['Close']))\n",
    "plt.xticks(range(0,df.shape[0],10000),df.index[::10000],rotation=45)\n",
    "plt.xlabel('Date',fontsize=18)\n",
    "plt.ylabel('Mid Price',fontsize=18)\n",
    "plt.show()"
   ]
  },
  {
   "cell_type": "code",
   "execution_count": 5,
   "id": "4e96e6f3",
   "metadata": {
    "execution": {
     "iopub.execute_input": "2022-09-12T23:20:26.565538Z",
     "iopub.status.busy": "2022-09-12T23:20:26.564392Z",
     "iopub.status.idle": "2022-09-12T23:20:26.569702Z",
     "shell.execute_reply": "2022-09-12T23:20:26.568788Z"
    },
    "papermill": {
     "duration": 0.01702,
     "end_time": "2022-09-12T23:20:26.572055",
     "exception": false,
     "start_time": "2022-09-12T23:20:26.555035",
     "status": "completed"
    },
    "tags": []
   },
   "outputs": [],
   "source": [
    "#Importando as libraries\n",
    "from sklearn.preprocessing import MinMaxScaler\n",
    "from keras.models import Sequential\n",
    "from keras.layers import Dense, Dropout, LSTM"
   ]
  },
  {
   "cell_type": "markdown",
   "id": "d026bd3a",
   "metadata": {
    "papermill": {
     "duration": 0.007375,
     "end_time": "2022-09-12T23:20:26.587466",
     "exception": false,
     "start_time": "2022-09-12T23:20:26.580091",
     "status": "completed"
    },
    "tags": []
   },
   "source": [
    "# =============================================="
   ]
  },
  {
   "cell_type": "code",
   "execution_count": 6,
   "id": "c436d243",
   "metadata": {
    "execution": {
     "iopub.execute_input": "2022-09-12T23:20:26.604847Z",
     "iopub.status.busy": "2022-09-12T23:20:26.604079Z",
     "iopub.status.idle": "2022-09-12T23:20:26.613588Z",
     "shell.execute_reply": "2022-09-12T23:20:26.612773Z"
    },
    "papermill": {
     "duration": 0.020982,
     "end_time": "2022-09-12T23:20:26.616056",
     "exception": false,
     "start_time": "2022-09-12T23:20:26.595074",
     "status": "completed"
    },
    "tags": []
   },
   "outputs": [],
   "source": [
    "features = df.loc[:,['Open', 'Hight', 'Low', 'Ticket','Volume','mm5d','mm21d']]\n",
    "y_output = df['Close']"
   ]
  },
  {
   "cell_type": "code",
   "execution_count": 7,
   "id": "2940bd49",
   "metadata": {
    "execution": {
     "iopub.execute_input": "2022-09-12T23:20:26.633332Z",
     "iopub.status.busy": "2022-09-12T23:20:26.632642Z",
     "iopub.status.idle": "2022-09-12T23:20:26.648548Z",
     "shell.execute_reply": "2022-09-12T23:20:26.647493Z"
    },
    "papermill": {
     "duration": 0.02728,
     "end_time": "2022-09-12T23:20:26.651083",
     "exception": false,
     "start_time": "2022-09-12T23:20:26.623803",
     "status": "completed"
    },
    "tags": []
   },
   "outputs": [
    {
     "name": "stdout",
     "output_type": "stream",
     "text": [
      "110222 110222\n",
      "47238 47238\n"
     ]
    }
   ],
   "source": [
    "split_percentage = 0.7\n",
    "split = int(split_percentage*len(df))\n",
    "  \n",
    "# Train data set\n",
    "X_train = features[:split]\n",
    "y_train = y_output[:split]\n",
    "  \n",
    "# Test data set\n",
    "X_test = features[split:]\n",
    "y_test = y_output[split:]\n",
    "\n",
    "print( len(X_train), len(y_train))\n",
    "print( len(X_test), len(y_test))"
   ]
  },
  {
   "cell_type": "code",
   "execution_count": 8,
   "id": "62c2e5df",
   "metadata": {
    "execution": {
     "iopub.execute_input": "2022-09-12T23:20:26.669268Z",
     "iopub.status.busy": "2022-09-12T23:20:26.668559Z",
     "iopub.status.idle": "2022-09-12T23:20:26.673059Z",
     "shell.execute_reply": "2022-09-12T23:20:26.672175Z"
    },
    "papermill": {
     "duration": 0.016077,
     "end_time": "2022-09-12T23:20:26.675269",
     "exception": false,
     "start_time": "2022-09-12T23:20:26.659192",
     "status": "completed"
    },
    "tags": []
   },
   "outputs": [],
   "source": [
    "# # Normalizando os dados de entrada(features)\n",
    "\n",
    "# # Gerando o novo padrão\n",
    "# scaler = StandardScaler()\n",
    "# X_train_scale = scaler.fit_transform(X_train)  # Normalizando os dados de entrada(treinamento)\n",
    "# X_test_scale  = scaler.transform(X_test)       # Normalizando os dados de entrada(teste)"
   ]
  },
  {
   "cell_type": "code",
   "execution_count": 9,
   "id": "e1d0d86d",
   "metadata": {
    "execution": {
     "iopub.execute_input": "2022-09-12T23:20:26.693249Z",
     "iopub.status.busy": "2022-09-12T23:20:26.692533Z",
     "iopub.status.idle": "2022-09-12T23:20:26.718143Z",
     "shell.execute_reply": "2022-09-12T23:20:26.716946Z"
    },
    "papermill": {
     "duration": 0.037661,
     "end_time": "2022-09-12T23:20:26.720836",
     "exception": false,
     "start_time": "2022-09-12T23:20:26.683175",
     "status": "completed"
    },
    "tags": []
   },
   "outputs": [],
   "source": [
    "# Normalizando os dados de entrada(features)\n",
    "\n",
    "# Gerando o novo padrão\n",
    "scaler = MinMaxScaler()\n",
    "X_train_scale = scaler.fit_transform(X_train)  # Normalizando os dados de entrada(treinamento)\n",
    "X_test_scale  = scaler.transform(X_test)       # Normalizando os dados de entrada(teste)"
   ]
  },
  {
   "cell_type": "code",
   "execution_count": 10,
   "id": "8f0f369e",
   "metadata": {
    "execution": {
     "iopub.execute_input": "2022-09-12T23:20:26.739345Z",
     "iopub.status.busy": "2022-09-12T23:20:26.738638Z",
     "iopub.status.idle": "2022-09-12T23:20:26.744081Z",
     "shell.execute_reply": "2022-09-12T23:20:26.742832Z"
    },
    "papermill": {
     "duration": 0.017337,
     "end_time": "2022-09-12T23:20:26.746474",
     "exception": false,
     "start_time": "2022-09-12T23:20:26.729137",
     "status": "completed"
    },
    "tags": []
   },
   "outputs": [],
   "source": [
    "from sklearn.model_selection import TimeSeriesSplit\n"
   ]
  },
  {
   "cell_type": "code",
   "execution_count": 11,
   "id": "e84bf24e",
   "metadata": {
    "execution": {
     "iopub.execute_input": "2022-09-12T23:20:26.764901Z",
     "iopub.status.busy": "2022-09-12T23:20:26.764112Z",
     "iopub.status.idle": "2022-09-12T23:20:26.769643Z",
     "shell.execute_reply": "2022-09-12T23:20:26.768707Z"
    },
    "papermill": {
     "duration": 0.017862,
     "end_time": "2022-09-12T23:20:26.772378",
     "exception": false,
     "start_time": "2022-09-12T23:20:26.754516",
     "status": "completed"
    },
    "tags": []
   },
   "outputs": [
    {
     "name": "stdout",
     "output_type": "stream",
     "text": [
      "(110222, 7) (47238, 7)\n"
     ]
    }
   ],
   "source": [
    "print(X_train.shape, X_test.shape)"
   ]
  },
  {
   "cell_type": "code",
   "execution_count": 12,
   "id": "715e89e7",
   "metadata": {
    "execution": {
     "iopub.execute_input": "2022-09-12T23:20:26.792141Z",
     "iopub.status.busy": "2022-09-12T23:20:26.791436Z",
     "iopub.status.idle": "2022-09-12T23:20:26.803173Z",
     "shell.execute_reply": "2022-09-12T23:20:26.802161Z"
    },
    "papermill": {
     "duration": 0.024455,
     "end_time": "2022-09-12T23:20:26.805726",
     "exception": false,
     "start_time": "2022-09-12T23:20:26.781271",
     "status": "completed"
    },
    "tags": []
   },
   "outputs": [],
   "source": [
    "#Process the data for LSTM\n",
    "trainX =np.array(X_train_scale)\n",
    "testX =np.array(X_test_scale)\n",
    "X_train = trainX.reshape(X_train_scale.shape[0], 1, X_train_scale.shape[1])\n",
    "X_test = testX.reshape(X_test_scale.shape[0], 1, X_test_scale.shape[1])"
   ]
  },
  {
   "cell_type": "code",
   "execution_count": 13,
   "id": "f50d4925",
   "metadata": {
    "execution": {
     "iopub.execute_input": "2022-09-12T23:20:26.824626Z",
     "iopub.status.busy": "2022-09-12T23:20:26.823997Z",
     "iopub.status.idle": "2022-09-12T23:20:28.293337Z",
     "shell.execute_reply": "2022-09-12T23:20:28.291693Z"
    },
    "papermill": {
     "duration": 1.482329,
     "end_time": "2022-09-12T23:20:28.295990",
     "exception": false,
     "start_time": "2022-09-12T23:20:26.813661",
     "status": "completed"
    },
    "tags": []
   },
   "outputs": [
    {
     "name": "stderr",
     "output_type": "stream",
     "text": [
      "2022-09-12 23:20:26.865503: I tensorflow/core/common_runtime/process_util.cc:146] Creating new thread pool with default inter op setting: 2. Tune using inter_op_parallelism_threads for best performance.\n"
     ]
    },
    {
     "data": {
      "image/png": "[encoded data removed]",
      "text/plain": [
       "<IPython.core.display.Image object>"
      ]
     },
     "execution_count": 13,
     "metadata": {},
     "output_type": "execute_result"
    }
   ],
   "source": [
    "# Criando o modelo LSTM\n",
    "# model = Sequential()\n",
    "# model.add(LSTM(units=50, return_sequences=True, input_shape=(X_train.shape[1],1)))\n",
    "\n",
    "# model.add(LSTM(units=50))\n",
    "from keras.layers import Input\n",
    "\n",
    "model = Sequential()\n",
    "model.add(LSTM(32, input_shape=(1, trainX.shape[1]), activation='relu', return_sequences=False))\n",
    "model.add(Dense(1))\n",
    "model.compile(loss='mean_squared_error', optimizer='adam')\n",
    "plot_model(model, show_shapes=True, show_layer_names=True)"
   ]
  },
  {
   "cell_type": "code",
   "execution_count": 14,
   "id": "64837075",
   "metadata": {
    "execution": {
     "iopub.execute_input": "2022-09-12T23:20:28.315912Z",
     "iopub.status.busy": "2022-09-12T23:20:28.315172Z",
     "iopub.status.idle": "2022-09-12T23:20:28.319455Z",
     "shell.execute_reply": "2022-09-12T23:20:28.318589Z"
    },
    "papermill": {
     "duration": 0.016986,
     "end_time": "2022-09-12T23:20:28.321714",
     "exception": false,
     "start_time": "2022-09-12T23:20:28.304728",
     "status": "completed"
    },
    "tags": []
   },
   "outputs": [],
   "source": [
    "# history = model.fit(X_train, y_train.values.ravel(), \n",
    "#                     epochs=100,validation_data=(X_test, y_test), \n",
    "#                     batch_size=8, verbose=1, shuffle=False)\n"
   ]
  },
  {
   "cell_type": "code",
   "execution_count": 15,
   "id": "1665762c",
   "metadata": {
    "execution": {
     "iopub.execute_input": "2022-09-12T23:20:28.341000Z",
     "iopub.status.busy": "2022-09-12T23:20:28.340281Z",
     "iopub.status.idle": "2022-09-12T23:20:28.344191Z",
     "shell.execute_reply": "2022-09-12T23:20:28.343461Z"
    },
    "papermill": {
     "duration": 0.016049,
     "end_time": "2022-09-12T23:20:28.346314",
     "exception": false,
     "start_time": "2022-09-12T23:20:28.330265",
     "status": "completed"
    },
    "tags": []
   },
   "outputs": [],
   "source": [
    "# from tensorflow.keras.models import save_model\n",
    "# save_model(model, \"model.h5\")"
   ]
  },
  {
   "cell_type": "code",
   "execution_count": 16,
   "id": "11f6a692",
   "metadata": {
    "execution": {
     "iopub.execute_input": "2022-09-12T23:20:28.365167Z",
     "iopub.status.busy": "2022-09-12T23:20:28.364708Z",
     "iopub.status.idle": "2022-09-12T23:20:28.519827Z",
     "shell.execute_reply": "2022-09-12T23:20:28.518697Z"
    },
    "papermill": {
     "duration": 0.167694,
     "end_time": "2022-09-12T23:20:28.522564",
     "exception": false,
     "start_time": "2022-09-12T23:20:28.354870",
     "status": "completed"
    },
    "tags": []
   },
   "outputs": [],
   "source": [
    "from keras.models import load_model\n",
    "model = load_model('../input/model-save/versaofinalLSTM.h5')"
   ]
  },
  {
   "cell_type": "code",
   "execution_count": 17,
   "id": "0c4fa730",
   "metadata": {
    "execution": {
     "iopub.execute_input": "2022-09-12T23:20:28.542359Z",
     "iopub.status.busy": "2022-09-12T23:20:28.541410Z",
     "iopub.status.idle": "2022-09-12T23:20:28.546599Z",
     "shell.execute_reply": "2022-09-12T23:20:28.545363Z"
    },
    "papermill": {
     "duration": 0.017973,
     "end_time": "2022-09-12T23:20:28.549146",
     "exception": false,
     "start_time": "2022-09-12T23:20:28.531173",
     "status": "completed"
    },
    "tags": []
   },
   "outputs": [],
   "source": [
    "# plt.plot(history.history['loss'], label='train')\n",
    "# plt.plot(history.history['val_loss'], label='test')\n",
    "# plt.legend()\n",
    "# plt.show()"
   ]
  },
  {
   "cell_type": "code",
   "execution_count": 18,
   "id": "ae2a6fb1",
   "metadata": {
    "execution": {
     "iopub.execute_input": "2022-09-12T23:20:28.568344Z",
     "iopub.status.busy": "2022-09-12T23:20:28.567919Z",
     "iopub.status.idle": "2022-09-12T23:20:28.573474Z",
     "shell.execute_reply": "2022-09-12T23:20:28.572299Z"
    },
    "papermill": {
     "duration": 0.018205,
     "end_time": "2022-09-12T23:20:28.576186",
     "exception": false,
     "start_time": "2022-09-12T23:20:28.557981",
     "status": "completed"
    },
    "tags": []
   },
   "outputs": [],
   "source": [
    "# plt.plot(history.history['loss'][80:100], label='train 80-100')\n",
    "# plt.plot(history.history['val_loss'][800:100], label='test 80-100')\n",
    "# plt.legend()\n",
    "# plt.show()"
   ]
  },
  {
   "cell_type": "code",
   "execution_count": 19,
   "id": "570c463e",
   "metadata": {
    "execution": {
     "iopub.execute_input": "2022-09-12T23:20:28.596095Z",
     "iopub.status.busy": "2022-09-12T23:20:28.595410Z",
     "iopub.status.idle": "2022-09-12T23:20:28.600062Z",
     "shell.execute_reply": "2022-09-12T23:20:28.598895Z"
    },
    "papermill": {
     "duration": 0.017503,
     "end_time": "2022-09-12T23:20:28.602715",
     "exception": false,
     "start_time": "2022-09-12T23:20:28.585212",
     "status": "completed"
    },
    "tags": []
   },
   "outputs": [],
   "source": [
    "# plt.plot(history.history['val_loss'], label='test')\n",
    "# plt.legend()\n",
    "# plt.show()"
   ]
  },
  {
   "cell_type": "code",
   "execution_count": 20,
   "id": "6861330d",
   "metadata": {
    "execution": {
     "iopub.execute_input": "2022-09-12T23:20:28.622562Z",
     "iopub.status.busy": "2022-09-12T23:20:28.621712Z",
     "iopub.status.idle": "2022-09-12T23:20:28.634496Z",
     "shell.execute_reply": "2022-09-12T23:20:28.633601Z"
    },
    "papermill": {
     "duration": 0.025477,
     "end_time": "2022-09-12T23:20:28.637027",
     "exception": false,
     "start_time": "2022-09-12T23:20:28.611550",
     "status": "completed"
    },
    "tags": []
   },
   "outputs": [],
   "source": [
    "def plotar_testes(y_test,y_pred,modelo):\n",
    "    #Predicted vs True Adj Close Value – LSTM\n",
    "    plt.plot(y_test.values.ravel(), label='Valor real')\n",
    "    plt.plot(y_pred, label= f'{modelo} predição')\n",
    "    plt.xticks(range(0,y_test.shape[0],5000),y_test.index[::5000],rotation=45)\n",
    "    plt.title(f'Predição usando {modelo}')\n",
    "    plt.xlabel('Tempo')\n",
    "    plt.ylabel('Valor ação')\n",
    "    plt.legend()\n",
    "    plt.savefig(f\"grafico_train_test.png\",dpi=300, bbox_inches='tight')\n",
    "    plt.show()\n",
    "\n",
    "def plotar_testes_1000(y_test,y_pred,tam,modelo):\n",
    "    #Predicted vs True Adj Close Value – LSTM\n",
    "    base = int(tam*0.1)\n",
    "    plt.plot(y_test[-tam:-1].values.ravel(), label='Valor real')\n",
    "    plt.plot(y_pred[-tam:-1], label= f'{modelo} predição')\n",
    "    plt.xticks(range(0,y_test[-tam:-1].shape[0],base),y_test[-tam:-1].index[::base],rotation=45)\n",
    "    plt.title(f'Predição usando {modelo}')\n",
    "    plt.xlabel('Tempo')\n",
    "    plt.ylabel('Valor ação')\n",
    "    plt.legend()\n",
    "    plt.savefig(f\"-1000.png\",dpi=300, bbox_inches='tight')\n",
    "    plt.show()\n",
    "\n",
    "from sklearn.metrics import mean_squared_error\n",
    "from sklearn.metrics import mean_absolute_percentage_error\n",
    "\n",
    "\n",
    "def erros(y_test, y_pred):\n",
    "    mape = mean_absolute_percentage_error(y_test, y_pred)\n",
    "    print(f\"MAPE: {mape*100:.5f}%\")\n",
    "    \n",
    "    mse = mean_squared_error(y_test, y_pred)\n",
    "    print(f\"MSE: {mse:.2f}\")"
   ]
  },
  {
   "cell_type": "code",
   "execution_count": 21,
   "id": "38885e87",
   "metadata": {
    "execution": {
     "iopub.execute_input": "2022-09-12T23:20:28.656854Z",
     "iopub.status.busy": "2022-09-12T23:20:28.655837Z",
     "iopub.status.idle": "2022-09-12T23:20:32.428683Z",
     "shell.execute_reply": "2022-09-12T23:20:32.427354Z"
    },
    "papermill": {
     "duration": 3.78555,
     "end_time": "2022-09-12T23:20:32.431189",
     "exception": false,
     "start_time": "2022-09-12T23:20:28.645639",
     "status": "completed"
    },
    "tags": []
   },
   "outputs": [
    {
     "name": "stderr",
     "output_type": "stream",
     "text": [
      "2022-09-12 23:20:28.718445: I tensorflow/compiler/mlir/mlir_graph_optimization_pass.cc:185] None of the MLIR Optimization Passes are enabled (registered 2)\n"
     ]
    },
    {
     "data": {
      "image/png": "[encoded data removed]",
      "text/plain": [
       "<Figure size 432x288 with 1 Axes>"
      ]
     },
     "metadata": {
      "needs_background": "light"
     },
     "output_type": "display_data"
    },
    {
     "data": {
      "image/png": "[encoded data removed]",
      "text/plain": [
       "<Figure size 432x288 with 1 Axes>"
      ]
     },
     "metadata": {
      "needs_background": "light"
     },
     "output_type": "display_data"
    },
    {
     "name": "stdout",
     "output_type": "stream",
     "text": [
      "MAPE: 0.01020%\n",
      "MSE: 312.33\n"
     ]
    }
   ],
   "source": [
    "#LSTM Prediction\n",
    "#y_pred= model.predict(X_test.reshape((1,3,1)))\n",
    "y_pred= model.predict(X_test)\n",
    "# print(y_pred)\n",
    "# plt.plot(y_pred)\n",
    "plotar_testes(y_test,y_pred,'LSTM')\n",
    "plotar_testes_1000(y_test,y_pred,100,'LSTM')\n",
    "erros(y_test, y_pred)"
   ]
  },
  {
   "cell_type": "code",
   "execution_count": 22,
   "id": "adeb35ac",
   "metadata": {
    "execution": {
     "iopub.execute_input": "2022-09-12T23:20:32.453879Z",
     "iopub.status.busy": "2022-09-12T23:20:32.453055Z",
     "iopub.status.idle": "2022-09-12T23:20:32.464127Z",
     "shell.execute_reply": "2022-09-12T23:20:32.462926Z"
    },
    "papermill": {
     "duration": 0.024782,
     "end_time": "2022-09-12T23:20:32.466336",
     "exception": false,
     "start_time": "2022-09-12T23:20:32.441554",
     "status": "completed"
    },
    "tags": []
   },
   "outputs": [
    {
     "data": {
      "text/plain": [
       "Date\n",
       "2022-08-12 13:30:41    111830.0\n",
       "2022-08-12 13:30:42    111830.0\n",
       "2022-08-12 13:30:43    111825.0\n",
       "2022-08-12 13:30:44    111830.0\n",
       "2022-08-12 13:30:45    111825.0\n",
       "                         ...   \n",
       "2022-08-15 17:50:55    113235.0\n",
       "2022-08-15 17:50:56    113230.0\n",
       "2022-08-15 17:50:57    113235.0\n",
       "2022-08-15 17:50:58    113230.0\n",
       "2022-08-15 17:50:59    113230.0\n",
       "Name: Close, Length: 47238, dtype: float64"
      ]
     },
     "execution_count": 22,
     "metadata": {},
     "output_type": "execute_result"
    }
   ],
   "source": [
    "y_test"
   ]
  },
  {
   "cell_type": "code",
   "execution_count": null,
   "id": "dd5c69cb",
   "metadata": {
    "papermill": {
     "duration": 0.010034,
     "end_time": "2022-09-12T23:20:32.487030",
     "exception": false,
     "start_time": "2022-09-12T23:20:32.476996",
     "status": "completed"
    },
    "tags": []
   },
   "outputs": [],
   "source": []
  }
 ],
 "metadata": {
  "kernelspec": {
   "display_name": "Python 3",
   "language": "python",
   "name": "python3"
  },
  "language_info": {
   "codemirror_mode": {
    "name": "ipython",
    "version": 3
   },
   "file_extension": ".py",
   "mimetype": "text/x-python",
   "name": "python",
   "nbconvert_exporter": "python",
   "pygments_lexer": "ipython3",
   "version": "3.7.12"
  },
  "papermill": {
   "default_parameters": {},
   "duration": 27.213688,
   "end_time": "2022-09-12T23:20:35.767446",
   "environment_variables": {},
   "exception": null,
   "input_path": "__notebook__.ipynb",
   "output_path": "__notebook__.ipynb",
   "parameters": {},
   "start_time": "2022-09-12T23:20:08.553758",
   "version": "2.3.4"
  }
 },
 "nbformat": 4,
 "nbformat_minor": 5
}
