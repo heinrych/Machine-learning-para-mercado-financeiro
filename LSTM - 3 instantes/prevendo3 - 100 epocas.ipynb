{
 "cells": [
  {
   "cell_type": "code",
   "execution_count": 1,
   "id": "87ea6f43",
   "metadata": {
    "_cell_guid": "b1076dfc-b9ad-4769-8c92-a6c4dae69d19",
    "_uuid": "8f2839f25d086af736a60e9eeb907d3b93b6e0e5",
    "execution": {
     "iopub.execute_input": "2022-09-13T00:17:10.449545Z",
     "iopub.status.busy": "2022-09-13T00:17:10.449046Z",
     "iopub.status.idle": "2022-09-13T00:17:10.461155Z",
     "shell.execute_reply": "2022-09-13T00:17:10.460042Z"
    },
    "papermill": {
     "duration": 0.026969,
     "end_time": "2022-09-13T00:17:10.464023",
     "exception": false,
     "start_time": "2022-09-13T00:17:10.437054",
     "status": "completed"
    },
    "tags": []
   },
   "outputs": [],
   "source": [
    "# This Python 3 environment comes with many helpful analytics libraries installed\n",
    "# It is defined by the kaggle/python Docker image: https://github.com/kaggle/docker-python\n",
    "# For example, here's several helpful packages to load\n",
    "\n",
    "import numpy as np # linear algebra\n",
    "import pandas as pd # data processing, CSV file I/O (e.g. pd.read_csv)\n",
    "\n",
    "# Input data files are available in the read-only \"../input/\" directory\n",
    "# For example, running this (by clicking run or pressing Shift+Enter) will list all files under the input directory\n",
    "\n",
    "import os\n",
    "\n",
    "# You can write up to 20GB to the current directory (/kaggle/working/) that gets preserved as output when you create a version using \"Save & Run All\" \n",
    "# You can also write temporary files to /kaggle/temp/, but they won't be saved outside of the current session"
   ]
  },
  {
   "cell_type": "code",
   "execution_count": 2,
   "id": "dba2f498",
   "metadata": {
    "execution": {
     "iopub.execute_input": "2022-09-13T00:17:10.480210Z",
     "iopub.status.busy": "2022-09-13T00:17:10.479331Z",
     "iopub.status.idle": "2022-09-13T00:17:17.992404Z",
     "shell.execute_reply": "2022-09-13T00:17:17.990953Z"
    },
    "papermill": {
     "duration": 7.524794,
     "end_time": "2022-09-13T00:17:17.995921",
     "exception": false,
     "start_time": "2022-09-13T00:17:10.471127",
     "status": "completed"
    },
    "tags": []
   },
   "outputs": [],
   "source": [
    "# import yfinance as yf\n",
    "import pandas as pd\n",
    "import numpy as np\n",
    "from sklearn.preprocessing import StandardScaler  \n",
    "import matplotlib.pyplot as plt\n",
    "from sklearn.model_selection import train_test_split\n",
    "from collections import Counter\n",
    "\n",
    "from keras. utils.vis_utils import plot_model\n"
   ]
  },
  {
   "cell_type": "code",
   "execution_count": 3,
   "id": "d097bca8",
   "metadata": {
    "execution": {
     "iopub.execute_input": "2022-09-13T00:17:18.013056Z",
     "iopub.status.busy": "2022-09-13T00:17:18.011503Z",
     "iopub.status.idle": "2022-09-13T00:17:18.025368Z",
     "shell.execute_reply": "2022-09-13T00:17:18.023755Z"
    },
    "papermill": {
     "duration": 0.025395,
     "end_time": "2022-09-13T00:17:18.028494",
     "exception": false,
     "start_time": "2022-09-13T00:17:18.003099",
     "status": "completed"
    },
    "tags": []
   },
   "outputs": [],
   "source": [
    "def plotar_testes(y_test,y_pred,modelo):\n",
    "    #Predicted vs True Adj Close Value – LSTM\n",
    "    plt.plot(y_test.values.ravel(), label='Valor real')\n",
    "    plt.plot(y_pred, label= f'{modelo} predição')\n",
    "    plt.xticks(range(0,y_test.shape[0],5000),y_test.index[::5000],rotation=45)\n",
    "    plt.title(f'Predição usando {modelo}')\n",
    "    plt.xlabel('Tempo')\n",
    "    plt.ylabel('Valor ação')\n",
    "    plt.legend()\n",
    "    plt.savefig(f\"grafico_train_test.png\",dpi=300, bbox_inches='tight')\n",
    "    plt.show()\n",
    "\n",
    "def plotar_testes_1000(y_test,y_pred,tam,modelo):\n",
    "    #Predicted vs True Adj Close Value – LSTM\n",
    "    base = int(tam*0.1)\n",
    "    plt.plot(y_test[-tam:-1].values.ravel(), label='Valor real')\n",
    "    plt.plot(y_pred[-tam:-1], label= f'{modelo} predição')\n",
    "    plt.xticks(range(0,y_test[-tam:-1].shape[0],base),y_test[-tam:-1].index[::base],rotation=45)\n",
    "    plt.title(f'Predição usando {modelo}')\n",
    "    plt.xlabel('Tempo')\n",
    "    plt.ylabel('Valor ação')\n",
    "    plt.legend()\n",
    "    plt.savefig(f\"-1000.png\",dpi=300, bbox_inches='tight')\n",
    "    plt.show()\n",
    "\n",
    "from sklearn.metrics import mean_squared_error\n",
    "from sklearn.metrics import mean_absolute_percentage_error\n",
    "\n",
    "\n",
    "def erros(y_test, y_pred):\n",
    "    mape = mean_absolute_percentage_error(y_test, y_pred)\n",
    "    print(f\"MAPE: {mape*100:.5f}%\")\n",
    "    \n",
    "    mse = mean_squared_error(y_test, y_pred)\n",
    "    print(f\"MSE: {mse:.2f}\")"
   ]
  },
  {
   "cell_type": "code",
   "execution_count": 4,
   "id": "8e572530",
   "metadata": {
    "execution": {
     "iopub.execute_input": "2022-09-13T00:17:18.043705Z",
     "iopub.status.busy": "2022-09-13T00:17:18.043295Z",
     "iopub.status.idle": "2022-09-13T00:17:18.507711Z",
     "shell.execute_reply": "2022-09-13T00:17:18.506404Z"
    },
    "papermill": {
     "duration": 0.47507,
     "end_time": "2022-09-13T00:17:18.510367",
     "exception": false,
     "start_time": "2022-09-13T00:17:18.035297",
     "status": "completed"
    },
    "tags": []
   },
   "outputs": [
    {
     "data": {
      "text/html": [
       "<div>\n",
       "<style scoped>\n",
       "    .dataframe tbody tr th:only-of-type {\n",
       "        vertical-align: middle;\n",
       "    }\n",
       "\n",
       "    .dataframe tbody tr th {\n",
       "        vertical-align: top;\n",
       "    }\n",
       "\n",
       "    .dataframe thead th {\n",
       "        text-align: right;\n",
       "    }\n",
       "</style>\n",
       "<table border=\"1\" class=\"dataframe\">\n",
       "  <thead>\n",
       "    <tr style=\"text-align: right;\">\n",
       "      <th></th>\n",
       "      <th>Open</th>\n",
       "      <th>Hight</th>\n",
       "      <th>Low</th>\n",
       "      <th>Close</th>\n",
       "      <th>Ticket</th>\n",
       "      <th>Volume</th>\n",
       "      <th>mm5d</th>\n",
       "      <th>mm21d</th>\n",
       "    </tr>\n",
       "    <tr>\n",
       "      <th>Date</th>\n",
       "      <th></th>\n",
       "      <th></th>\n",
       "      <th></th>\n",
       "      <th></th>\n",
       "      <th></th>\n",
       "      <th></th>\n",
       "      <th></th>\n",
       "      <th></th>\n",
       "    </tr>\n",
       "  </thead>\n",
       "  <tbody>\n",
       "    <tr>\n",
       "      <th>2022-08-09 09:03:20</th>\n",
       "      <td>109025.0</td>\n",
       "      <td>109030.0</td>\n",
       "      <td>108970.0</td>\n",
       "      <td>109015.0</td>\n",
       "      <td>4384</td>\n",
       "      <td>11805</td>\n",
       "      <td>109011.0</td>\n",
       "      <td>108994.523810</td>\n",
       "    </tr>\n",
       "    <tr>\n",
       "      <th>2022-08-09 09:03:21</th>\n",
       "      <td>109025.0</td>\n",
       "      <td>109030.0</td>\n",
       "      <td>108970.0</td>\n",
       "      <td>109005.0</td>\n",
       "      <td>4488</td>\n",
       "      <td>12000</td>\n",
       "      <td>109010.0</td>\n",
       "      <td>108993.333333</td>\n",
       "    </tr>\n",
       "    <tr>\n",
       "      <th>2022-08-09 09:03:22</th>\n",
       "      <td>109025.0</td>\n",
       "      <td>109030.0</td>\n",
       "      <td>108970.0</td>\n",
       "      <td>108985.0</td>\n",
       "      <td>4777</td>\n",
       "      <td>12855</td>\n",
       "      <td>109004.0</td>\n",
       "      <td>108991.428571</td>\n",
       "    </tr>\n",
       "    <tr>\n",
       "      <th>2022-08-09 09:03:23</th>\n",
       "      <td>109025.0</td>\n",
       "      <td>109030.0</td>\n",
       "      <td>108970.0</td>\n",
       "      <td>108985.0</td>\n",
       "      <td>4847</td>\n",
       "      <td>12961</td>\n",
       "      <td>108999.0</td>\n",
       "      <td>108991.428571</td>\n",
       "    </tr>\n",
       "    <tr>\n",
       "      <th>2022-08-09 09:03:24</th>\n",
       "      <td>109025.0</td>\n",
       "      <td>109030.0</td>\n",
       "      <td>108970.0</td>\n",
       "      <td>108980.0</td>\n",
       "      <td>4983</td>\n",
       "      <td>13308</td>\n",
       "      <td>108994.0</td>\n",
       "      <td>108990.952381</td>\n",
       "    </tr>\n",
       "    <tr>\n",
       "      <th>...</th>\n",
       "      <td>...</td>\n",
       "      <td>...</td>\n",
       "      <td>...</td>\n",
       "      <td>...</td>\n",
       "      <td>...</td>\n",
       "      <td>...</td>\n",
       "      <td>...</td>\n",
       "      <td>...</td>\n",
       "    </tr>\n",
       "    <tr>\n",
       "      <th>2022-08-15 17:50:55</th>\n",
       "      <td>113265.0</td>\n",
       "      <td>113280.0</td>\n",
       "      <td>113235.0</td>\n",
       "      <td>113235.0</td>\n",
       "      <td>2271</td>\n",
       "      <td>7924</td>\n",
       "      <td>113240.0</td>\n",
       "      <td>113241.428571</td>\n",
       "    </tr>\n",
       "    <tr>\n",
       "      <th>2022-08-15 17:50:56</th>\n",
       "      <td>113265.0</td>\n",
       "      <td>113280.0</td>\n",
       "      <td>113230.0</td>\n",
       "      <td>113230.0</td>\n",
       "      <td>2377</td>\n",
       "      <td>8206</td>\n",
       "      <td>113238.0</td>\n",
       "      <td>113240.476190</td>\n",
       "    </tr>\n",
       "    <tr>\n",
       "      <th>2022-08-15 17:50:57</th>\n",
       "      <td>113265.0</td>\n",
       "      <td>113280.0</td>\n",
       "      <td>113230.0</td>\n",
       "      <td>113235.0</td>\n",
       "      <td>2409</td>\n",
       "      <td>8287</td>\n",
       "      <td>113236.0</td>\n",
       "      <td>113240.000000</td>\n",
       "    </tr>\n",
       "    <tr>\n",
       "      <th>2022-08-15 17:50:58</th>\n",
       "      <td>113265.0</td>\n",
       "      <td>113280.0</td>\n",
       "      <td>113230.0</td>\n",
       "      <td>113230.0</td>\n",
       "      <td>2424</td>\n",
       "      <td>8326</td>\n",
       "      <td>113234.0</td>\n",
       "      <td>113239.285714</td>\n",
       "    </tr>\n",
       "    <tr>\n",
       "      <th>2022-08-15 17:50:59</th>\n",
       "      <td>113265.0</td>\n",
       "      <td>113280.0</td>\n",
       "      <td>113230.0</td>\n",
       "      <td>113230.0</td>\n",
       "      <td>2464</td>\n",
       "      <td>8429</td>\n",
       "      <td>113232.0</td>\n",
       "      <td>113238.333333</td>\n",
       "    </tr>\n",
       "  </tbody>\n",
       "</table>\n",
       "<p>157460 rows × 8 columns</p>\n",
       "</div>"
      ],
      "text/plain": [
       "                         Open     Hight       Low     Close  Ticket  Volume  \\\n",
       "Date                                                                          \n",
       "2022-08-09 09:03:20  109025.0  109030.0  108970.0  109015.0    4384   11805   \n",
       "2022-08-09 09:03:21  109025.0  109030.0  108970.0  109005.0    4488   12000   \n",
       "2022-08-09 09:03:22  109025.0  109030.0  108970.0  108985.0    4777   12855   \n",
       "2022-08-09 09:03:23  109025.0  109030.0  108970.0  108985.0    4847   12961   \n",
       "2022-08-09 09:03:24  109025.0  109030.0  108970.0  108980.0    4983   13308   \n",
       "...                       ...       ...       ...       ...     ...     ...   \n",
       "2022-08-15 17:50:55  113265.0  113280.0  113235.0  113235.0    2271    7924   \n",
       "2022-08-15 17:50:56  113265.0  113280.0  113230.0  113230.0    2377    8206   \n",
       "2022-08-15 17:50:57  113265.0  113280.0  113230.0  113235.0    2409    8287   \n",
       "2022-08-15 17:50:58  113265.0  113280.0  113230.0  113230.0    2424    8326   \n",
       "2022-08-15 17:50:59  113265.0  113280.0  113230.0  113230.0    2464    8429   \n",
       "\n",
       "                         mm5d          mm21d  \n",
       "Date                                          \n",
       "2022-08-09 09:03:20  109011.0  108994.523810  \n",
       "2022-08-09 09:03:21  109010.0  108993.333333  \n",
       "2022-08-09 09:03:22  109004.0  108991.428571  \n",
       "2022-08-09 09:03:23  108999.0  108991.428571  \n",
       "2022-08-09 09:03:24  108994.0  108990.952381  \n",
       "...                       ...            ...  \n",
       "2022-08-15 17:50:55  113240.0  113241.428571  \n",
       "2022-08-15 17:50:56  113238.0  113240.476190  \n",
       "2022-08-15 17:50:57  113236.0  113240.000000  \n",
       "2022-08-15 17:50:58  113234.0  113239.285714  \n",
       "2022-08-15 17:50:59  113232.0  113238.333333  \n",
       "\n",
       "[157460 rows x 8 columns]"
      ]
     },
     "execution_count": 4,
     "metadata": {},
     "output_type": "execute_result"
    }
   ],
   "source": [
    "#data = pd.read_csv(\"../input/winq22/WINQ22_SPREAD_1.csv\",sep=\";\")\n",
    "data = pd.read_csv(\"../input/winq22-process/submission_example.csv\",\n",
    "                  #skiprows = range(30001, 3119977), # ignora as primeiras 10 linhas do excel\n",
    "                  )\n",
    "df = pd.DataFrame(data)\n",
    "# df = df.reset_index()\n",
    "df.shape\n",
    "\n",
    "#Criando o Dataframe\n",
    "df.sort_index(ascending=True, axis=0)\n",
    "data = df.sort_index(ascending=True, axis=0)\n",
    "\n",
    "#Colocando data como índice\n",
    "df.index = df.Date\n",
    "df.drop('Date', axis=1, inplace=True)\n",
    "\n",
    "df.head()\n",
    "\n",
    "df['mm5d'] = df['Close'].rolling(5).mean()\n",
    "df['mm21d'] = df['Close'].rolling(21).mean()\n",
    "\n",
    "#retirando os dados nulos\n",
    "df.dropna(inplace=True)\n",
    "df"
   ]
  },
  {
   "cell_type": "code",
   "execution_count": 5,
   "id": "d5b2feec",
   "metadata": {
    "execution": {
     "iopub.execute_input": "2022-09-13T00:17:18.525665Z",
     "iopub.status.busy": "2022-09-13T00:17:18.525265Z",
     "iopub.status.idle": "2022-09-13T00:17:18.926566Z",
     "shell.execute_reply": "2022-09-13T00:17:18.925356Z"
    },
    "papermill": {
     "duration": 0.412531,
     "end_time": "2022-09-13T00:17:18.929729",
     "exception": false,
     "start_time": "2022-09-13T00:17:18.517198",
     "status": "completed"
    },
    "tags": []
   },
   "outputs": [
    {
     "data": {
      "image/png": "[encoded data removed]",
      "text/plain": [
       "<Figure size 1296x648 with 1 Axes>"
      ]
     },
     "metadata": {
      "needs_background": "light"
     },
     "output_type": "display_data"
    }
   ],
   "source": [
    "plt.figure(figsize = (18,9))\n",
    "plt.plot(range(df.shape[0]),(df['Close']))\n",
    "plt.xticks(range(0,df.shape[0],10000),df.index[::10000],rotation=45)\n",
    "plt.xlabel('Date',fontsize=18)\n",
    "plt.ylabel('Mid Price',fontsize=18)\n",
    "plt.show()"
   ]
  },
  {
   "cell_type": "code",
   "execution_count": 6,
   "id": "7465ff5a",
   "metadata": {
    "execution": {
     "iopub.execute_input": "2022-09-13T00:17:18.948358Z",
     "iopub.status.busy": "2022-09-13T00:17:18.947539Z",
     "iopub.status.idle": "2022-09-13T00:17:18.953005Z",
     "shell.execute_reply": "2022-09-13T00:17:18.952152Z"
    },
    "papermill": {
     "duration": 0.017036,
     "end_time": "2022-09-13T00:17:18.955331",
     "exception": false,
     "start_time": "2022-09-13T00:17:18.938295",
     "status": "completed"
    },
    "tags": []
   },
   "outputs": [],
   "source": [
    "#Importando as libraries\n",
    "from sklearn.preprocessing import MinMaxScaler\n",
    "from keras.models import Sequential\n",
    "from keras.layers import Dense, Dropout, LSTM"
   ]
  },
  {
   "cell_type": "markdown",
   "id": "54ff56b3",
   "metadata": {
    "papermill": {
     "duration": 0.007437,
     "end_time": "2022-09-13T00:17:18.970573",
     "exception": false,
     "start_time": "2022-09-13T00:17:18.963136",
     "status": "completed"
    },
    "tags": []
   },
   "source": [
    "# =============================================="
   ]
  },
  {
   "cell_type": "code",
   "execution_count": 7,
   "id": "d84e86ae",
   "metadata": {
    "execution": {
     "iopub.execute_input": "2022-09-13T00:17:18.989132Z",
     "iopub.status.busy": "2022-09-13T00:17:18.988316Z",
     "iopub.status.idle": "2022-09-13T00:17:18.999901Z",
     "shell.execute_reply": "2022-09-13T00:17:18.999062Z"
    },
    "papermill": {
     "duration": 0.023542,
     "end_time": "2022-09-13T00:17:19.002377",
     "exception": false,
     "start_time": "2022-09-13T00:17:18.978835",
     "status": "completed"
    },
    "tags": []
   },
   "outputs": [],
   "source": [
    "features = df.loc[:,['Open', 'Hight', 'Low', 'Ticket','Volume','mm5d','mm21d']]\n",
    "y_output = df['Close']"
   ]
  },
  {
   "cell_type": "code",
   "execution_count": 8,
   "id": "ad02bacb",
   "metadata": {
    "execution": {
     "iopub.execute_input": "2022-09-13T00:17:19.020465Z",
     "iopub.status.busy": "2022-09-13T00:17:19.019791Z",
     "iopub.status.idle": "2022-09-13T00:17:19.036442Z",
     "shell.execute_reply": "2022-09-13T00:17:19.035213Z"
    },
    "papermill": {
     "duration": 0.029399,
     "end_time": "2022-09-13T00:17:19.039487",
     "exception": false,
     "start_time": "2022-09-13T00:17:19.010088",
     "status": "completed"
    },
    "tags": []
   },
   "outputs": [
    {
     "name": "stdout",
     "output_type": "stream",
     "text": [
      "110222 110222\n",
      "47238 47238\n"
     ]
    }
   ],
   "source": [
    "split_percentage = 0.7\n",
    "split = int(split_percentage*len(df))\n",
    "  \n",
    "# Train data set\n",
    "X_train = features[:split]\n",
    "y_train = y_output[:split]\n",
    "  \n",
    "# Test data set\n",
    "X_test = features[split:]\n",
    "y_test = y_output[split:]\n",
    "\n",
    "print( len(X_train), len(y_train))\n",
    "print( len(X_test), len(y_test))"
   ]
  },
  {
   "cell_type": "code",
   "execution_count": 9,
   "id": "1fd6ea23",
   "metadata": {
    "execution": {
     "iopub.execute_input": "2022-09-13T00:17:19.059138Z",
     "iopub.status.busy": "2022-09-13T00:17:19.058247Z",
     "iopub.status.idle": "2022-09-13T00:17:19.063375Z",
     "shell.execute_reply": "2022-09-13T00:17:19.062422Z"
    },
    "papermill": {
     "duration": 0.016718,
     "end_time": "2022-09-13T00:17:19.065637",
     "exception": false,
     "start_time": "2022-09-13T00:17:19.048919",
     "status": "completed"
    },
    "tags": []
   },
   "outputs": [],
   "source": [
    "# # Normalizando os dados de entrada(features)\n",
    "\n",
    "# # Gerando o novo padrão\n",
    "# scaler = StandardScaler()\n",
    "# X_train_scale = scaler.fit_transform(X_train)  # Normalizando os dados de entrada(treinamento)\n",
    "# X_test_scale  = scaler.transform(X_test)       # Normalizando os dados de entrada(teste)"
   ]
  },
  {
   "cell_type": "code",
   "execution_count": 10,
   "id": "354b8043",
   "metadata": {
    "execution": {
     "iopub.execute_input": "2022-09-13T00:17:19.084352Z",
     "iopub.status.busy": "2022-09-13T00:17:19.083724Z",
     "iopub.status.idle": "2022-09-13T00:17:19.112640Z",
     "shell.execute_reply": "2022-09-13T00:17:19.111146Z"
    },
    "papermill": {
     "duration": 0.04168,
     "end_time": "2022-09-13T00:17:19.115822",
     "exception": false,
     "start_time": "2022-09-13T00:17:19.074142",
     "status": "completed"
    },
    "tags": []
   },
   "outputs": [],
   "source": [
    "# Normalizando os dados de entrada(features)\n",
    "\n",
    "# Gerando o novo padrão\n",
    "scaler = MinMaxScaler()\n",
    "X_train_scale = scaler.fit_transform(X_train)  # Normalizando os dados de entrada(treinamento)\n",
    "X_test_scale  = scaler.transform(X_test)       # Normalizando os dados de entrada(teste)"
   ]
  },
  {
   "cell_type": "code",
   "execution_count": 11,
   "id": "841e53d6",
   "metadata": {
    "execution": {
     "iopub.execute_input": "2022-09-13T00:17:19.134287Z",
     "iopub.status.busy": "2022-09-13T00:17:19.133532Z",
     "iopub.status.idle": "2022-09-13T00:17:19.140565Z",
     "shell.execute_reply": "2022-09-13T00:17:19.139178Z"
    },
    "papermill": {
     "duration": 0.019866,
     "end_time": "2022-09-13T00:17:19.143862",
     "exception": false,
     "start_time": "2022-09-13T00:17:19.123996",
     "status": "completed"
    },
    "tags": []
   },
   "outputs": [
    {
     "name": "stdout",
     "output_type": "stream",
     "text": [
      "(110222, 7) (47238, 7)\n"
     ]
    }
   ],
   "source": [
    "print(X_train.shape, X_test.shape)"
   ]
  },
  {
   "cell_type": "code",
   "execution_count": 12,
   "id": "3c4f6532",
   "metadata": {
    "execution": {
     "iopub.execute_input": "2022-09-13T00:17:19.163520Z",
     "iopub.status.busy": "2022-09-13T00:17:19.163125Z",
     "iopub.status.idle": "2022-09-13T00:17:19.176398Z",
     "shell.execute_reply": "2022-09-13T00:17:19.175029Z"
    },
    "papermill": {
     "duration": 0.02712,
     "end_time": "2022-09-13T00:17:19.179488",
     "exception": false,
     "start_time": "2022-09-13T00:17:19.152368",
     "status": "completed"
    },
    "tags": []
   },
   "outputs": [],
   "source": [
    "#Process the data for LSTM\n",
    "trainX =np.array(X_train_scale)\n",
    "testX =np.array(X_test_scale)\n",
    "X_train = trainX.reshape(X_train_scale.shape[0], 1, X_train_scale.shape[1])\n",
    "X_test = testX.reshape(X_test_scale.shape[0], 1, X_test_scale.shape[1])"
   ]
  },
  {
   "cell_type": "code",
   "execution_count": 13,
   "id": "b00df38f",
   "metadata": {
    "execution": {
     "iopub.execute_input": "2022-09-13T00:17:19.198844Z",
     "iopub.status.busy": "2022-09-13T00:17:19.198451Z",
     "iopub.status.idle": "2022-09-13T00:17:20.648305Z",
     "shell.execute_reply": "2022-09-13T00:17:20.646400Z"
    },
    "papermill": {
     "duration": 1.463857,
     "end_time": "2022-09-13T00:17:20.651558",
     "exception": false,
     "start_time": "2022-09-13T00:17:19.187701",
     "status": "completed"
    },
    "tags": []
   },
   "outputs": [
    {
     "name": "stderr",
     "output_type": "stream",
     "text": [
      "2022-09-13 00:17:19.241849: I tensorflow/core/common_runtime/process_util.cc:146] Creating new thread pool with default inter op setting: 2. Tune using inter_op_parallelism_threads for best performance.\n"
     ]
    },
    {
     "data": {
      "image/png": "[encoded data removed]",
      "text/plain": [
       "<IPython.core.display.Image object>"
      ]
     },
     "execution_count": 13,
     "metadata": {},
     "output_type": "execute_result"
    }
   ],
   "source": [
    "# Criando o modelo LSTM\n",
    "# model = Sequential()\n",
    "# model.add(LSTM(units=50, return_sequences=True, input_shape=(X_train.shape[1],1)))\n",
    "\n",
    "# model.add(LSTM(units=50))\n",
    "from keras.layers import Input\n",
    "\n",
    "output_size = 3\n",
    "\n",
    "model = Sequential()\n",
    "model.add(LSTM(32, input_shape=(1, trainX.shape[1]), activation='relu', return_sequences=False))\n",
    "model.add(Dense(output_size))\n",
    "model.compile(loss='mean_squared_error', optimizer='adam')\n",
    "plot_model(model, show_shapes=True, show_layer_names=True)"
   ]
  },
  {
   "cell_type": "code",
   "execution_count": 14,
   "id": "7da7a48a",
   "metadata": {
    "execution": {
     "iopub.execute_input": "2022-09-13T00:17:20.673280Z",
     "iopub.status.busy": "2022-09-13T00:17:20.672445Z",
     "iopub.status.idle": "2022-09-13T01:12:27.296653Z",
     "shell.execute_reply": "2022-09-13T01:12:27.294623Z"
    },
    "papermill": {
     "duration": 3306.638398,
     "end_time": "2022-09-13T01:12:27.299404",
     "exception": false,
     "start_time": "2022-09-13T00:17:20.661006",
     "status": "completed"
    },
    "tags": []
   },
   "outputs": [
    {
     "name": "stderr",
     "output_type": "stream",
     "text": [
      "2022-09-13 00:17:20.767494: I tensorflow/compiler/mlir/mlir_graph_optimization_pass.cc:185] None of the MLIR Optimization Passes are enabled (registered 2)\n"
     ]
    },
    {
     "name": "stdout",
     "output_type": "stream",
     "text": [
      "Epoch 1/100\n",
      "13778/13778 [==============================] - 34s 2ms/step - loss: 10787676160.0000 - val_loss: 7482316800.0000\n",
      "Epoch 2/100\n",
      "13778/13778 [==============================] - 34s 2ms/step - loss: 6662645760.0000 - val_loss: 1025808576.0000\n",
      "Epoch 3/100\n",
      "13778/13778 [==============================] - 32s 2ms/step - loss: 2672093696.0000 - val_loss: 1426896000.0000\n",
      "Epoch 4/100\n",
      "13778/13778 [==============================] - 34s 2ms/step - loss: 1306802432.0000 - val_loss: 2275795456.0000\n",
      "Epoch 5/100\n",
      "13778/13778 [==============================] - 33s 2ms/step - loss: 1196275200.0000 - val_loss: 2228593408.0000\n",
      "Epoch 6/100\n",
      "13778/13778 [==============================] - 33s 2ms/step - loss: 1154746880.0000 - val_loss: 2143931008.0000\n",
      "Epoch 7/100\n",
      "13778/13778 [==============================] - 33s 2ms/step - loss: 1115294720.0000 - val_loss: 2057881216.0000\n",
      "Epoch 8/100\n",
      "13778/13778 [==============================] - 33s 2ms/step - loss: 1075778304.0000 - val_loss: 1971779072.0000\n",
      "Epoch 9/100\n",
      "13778/13778 [==============================] - 34s 3ms/step - loss: 1036109696.0000 - val_loss: 1885642112.0000\n",
      "Epoch 10/100\n",
      "13778/13778 [==============================] - 31s 2ms/step - loss: 996267264.0000 - val_loss: 1799495808.0000\n",
      "Epoch 11/100\n",
      "13778/13778 [==============================] - 33s 2ms/step - loss: 956252288.0000 - val_loss: 1713386752.0000\n",
      "Epoch 12/100\n",
      "13778/13778 [==============================] - 33s 2ms/step - loss: 916048768.0000 - val_loss: 1627318528.0000\n",
      "Epoch 13/100\n",
      "13778/13778 [==============================] - 33s 2ms/step - loss: 875665920.0000 - val_loss: 1541373056.0000\n",
      "Epoch 14/100\n",
      "13778/13778 [==============================] - 33s 2ms/step - loss: 835115520.0000 - val_loss: 1455574016.0000\n",
      "Epoch 15/100\n",
      "13778/13778 [==============================] - 33s 2ms/step - loss: 794433920.0000 - val_loss: 1370107776.0000\n",
      "Epoch 16/100\n",
      "13778/13778 [==============================] - 37s 3ms/step - loss: 753619200.0000 - val_loss: 1284984832.0000\n",
      "Epoch 17/100\n",
      "13778/13778 [==============================] - 32s 2ms/step - loss: 712753664.0000 - val_loss: 1200477824.0000\n",
      "Epoch 18/100\n",
      "13778/13778 [==============================] - 33s 2ms/step - loss: 671851008.0000 - val_loss: 1116696448.0000\n",
      "Epoch 19/100\n",
      "13778/13778 [==============================] - 32s 2ms/step - loss: 631003136.0000 - val_loss: 1033891776.0000\n",
      "Epoch 20/100\n",
      "13778/13778 [==============================] - 38s 3ms/step - loss: 590294144.0000 - val_loss: 952288256.0000\n",
      "Epoch 21/100\n",
      "13778/13778 [==============================] - 37s 3ms/step - loss: 549824128.0000 - val_loss: 872194944.0000\n",
      "Epoch 22/100\n",
      "13778/13778 [==============================] - 32s 2ms/step - loss: 509719328.0000 - val_loss: 793956480.0000\n",
      "Epoch 23/100\n",
      "13778/13778 [==============================] - 32s 2ms/step - loss: 470145600.0000 - val_loss: 717896128.0000\n",
      "Epoch 24/100\n",
      "13778/13778 [==============================] - 33s 2ms/step - loss: 431250048.0000 - val_loss: 644371968.0000\n",
      "Epoch 25/100\n",
      "13778/13778 [==============================] - 32s 2ms/step - loss: 393233376.0000 - val_loss: 573817280.0000\n",
      "Epoch 26/100\n",
      "13778/13778 [==============================] - 31s 2ms/step - loss: 356296128.0000 - val_loss: 506609216.0000\n",
      "Epoch 27/100\n",
      "13778/13778 [==============================] - 34s 2ms/step - loss: 320661600.0000 - val_loss: 443135072.0000\n",
      "Epoch 28/100\n",
      "13778/13778 [==============================] - 32s 2ms/step - loss: 286553792.0000 - val_loss: 383754432.0000\n",
      "Epoch 29/100\n",
      "13778/13778 [==============================] - 34s 2ms/step - loss: 254186576.0000 - val_loss: 328755424.0000\n",
      "Epoch 30/100\n",
      "13778/13778 [==============================] - 32s 2ms/step - loss: 223757968.0000 - val_loss: 278375712.0000\n",
      "Epoch 31/100\n",
      "13778/13778 [==============================] - 33s 2ms/step - loss: 195435488.0000 - val_loss: 232751616.0000\n",
      "Epoch 32/100\n",
      "13778/13778 [==============================] - 33s 2ms/step - loss: 169335856.0000 - val_loss: 191953152.0000\n",
      "Epoch 33/100\n",
      "13778/13778 [==============================] - 32s 2ms/step - loss: 145519136.0000 - val_loss: 155922592.0000\n",
      "Epoch 34/100\n",
      "13778/13778 [==============================] - 33s 2ms/step - loss: 123969528.0000 - val_loss: 124544504.0000\n",
      "Epoch 35/100\n",
      "13778/13778 [==============================] - 32s 2ms/step - loss: 104619560.0000 - val_loss: 97628080.0000\n",
      "Epoch 36/100\n",
      "13778/13778 [==============================] - 33s 2ms/step - loss: 87366792.0000 - val_loss: 74955896.0000\n",
      "Epoch 37/100\n",
      "13778/13778 [==============================] - 32s 2ms/step - loss: 72113136.0000 - val_loss: 56303396.0000\n",
      "Epoch 38/100\n",
      "13778/13778 [==============================] - 36s 3ms/step - loss: 58786996.0000 - val_loss: 41409328.0000\n",
      "Epoch 39/100\n",
      "13778/13778 [==============================] - 33s 2ms/step - loss: 47361256.0000 - val_loss: 29982234.0000\n",
      "Epoch 40/100\n",
      "13778/13778 [==============================] - 38s 3ms/step - loss: 37823756.0000 - val_loss: 21639016.0000\n",
      "Epoch 41/100\n",
      "13778/13778 [==============================] - 37s 3ms/step - loss: 30104348.0000 - val_loss: 15864637.0000\n",
      "Epoch 42/100\n",
      "13778/13778 [==============================] - 32s 2ms/step - loss: 24014010.0000 - val_loss: 12019806.0000\n",
      "Epoch 43/100\n",
      "13778/13778 [==============================] - 33s 2ms/step - loss: 19245794.0000 - val_loss: 9448548.0000\n",
      "Epoch 44/100\n",
      "13778/13778 [==============================] - 32s 2ms/step - loss: 15456424.0000 - val_loss: 7611887.5000\n",
      "Epoch 45/100\n",
      "13778/13778 [==============================] - 32s 2ms/step - loss: 12354734.0000 - val_loss: 6159705.0000\n",
      "Epoch 46/100\n",
      "13778/13778 [==============================] - 32s 2ms/step - loss: 9743190.0000 - val_loss: 4915803.5000\n",
      "Epoch 47/100\n",
      "13778/13778 [==============================] - 32s 2ms/step - loss: 7509341.5000 - val_loss: 3814196.7500\n",
      "Epoch 48/100\n",
      "13778/13778 [==============================] - 32s 2ms/step - loss: 5597809.0000 - val_loss: 2840829.0000\n",
      "Epoch 49/100\n",
      "13778/13778 [==============================] - 32s 2ms/step - loss: 3983936.2500 - val_loss: 1999745.1250\n",
      "Epoch 50/100\n",
      "13778/13778 [==============================] - 33s 2ms/step - loss: 2656816.7500 - val_loss: 1298712.5000\n",
      "Epoch 51/100\n",
      "13778/13778 [==============================] - 33s 2ms/step - loss: 1610098.3750 - val_loss: 745088.1250\n",
      "Epoch 52/100\n",
      "13778/13778 [==============================] - 32s 2ms/step - loss: 836977.5000 - val_loss: 344502.5938\n",
      "Epoch 53/100\n",
      "13778/13778 [==============================] - 36s 3ms/step - loss: 327337.7812 - val_loss: 99583.4609\n",
      "Epoch 54/100\n",
      "13778/13778 [==============================] - 33s 2ms/step - loss: 64320.0039 - val_loss: 4390.5010\n",
      "Epoch 55/100\n",
      "13778/13778 [==============================] - 32s 2ms/step - loss: 1124.2051 - val_loss: 1643.8213\n",
      "Epoch 56/100\n",
      "13778/13778 [==============================] - 33s 2ms/step - loss: 311.5820 - val_loss: 727.2334\n",
      "Epoch 57/100\n",
      "13778/13778 [==============================] - 32s 2ms/step - loss: 286.2091 - val_loss: 389.8696\n",
      "Epoch 58/100\n",
      "13778/13778 [==============================] - 33s 2ms/step - loss: 267.5207 - val_loss: 280.7967\n",
      "Epoch 59/100\n",
      "13778/13778 [==============================] - 33s 2ms/step - loss: 252.8017 - val_loss: 270.5511\n",
      "Epoch 60/100\n",
      "13778/13778 [==============================] - 33s 2ms/step - loss: 240.8406 - val_loss: 313.9660\n",
      "Epoch 61/100\n",
      "13778/13778 [==============================] - 32s 2ms/step - loss: 231.0470 - val_loss: 387.9539\n",
      "Epoch 62/100\n",
      "13778/13778 [==============================] - 32s 2ms/step - loss: 222.9160 - val_loss: 478.6528\n",
      "Epoch 63/100\n",
      "13778/13778 [==============================] - 32s 2ms/step - loss: 216.1084 - val_loss: 577.4742\n",
      "Epoch 64/100\n",
      "13778/13778 [==============================] - 32s 2ms/step - loss: 210.3526 - val_loss: 675.7534\n",
      "Epoch 65/100\n",
      "13778/13778 [==============================] - 32s 2ms/step - loss: 205.4044 - val_loss: 773.0825\n",
      "Epoch 66/100\n",
      "13778/13778 [==============================] - 32s 2ms/step - loss: 201.0980 - val_loss: 865.2760\n",
      "Epoch 67/100\n",
      "13778/13778 [==============================] - 33s 2ms/step - loss: 197.3020 - val_loss: 959.9210\n",
      "Epoch 68/100\n",
      "13778/13778 [==============================] - 31s 2ms/step - loss: 193.9230 - val_loss: 1048.2152\n",
      "Epoch 69/100\n",
      "13778/13778 [==============================] - 35s 3ms/step - loss: 190.8641 - val_loss: 1122.9922\n",
      "Epoch 70/100\n",
      "13778/13778 [==============================] - 32s 2ms/step - loss: 188.0063 - val_loss: 1181.4020\n",
      "Epoch 71/100\n",
      "13778/13778 [==============================] - 35s 3ms/step - loss: 185.2847 - val_loss: 1247.7782\n",
      "Epoch 72/100\n",
      "13778/13778 [==============================] - 33s 2ms/step - loss: 182.7760 - val_loss: 1306.0790\n",
      "Epoch 73/100\n",
      "13778/13778 [==============================] - 33s 2ms/step - loss: 180.3669 - val_loss: 1361.6689\n",
      "Epoch 74/100\n",
      "13778/13778 [==============================] - 33s 2ms/step - loss: 178.0655 - val_loss: 1410.2965\n",
      "Epoch 75/100\n",
      "13778/13778 [==============================] - 32s 2ms/step - loss: 175.8351 - val_loss: 1439.3324\n",
      "Epoch 76/100\n",
      "13778/13778 [==============================] - 32s 2ms/step - loss: 173.5766 - val_loss: 1485.6378\n",
      "Epoch 77/100\n",
      "13778/13778 [==============================] - 32s 2ms/step - loss: 171.4700 - val_loss: 1512.1136\n",
      "Epoch 78/100\n",
      "13778/13778 [==============================] - 39s 3ms/step - loss: 169.3399 - val_loss: 1538.7312\n",
      "Epoch 79/100\n",
      "13778/13778 [==============================] - 33s 2ms/step - loss: 167.2453 - val_loss: 1573.1843\n",
      "Epoch 80/100\n",
      "13778/13778 [==============================] - 33s 2ms/step - loss: 165.2560 - val_loss: 1608.5251\n",
      "Epoch 81/100\n",
      "13778/13778 [==============================] - 34s 2ms/step - loss: 163.3236 - val_loss: 1627.9181\n",
      "Epoch 82/100\n",
      "13778/13778 [==============================] - 34s 2ms/step - loss: 161.3197 - val_loss: 1654.1401\n",
      "Epoch 83/100\n",
      "13778/13778 [==============================] - 32s 2ms/step - loss: 159.4160 - val_loss: 1669.5596\n",
      "Epoch 84/100\n",
      "13778/13778 [==============================] - 33s 2ms/step - loss: 157.4885 - val_loss: 1691.3206\n",
      "Epoch 85/100\n",
      "13778/13778 [==============================] - 38s 3ms/step - loss: 155.6356 - val_loss: 1720.3169\n",
      "Epoch 86/100\n",
      "13778/13778 [==============================] - 32s 2ms/step - loss: 153.8608 - val_loss: 1736.3934\n",
      "Epoch 87/100\n",
      "13778/13778 [==============================] - 33s 2ms/step - loss: 152.0536 - val_loss: 1750.4799\n",
      "Epoch 88/100\n",
      "13778/13778 [==============================] - 33s 2ms/step - loss: 150.2634 - val_loss: 1760.4924\n",
      "Epoch 89/100\n",
      "13778/13778 [==============================] - 33s 2ms/step - loss: 148.4996 - val_loss: 1765.1064\n",
      "Epoch 90/100\n",
      "13778/13778 [==============================] - 32s 2ms/step - loss: 146.7314 - val_loss: 1775.9767\n",
      "Epoch 91/100\n",
      "13778/13778 [==============================] - 33s 2ms/step - loss: 145.0410 - val_loss: 1791.4788\n",
      "Epoch 92/100\n",
      "13778/13778 [==============================] - 33s 2ms/step - loss: 143.4172 - val_loss: 1809.7068\n",
      "Epoch 93/100\n",
      "13778/13778 [==============================] - 33s 2ms/step - loss: 141.8393 - val_loss: 1812.4338\n",
      "Epoch 94/100\n",
      "13778/13778 [==============================] - 33s 2ms/step - loss: 140.2049 - val_loss: 1824.4399\n",
      "Epoch 95/100\n",
      "13778/13778 [==============================] - 33s 2ms/step - loss: 138.6504 - val_loss: 1838.3102\n",
      "Epoch 96/100\n",
      "13778/13778 [==============================] - 34s 2ms/step - loss: 137.1515 - val_loss: 1846.4689\n",
      "Epoch 97/100\n",
      "13778/13778 [==============================] - 31s 2ms/step - loss: 135.6502 - val_loss: 1868.9720\n",
      "Epoch 98/100\n",
      "13778/13778 [==============================] - 34s 2ms/step - loss: 134.2855 - val_loss: 1868.5024\n",
      "Epoch 99/100\n",
      "13778/13778 [==============================] - 32s 2ms/step - loss: 132.8007 - val_loss: 1877.4200\n",
      "Epoch 100/100\n",
      "13778/13778 [==============================] - 34s 2ms/step - loss: 131.3969 - val_loss: 1893.2687\n"
     ]
    }
   ],
   "source": [
    "epocas = 100\n",
    "history = model.fit(X_train, y_train.values.ravel(), \n",
    "                    epochs=epocas,validation_data=(X_test, y_test), \n",
    "                    batch_size=8, verbose=1, shuffle=False)\n"
   ]
  },
  {
   "cell_type": "code",
   "execution_count": 15,
   "id": "4a844294",
   "metadata": {
    "execution": {
     "iopub.execute_input": "2022-09-13T01:12:34.630339Z",
     "iopub.status.busy": "2022-09-13T01:12:34.628670Z",
     "iopub.status.idle": "2022-09-13T01:12:34.638202Z",
     "shell.execute_reply": "2022-09-13T01:12:34.636982Z"
    },
    "papermill": {
     "duration": 3.734215,
     "end_time": "2022-09-13T01:12:34.641098",
     "exception": false,
     "start_time": "2022-09-13T01:12:30.906883",
     "status": "completed"
    },
    "tags": []
   },
   "outputs": [],
   "source": [
    "X_test_2 = X_test[range(0,len(X_test),output_size)]\n"
   ]
  },
  {
   "cell_type": "code",
   "execution_count": 16,
   "id": "c501779f",
   "metadata": {
    "execution": {
     "iopub.execute_input": "2022-09-13T01:12:41.812195Z",
     "iopub.status.busy": "2022-09-13T01:12:41.811832Z",
     "iopub.status.idle": "2022-09-13T01:12:42.522026Z",
     "shell.execute_reply": "2022-09-13T01:12:42.520992Z"
    },
    "papermill": {
     "duration": 4.260218,
     "end_time": "2022-09-13T01:12:42.524324",
     "exception": false,
     "start_time": "2022-09-13T01:12:38.264106",
     "status": "completed"
    },
    "tags": []
   },
   "outputs": [
    {
     "data": {
      "text/plain": [
       "(47238, 1)"
      ]
     },
     "execution_count": 16,
     "metadata": {},
     "output_type": "execute_result"
    }
   ],
   "source": [
    "\n",
    "y_pred= model.predict(X_test_2)\n",
    "y_pred.shape\n",
    "y_pred2 = np.reshape(y_pred,(len(y_test),1))\n",
    "y_pred2.shape"
   ]
  },
  {
   "cell_type": "code",
   "execution_count": 17,
   "id": "20a693a9",
   "metadata": {
    "execution": {
     "iopub.execute_input": "2022-09-13T01:12:49.874762Z",
     "iopub.status.busy": "2022-09-13T01:12:49.874268Z",
     "iopub.status.idle": "2022-09-13T01:12:51.772292Z",
     "shell.execute_reply": "2022-09-13T01:12:51.770495Z"
    },
    "papermill": {
     "duration": 5.48799,
     "end_time": "2022-09-13T01:12:51.775265",
     "exception": false,
     "start_time": "2022-09-13T01:12:46.287275",
     "status": "completed"
    },
    "tags": []
   },
   "outputs": [
    {
     "data": {
      "image/png": "[encoded data removed]",
      "text/plain": [
       "<Figure size 432x288 with 1 Axes>"
      ]
     },
     "metadata": {
      "needs_background": "light"
     },
     "output_type": "display_data"
    },
    {
     "data": {
      "image/png": "[encoded data removed]",
      "text/plain": [
       "<Figure size 432x288 with 1 Axes>"
      ]
     },
     "metadata": {
      "needs_background": "light"
     },
     "output_type": "display_data"
    },
    {
     "name": "stdout",
     "output_type": "stream",
     "text": [
      "MAPE: 0.03340%\n",
      "MSE: 1987.55\n"
     ]
    }
   ],
   "source": [
    "# #LSTM Prediction\n",
    "# #y_pred= model.predict(X_test.reshape((1,3,1)))\n",
    "# y_pred= model.predict(X_test)\n",
    "# # print(y_pred)\n",
    "# # plt.plot(y_pred)\n",
    "plotar_testes(y_test,y_pred2,'LSTM')\n",
    "plotar_testes_1000(y_test,y_pred2,100,'LSTM')\n",
    "erros(y_test, y_pred2)"
   ]
  },
  {
   "cell_type": "code",
   "execution_count": 18,
   "id": "a99dcfcf",
   "metadata": {
    "execution": {
     "iopub.execute_input": "2022-09-13T01:12:59.118084Z",
     "iopub.status.busy": "2022-09-13T01:12:59.117245Z",
     "iopub.status.idle": "2022-09-13T01:12:59.130655Z",
     "shell.execute_reply": "2022-09-13T01:12:59.129318Z"
    },
    "papermill": {
     "duration": 3.644615,
     "end_time": "2022-09-13T01:12:59.133077",
     "exception": false,
     "start_time": "2022-09-13T01:12:55.488462",
     "status": "completed"
    },
    "tags": []
   },
   "outputs": [
    {
     "data": {
      "text/plain": [
       "Date\n",
       "2022-08-12 13:30:41    111830.0\n",
       "2022-08-12 13:30:42    111830.0\n",
       "2022-08-12 13:30:43    111825.0\n",
       "2022-08-12 13:30:44    111830.0\n",
       "2022-08-12 13:30:45    111825.0\n",
       "                         ...   \n",
       "2022-08-15 17:50:55    113235.0\n",
       "2022-08-15 17:50:56    113230.0\n",
       "2022-08-15 17:50:57    113235.0\n",
       "2022-08-15 17:50:58    113230.0\n",
       "2022-08-15 17:50:59    113230.0\n",
       "Name: Close, Length: 47238, dtype: float64"
      ]
     },
     "execution_count": 18,
     "metadata": {},
     "output_type": "execute_result"
    }
   ],
   "source": [
    "y_test"
   ]
  },
  {
   "cell_type": "code",
   "execution_count": 19,
   "id": "2115c0c3",
   "metadata": {
    "execution": {
     "iopub.execute_input": "2022-09-13T01:13:06.333567Z",
     "iopub.status.busy": "2022-09-13T01:13:06.332279Z",
     "iopub.status.idle": "2022-09-13T01:13:06.909171Z",
     "shell.execute_reply": "2022-09-13T01:13:06.907634Z"
    },
    "papermill": {
     "duration": 4.184283,
     "end_time": "2022-09-13T01:13:06.912116",
     "exception": false,
     "start_time": "2022-09-13T01:13:02.727833",
     "status": "completed"
    },
    "tags": []
   },
   "outputs": [],
   "source": [
    "from tensorflow.keras.models import save_model\n",
    "save_model(model, \"model.h5\")"
   ]
  },
  {
   "cell_type": "code",
   "execution_count": 20,
   "id": "fa619bd2",
   "metadata": {
    "execution": {
     "iopub.execute_input": "2022-09-13T01:13:14.247242Z",
     "iopub.status.busy": "2022-09-13T01:13:14.246393Z",
     "iopub.status.idle": "2022-09-13T01:13:14.251632Z",
     "shell.execute_reply": "2022-09-13T01:13:14.250478Z"
    },
    "papermill": {
     "duration": 3.614749,
     "end_time": "2022-09-13T01:13:14.254183",
     "exception": false,
     "start_time": "2022-09-13T01:13:10.639434",
     "status": "completed"
    },
    "tags": []
   },
   "outputs": [],
   "source": [
    "# from keras.models import load_model\n",
    "# model = load_model('../input/model-save/stund_split_10.h5')"
   ]
  },
  {
   "cell_type": "code",
   "execution_count": 21,
   "id": "c5d12934",
   "metadata": {
    "execution": {
     "iopub.execute_input": "2022-09-13T01:13:21.485393Z",
     "iopub.status.busy": "2022-09-13T01:13:21.484980Z",
     "iopub.status.idle": "2022-09-13T01:13:21.636130Z",
     "shell.execute_reply": "2022-09-13T01:13:21.634642Z"
    },
    "papermill": {
     "duration": 3.612112,
     "end_time": "2022-09-13T01:13:21.638795",
     "exception": false,
     "start_time": "2022-09-13T01:13:18.026683",
     "status": "completed"
    },
    "tags": []
   },
   "outputs": [
    {
     "data": {
      "image/png": "[encoded data removed]",
      "text/plain": [
       "<Figure size 432x288 with 1 Axes>"
      ]
     },
     "metadata": {
      "needs_background": "light"
     },
     "output_type": "display_data"
    }
   ],
   "source": [
    "plt.plot(history.history['loss'], label='train')\n",
    "plt.plot(history.history['val_loss'], label='test')\n",
    "plt.legend()\n",
    "plt.show()"
   ]
  },
  {
   "cell_type": "code",
   "execution_count": 22,
   "id": "3a54b057",
   "metadata": {
    "execution": {
     "iopub.execute_input": "2022-09-13T01:13:28.835086Z",
     "iopub.status.busy": "2022-09-13T01:13:28.833743Z",
     "iopub.status.idle": "2022-09-13T01:13:29.058827Z",
     "shell.execute_reply": "2022-09-13T01:13:29.057563Z"
    },
    "papermill": {
     "duration": 3.886317,
     "end_time": "2022-09-13T01:13:29.061396",
     "exception": false,
     "start_time": "2022-09-13T01:13:25.175079",
     "status": "completed"
    },
    "tags": []
   },
   "outputs": [
    {
     "data": {
      "image/png": "[encoded data removed]",
      "text/plain": [
       "<Figure size 432x288 with 1 Axes>"
      ]
     },
     "metadata": {
      "needs_background": "light"
     },
     "output_type": "display_data"
    }
   ],
   "source": [
    "high = epocas\n",
    "low = epocas-20\n",
    "\n",
    "plt.plot(history.history['loss'][low:high], label=f'train {low}-{high}')\n",
    "plt.plot(history.history['val_loss'][low:high], label=f'test {low}-{high}')\n",
    "plt.legend()\n",
    "plt.show()"
   ]
  },
  {
   "cell_type": "code",
   "execution_count": 23,
   "id": "3cff47fc",
   "metadata": {
    "execution": {
     "iopub.execute_input": "2022-09-13T01:13:36.305986Z",
     "iopub.status.busy": "2022-09-13T01:13:36.305256Z",
     "iopub.status.idle": "2022-09-13T01:13:36.460079Z",
     "shell.execute_reply": "2022-09-13T01:13:36.458647Z"
    },
    "papermill": {
     "duration": 3.598578,
     "end_time": "2022-09-13T01:13:36.462692",
     "exception": false,
     "start_time": "2022-09-13T01:13:32.864114",
     "status": "completed"
    },
    "tags": []
   },
   "outputs": [
    {
     "data": {
      "image/png": "[encoded data removed]",
      "text/plain": [
       "<Figure size 432x288 with 1 Axes>"
      ]
     },
     "metadata": {
      "needs_background": "light"
     },
     "output_type": "display_data"
    }
   ],
   "source": [
    "plt.plot(history.history['val_loss'], label='test')\n",
    "plt.legend()\n",
    "plt.show()"
   ]
  },
  {
   "cell_type": "code",
   "execution_count": null,
   "id": "92395568",
   "metadata": {
    "papermill": {
     "duration": 3.584888,
     "end_time": "2022-09-13T01:13:43.816375",
     "exception": false,
     "start_time": "2022-09-13T01:13:40.231487",
     "status": "completed"
    },
    "tags": []
   },
   "outputs": [],
   "source": []
  }
 ],
 "metadata": {
  "kernelspec": {
   "display_name": "Python 3",
   "language": "python",
   "name": "python3"
  },
  "language_info": {
   "codemirror_mode": {
    "name": "ipython",
    "version": 3
   },
   "file_extension": ".py",
   "mimetype": "text/x-python",
   "name": "python",
   "nbconvert_exporter": "python",
   "pygments_lexer": "ipython3",
   "version": "3.7.12"
  },
  "papermill": {
   "default_parameters": {},
   "duration": 3409.806531,
   "end_time": "2022-09-13T01:13:50.549205",
   "environment_variables": {},
   "exception": null,
   "input_path": "__notebook__.ipynb",
   "output_path": "__notebook__.ipynb",
   "parameters": {},
   "start_time": "2022-09-13T00:17:00.742674",
   "version": "2.3.4"
  }
 },
 "nbformat": 4,
 "nbformat_minor": 5
}
