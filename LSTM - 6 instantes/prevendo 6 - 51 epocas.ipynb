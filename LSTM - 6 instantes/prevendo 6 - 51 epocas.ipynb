{
 "cells": [
  {
   "cell_type": "code",
   "execution_count": 1,
   "id": "06cf11fd",
   "metadata": {
    "_cell_guid": "b1076dfc-b9ad-4769-8c92-a6c4dae69d19",
    "_uuid": "8f2839f25d086af736a60e9eeb907d3b93b6e0e5",
    "execution": {
     "iopub.execute_input": "2022-09-12T23:13:26.558513Z",
     "iopub.status.busy": "2022-09-12T23:13:26.557721Z",
     "iopub.status.idle": "2022-09-12T23:13:26.570099Z",
     "shell.execute_reply": "2022-09-12T23:13:26.569308Z"
    },
    "papermill": {
     "duration": 0.02455,
     "end_time": "2022-09-12T23:13:26.572765",
     "exception": false,
     "start_time": "2022-09-12T23:13:26.548215",
     "status": "completed"
    },
    "tags": []
   },
   "outputs": [],
   "source": [
    "# This Python 3 environment comes with many helpful analytics libraries installed\n",
    "# It is defined by the kaggle/python Docker image: https://github.com/kaggle/docker-python\n",
    "# For example, here's several helpful packages to load\n",
    "\n",
    "import numpy as np # linear algebra\n",
    "import pandas as pd # data processing, CSV file I/O (e.g. pd.read_csv)\n",
    "\n",
    "# Input data files are available in the read-only \"../input/\" directory\n",
    "# For example, running this (by clicking run or pressing Shift+Enter) will list all files under the input directory\n",
    "\n",
    "import os\n",
    "\n",
    "# You can write up to 20GB to the current directory (/kaggle/working/) that gets preserved as output when you create a version using \"Save & Run All\" \n",
    "# You can also write temporary files to /kaggle/temp/, but they won't be saved outside of the current session"
   ]
  },
  {
   "cell_type": "code",
   "execution_count": 2,
   "id": "085e64a7",
   "metadata": {
    "execution": {
     "iopub.execute_input": "2022-09-12T23:13:26.587814Z",
     "iopub.status.busy": "2022-09-12T23:13:26.587436Z",
     "iopub.status.idle": "2022-09-12T23:13:34.721088Z",
     "shell.execute_reply": "2022-09-12T23:13:34.719779Z"
    },
    "papermill": {
     "duration": 8.144324,
     "end_time": "2022-09-12T23:13:34.723826",
     "exception": false,
     "start_time": "2022-09-12T23:13:26.579502",
     "status": "completed"
    },
    "tags": []
   },
   "outputs": [],
   "source": [
    "# import yfinance as yf\n",
    "import pandas as pd\n",
    "import numpy as np\n",
    "from sklearn.preprocessing import StandardScaler  \n",
    "import matplotlib.pyplot as plt\n",
    "from sklearn.model_selection import train_test_split\n",
    "from collections import Counter\n",
    "\n",
    "from keras. utils.vis_utils import plot_model\n"
   ]
  },
  {
   "cell_type": "code",
   "execution_count": 3,
   "id": "0f38e524",
   "metadata": {
    "execution": {
     "iopub.execute_input": "2022-09-12T23:13:34.739597Z",
     "iopub.status.busy": "2022-09-12T23:13:34.738144Z",
     "iopub.status.idle": "2022-09-12T23:13:34.751258Z",
     "shell.execute_reply": "2022-09-12T23:13:34.750127Z"
    },
    "papermill": {
     "duration": 0.023272,
     "end_time": "2022-09-12T23:13:34.753639",
     "exception": false,
     "start_time": "2022-09-12T23:13:34.730367",
     "status": "completed"
    },
    "tags": []
   },
   "outputs": [],
   "source": [
    "def plotar_testes(y_test,y_pred,modelo):\n",
    "    #Predicted vs True Adj Close Value – LSTM\n",
    "    plt.plot(y_test.values.ravel(), label='Valor real')\n",
    "    plt.plot(y_pred, label= f'{modelo} predição')\n",
    "    plt.xticks(range(0,y_test.shape[0],5000),y_test.index[::5000],rotation=45)\n",
    "    plt.title(f'Predição usando {modelo}')\n",
    "    plt.xlabel('Tempo')\n",
    "    plt.ylabel('Valor ação')\n",
    "    plt.legend()\n",
    "    plt.savefig(f\"grafico_train_test.png\",dpi=300, bbox_inches='tight')\n",
    "    plt.show()\n",
    "\n",
    "def plotar_testes_1000(y_test,y_pred,tam,modelo):\n",
    "    #Predicted vs True Adj Close Value – LSTM\n",
    "    base = int(tam*0.1)\n",
    "    plt.plot(y_test[-tam:-1].values.ravel(), label='Valor real')\n",
    "    plt.plot(y_pred[-tam:-1], label= f'{modelo} predição')\n",
    "    plt.xticks(range(0,y_test[-tam:-1].shape[0],base),y_test[-tam:-1].index[::base],rotation=45)\n",
    "    plt.title(f'Predição usando {modelo}')\n",
    "    plt.xlabel('Tempo')\n",
    "    plt.ylabel('Valor ação')\n",
    "    plt.legend()\n",
    "    plt.savefig(f\"-1000.png\",dpi=300, bbox_inches='tight')\n",
    "    plt.show()\n",
    "\n",
    "from sklearn.metrics import mean_squared_error\n",
    "from sklearn.metrics import mean_absolute_percentage_error\n",
    "\n",
    "\n",
    "def erros(y_test, y_pred):\n",
    "    mape = mean_absolute_percentage_error(y_test, y_pred)\n",
    "    print(f\"MAPE: {mape*100:.5f}%\")\n",
    "    \n",
    "    mse = mean_squared_error(y_test, y_pred)\n",
    "    print(f\"MSE: {mse:.2f}\")"
   ]
  },
  {
   "cell_type": "code",
   "execution_count": 4,
   "id": "bf6d05f8",
   "metadata": {
    "execution": {
     "iopub.execute_input": "2022-09-12T23:13:34.768692Z",
     "iopub.status.busy": "2022-09-12T23:13:34.768276Z",
     "iopub.status.idle": "2022-09-12T23:13:35.205204Z",
     "shell.execute_reply": "2022-09-12T23:13:35.203709Z"
    },
    "papermill": {
     "duration": 0.448056,
     "end_time": "2022-09-12T23:13:35.208237",
     "exception": false,
     "start_time": "2022-09-12T23:13:34.760181",
     "status": "completed"
    },
    "tags": []
   },
   "outputs": [
    {
     "data": {
      "text/html": [
       "<div>\n",
       "<style scoped>\n",
       "    .dataframe tbody tr th:only-of-type {\n",
       "        vertical-align: middle;\n",
       "    }\n",
       "\n",
       "    .dataframe tbody tr th {\n",
       "        vertical-align: top;\n",
       "    }\n",
       "\n",
       "    .dataframe thead th {\n",
       "        text-align: right;\n",
       "    }\n",
       "</style>\n",
       "<table border=\"1\" class=\"dataframe\">\n",
       "  <thead>\n",
       "    <tr style=\"text-align: right;\">\n",
       "      <th></th>\n",
       "      <th>Open</th>\n",
       "      <th>Hight</th>\n",
       "      <th>Low</th>\n",
       "      <th>Close</th>\n",
       "      <th>Ticket</th>\n",
       "      <th>Volume</th>\n",
       "      <th>mm5d</th>\n",
       "      <th>mm21d</th>\n",
       "    </tr>\n",
       "    <tr>\n",
       "      <th>Date</th>\n",
       "      <th></th>\n",
       "      <th></th>\n",
       "      <th></th>\n",
       "      <th></th>\n",
       "      <th></th>\n",
       "      <th></th>\n",
       "      <th></th>\n",
       "      <th></th>\n",
       "    </tr>\n",
       "  </thead>\n",
       "  <tbody>\n",
       "    <tr>\n",
       "      <th>2022-08-09 09:03:20</th>\n",
       "      <td>109025.0</td>\n",
       "      <td>109030.0</td>\n",
       "      <td>108970.0</td>\n",
       "      <td>109015.0</td>\n",
       "      <td>4384</td>\n",
       "      <td>11805</td>\n",
       "      <td>109011.0</td>\n",
       "      <td>108994.523810</td>\n",
       "    </tr>\n",
       "    <tr>\n",
       "      <th>2022-08-09 09:03:21</th>\n",
       "      <td>109025.0</td>\n",
       "      <td>109030.0</td>\n",
       "      <td>108970.0</td>\n",
       "      <td>109005.0</td>\n",
       "      <td>4488</td>\n",
       "      <td>12000</td>\n",
       "      <td>109010.0</td>\n",
       "      <td>108993.333333</td>\n",
       "    </tr>\n",
       "    <tr>\n",
       "      <th>2022-08-09 09:03:22</th>\n",
       "      <td>109025.0</td>\n",
       "      <td>109030.0</td>\n",
       "      <td>108970.0</td>\n",
       "      <td>108985.0</td>\n",
       "      <td>4777</td>\n",
       "      <td>12855</td>\n",
       "      <td>109004.0</td>\n",
       "      <td>108991.428571</td>\n",
       "    </tr>\n",
       "    <tr>\n",
       "      <th>2022-08-09 09:03:23</th>\n",
       "      <td>109025.0</td>\n",
       "      <td>109030.0</td>\n",
       "      <td>108970.0</td>\n",
       "      <td>108985.0</td>\n",
       "      <td>4847</td>\n",
       "      <td>12961</td>\n",
       "      <td>108999.0</td>\n",
       "      <td>108991.428571</td>\n",
       "    </tr>\n",
       "    <tr>\n",
       "      <th>2022-08-09 09:03:24</th>\n",
       "      <td>109025.0</td>\n",
       "      <td>109030.0</td>\n",
       "      <td>108970.0</td>\n",
       "      <td>108980.0</td>\n",
       "      <td>4983</td>\n",
       "      <td>13308</td>\n",
       "      <td>108994.0</td>\n",
       "      <td>108990.952381</td>\n",
       "    </tr>\n",
       "    <tr>\n",
       "      <th>...</th>\n",
       "      <td>...</td>\n",
       "      <td>...</td>\n",
       "      <td>...</td>\n",
       "      <td>...</td>\n",
       "      <td>...</td>\n",
       "      <td>...</td>\n",
       "      <td>...</td>\n",
       "      <td>...</td>\n",
       "    </tr>\n",
       "    <tr>\n",
       "      <th>2022-08-15 17:50:55</th>\n",
       "      <td>113265.0</td>\n",
       "      <td>113280.0</td>\n",
       "      <td>113235.0</td>\n",
       "      <td>113235.0</td>\n",
       "      <td>2271</td>\n",
       "      <td>7924</td>\n",
       "      <td>113240.0</td>\n",
       "      <td>113241.428571</td>\n",
       "    </tr>\n",
       "    <tr>\n",
       "      <th>2022-08-15 17:50:56</th>\n",
       "      <td>113265.0</td>\n",
       "      <td>113280.0</td>\n",
       "      <td>113230.0</td>\n",
       "      <td>113230.0</td>\n",
       "      <td>2377</td>\n",
       "      <td>8206</td>\n",
       "      <td>113238.0</td>\n",
       "      <td>113240.476190</td>\n",
       "    </tr>\n",
       "    <tr>\n",
       "      <th>2022-08-15 17:50:57</th>\n",
       "      <td>113265.0</td>\n",
       "      <td>113280.0</td>\n",
       "      <td>113230.0</td>\n",
       "      <td>113235.0</td>\n",
       "      <td>2409</td>\n",
       "      <td>8287</td>\n",
       "      <td>113236.0</td>\n",
       "      <td>113240.000000</td>\n",
       "    </tr>\n",
       "    <tr>\n",
       "      <th>2022-08-15 17:50:58</th>\n",
       "      <td>113265.0</td>\n",
       "      <td>113280.0</td>\n",
       "      <td>113230.0</td>\n",
       "      <td>113230.0</td>\n",
       "      <td>2424</td>\n",
       "      <td>8326</td>\n",
       "      <td>113234.0</td>\n",
       "      <td>113239.285714</td>\n",
       "    </tr>\n",
       "    <tr>\n",
       "      <th>2022-08-15 17:50:59</th>\n",
       "      <td>113265.0</td>\n",
       "      <td>113280.0</td>\n",
       "      <td>113230.0</td>\n",
       "      <td>113230.0</td>\n",
       "      <td>2464</td>\n",
       "      <td>8429</td>\n",
       "      <td>113232.0</td>\n",
       "      <td>113238.333333</td>\n",
       "    </tr>\n",
       "  </tbody>\n",
       "</table>\n",
       "<p>157460 rows × 8 columns</p>\n",
       "</div>"
      ],
      "text/plain": [
       "                         Open     Hight       Low     Close  Ticket  Volume  \\\n",
       "Date                                                                          \n",
       "2022-08-09 09:03:20  109025.0  109030.0  108970.0  109015.0    4384   11805   \n",
       "2022-08-09 09:03:21  109025.0  109030.0  108970.0  109005.0    4488   12000   \n",
       "2022-08-09 09:03:22  109025.0  109030.0  108970.0  108985.0    4777   12855   \n",
       "2022-08-09 09:03:23  109025.0  109030.0  108970.0  108985.0    4847   12961   \n",
       "2022-08-09 09:03:24  109025.0  109030.0  108970.0  108980.0    4983   13308   \n",
       "...                       ...       ...       ...       ...     ...     ...   \n",
       "2022-08-15 17:50:55  113265.0  113280.0  113235.0  113235.0    2271    7924   \n",
       "2022-08-15 17:50:56  113265.0  113280.0  113230.0  113230.0    2377    8206   \n",
       "2022-08-15 17:50:57  113265.0  113280.0  113230.0  113235.0    2409    8287   \n",
       "2022-08-15 17:50:58  113265.0  113280.0  113230.0  113230.0    2424    8326   \n",
       "2022-08-15 17:50:59  113265.0  113280.0  113230.0  113230.0    2464    8429   \n",
       "\n",
       "                         mm5d          mm21d  \n",
       "Date                                          \n",
       "2022-08-09 09:03:20  109011.0  108994.523810  \n",
       "2022-08-09 09:03:21  109010.0  108993.333333  \n",
       "2022-08-09 09:03:22  109004.0  108991.428571  \n",
       "2022-08-09 09:03:23  108999.0  108991.428571  \n",
       "2022-08-09 09:03:24  108994.0  108990.952381  \n",
       "...                       ...            ...  \n",
       "2022-08-15 17:50:55  113240.0  113241.428571  \n",
       "2022-08-15 17:50:56  113238.0  113240.476190  \n",
       "2022-08-15 17:50:57  113236.0  113240.000000  \n",
       "2022-08-15 17:50:58  113234.0  113239.285714  \n",
       "2022-08-15 17:50:59  113232.0  113238.333333  \n",
       "\n",
       "[157460 rows x 8 columns]"
      ]
     },
     "execution_count": 4,
     "metadata": {},
     "output_type": "execute_result"
    }
   ],
   "source": [
    "#data = pd.read_csv(\"../input/winq22/WINQ22_SPREAD_1.csv\",sep=\";\")\n",
    "data = pd.read_csv(\"../input/winq22-process/submission_example.csv\",\n",
    "                  #skiprows = range(30001, 3119977), # ignora as primeiras 10 linhas do excel\n",
    "                  )\n",
    "df = pd.DataFrame(data)\n",
    "# df = df.reset_index()\n",
    "df.shape\n",
    "\n",
    "#Criando o Dataframe\n",
    "df.sort_index(ascending=True, axis=0)\n",
    "data = df.sort_index(ascending=True, axis=0)\n",
    "\n",
    "#Colocando data como índice\n",
    "df.index = df.Date\n",
    "df.drop('Date', axis=1, inplace=True)\n",
    "\n",
    "df.head()\n",
    "\n",
    "df['mm5d'] = df['Close'].rolling(5).mean()\n",
    "df['mm21d'] = df['Close'].rolling(21).mean()\n",
    "\n",
    "#retirando os dados nulos\n",
    "df.dropna(inplace=True)\n",
    "df"
   ]
  },
  {
   "cell_type": "code",
   "execution_count": 5,
   "id": "31433260",
   "metadata": {
    "execution": {
     "iopub.execute_input": "2022-09-12T23:13:35.224355Z",
     "iopub.status.busy": "2022-09-12T23:13:35.223942Z",
     "iopub.status.idle": "2022-09-12T23:13:35.640106Z",
     "shell.execute_reply": "2022-09-12T23:13:35.638718Z"
    },
    "papermill": {
     "duration": 0.427776,
     "end_time": "2022-09-12T23:13:35.643406",
     "exception": false,
     "start_time": "2022-09-12T23:13:35.215630",
     "status": "completed"
    },
    "tags": []
   },
   "outputs": [
    {
     "data": {
      "image/png": "[encoded data removed]",
      "text/plain": [
       "<Figure size 1296x648 with 1 Axes>"
      ]
     },
     "metadata": {
      "needs_background": "light"
     },
     "output_type": "display_data"
    }
   ],
   "source": [
    "plt.figure(figsize = (18,9))\n",
    "plt.plot(range(df.shape[0]),(df['Close']))\n",
    "plt.xticks(range(0,df.shape[0],10000),df.index[::10000],rotation=45)\n",
    "plt.xlabel('Date',fontsize=18)\n",
    "plt.ylabel('Mid Price',fontsize=18)\n",
    "plt.show()"
   ]
  },
  {
   "cell_type": "code",
   "execution_count": 6,
   "id": "b201415f",
   "metadata": {
    "execution": {
     "iopub.execute_input": "2022-09-12T23:13:35.661774Z",
     "iopub.status.busy": "2022-09-12T23:13:35.660904Z",
     "iopub.status.idle": "2022-09-12T23:13:35.666352Z",
     "shell.execute_reply": "2022-09-12T23:13:35.665406Z"
    },
    "papermill": {
     "duration": 0.017194,
     "end_time": "2022-09-12T23:13:35.668754",
     "exception": false,
     "start_time": "2022-09-12T23:13:35.651560",
     "status": "completed"
    },
    "tags": []
   },
   "outputs": [],
   "source": [
    "#Importando as libraries\n",
    "from sklearn.preprocessing import MinMaxScaler\n",
    "from keras.models import Sequential\n",
    "from keras.layers import Dense, Dropout, LSTM"
   ]
  },
  {
   "cell_type": "markdown",
   "id": "8d408aa8",
   "metadata": {
    "papermill": {
     "duration": 0.007591,
     "end_time": "2022-09-12T23:13:35.684541",
     "exception": false,
     "start_time": "2022-09-12T23:13:35.676950",
     "status": "completed"
    },
    "tags": []
   },
   "source": [
    "# =============================================="
   ]
  },
  {
   "cell_type": "code",
   "execution_count": 7,
   "id": "1964120c",
   "metadata": {
    "execution": {
     "iopub.execute_input": "2022-09-12T23:13:35.702626Z",
     "iopub.status.busy": "2022-09-12T23:13:35.702168Z",
     "iopub.status.idle": "2022-09-12T23:13:35.712828Z",
     "shell.execute_reply": "2022-09-12T23:13:35.711538Z"
    },
    "papermill": {
     "duration": 0.022862,
     "end_time": "2022-09-12T23:13:35.715365",
     "exception": false,
     "start_time": "2022-09-12T23:13:35.692503",
     "status": "completed"
    },
    "tags": []
   },
   "outputs": [],
   "source": [
    "features = df.loc[:,['Open', 'Hight', 'Low', 'Ticket','Volume','mm5d','mm21d']]\n",
    "y_output = df['Close']"
   ]
  },
  {
   "cell_type": "code",
   "execution_count": 8,
   "id": "f3e0581a",
   "metadata": {
    "execution": {
     "iopub.execute_input": "2022-09-12T23:13:35.733139Z",
     "iopub.status.busy": "2022-09-12T23:13:35.732713Z",
     "iopub.status.idle": "2022-09-12T23:13:35.750921Z",
     "shell.execute_reply": "2022-09-12T23:13:35.749426Z"
    },
    "papermill": {
     "duration": 0.03056,
     "end_time": "2022-09-12T23:13:35.753971",
     "exception": false,
     "start_time": "2022-09-12T23:13:35.723411",
     "status": "completed"
    },
    "tags": []
   },
   "outputs": [
    {
     "name": "stdout",
     "output_type": "stream",
     "text": [
      "110222 110222\n",
      "47238 47238\n"
     ]
    }
   ],
   "source": [
    "split_percentage = 0.7\n",
    "split = int(split_percentage*len(df))\n",
    "  \n",
    "# Train data set\n",
    "X_train = features[:split]\n",
    "y_train = y_output[:split]\n",
    "  \n",
    "# Test data set\n",
    "X_test = features[split:]\n",
    "y_test = y_output[split:]\n",
    "\n",
    "print( len(X_train), len(y_train))\n",
    "print( len(X_test), len(y_test))"
   ]
  },
  {
   "cell_type": "code",
   "execution_count": 9,
   "id": "41b0e530",
   "metadata": {
    "execution": {
     "iopub.execute_input": "2022-09-12T23:13:35.772728Z",
     "iopub.status.busy": "2022-09-12T23:13:35.771641Z",
     "iopub.status.idle": "2022-09-12T23:13:35.776794Z",
     "shell.execute_reply": "2022-09-12T23:13:35.775677Z"
    },
    "papermill": {
     "duration": 0.0172,
     "end_time": "2022-09-12T23:13:35.779360",
     "exception": false,
     "start_time": "2022-09-12T23:13:35.762160",
     "status": "completed"
    },
    "tags": []
   },
   "outputs": [],
   "source": [
    "# # Normalizando os dados de entrada(features)\n",
    "\n",
    "# # Gerando o novo padrão\n",
    "# scaler = StandardScaler()\n",
    "# X_train_scale = scaler.fit_transform(X_train)  # Normalizando os dados de entrada(treinamento)\n",
    "# X_test_scale  = scaler.transform(X_test)       # Normalizando os dados de entrada(teste)"
   ]
  },
  {
   "cell_type": "code",
   "execution_count": 10,
   "id": "7244ee69",
   "metadata": {
    "execution": {
     "iopub.execute_input": "2022-09-12T23:13:35.798354Z",
     "iopub.status.busy": "2022-09-12T23:13:35.797709Z",
     "iopub.status.idle": "2022-09-12T23:13:35.825689Z",
     "shell.execute_reply": "2022-09-12T23:13:35.824633Z"
    },
    "papermill": {
     "duration": 0.040814,
     "end_time": "2022-09-12T23:13:35.828412",
     "exception": false,
     "start_time": "2022-09-12T23:13:35.787598",
     "status": "completed"
    },
    "tags": []
   },
   "outputs": [],
   "source": [
    "# Normalizando os dados de entrada(features)\n",
    "\n",
    "# Gerando o novo padrão\n",
    "scaler = MinMaxScaler()\n",
    "X_train_scale = scaler.fit_transform(X_train)  # Normalizando os dados de entrada(treinamento)\n",
    "X_test_scale  = scaler.transform(X_test)       # Normalizando os dados de entrada(teste)"
   ]
  },
  {
   "cell_type": "code",
   "execution_count": 11,
   "id": "ca07429c",
   "metadata": {
    "execution": {
     "iopub.execute_input": "2022-09-12T23:13:35.847069Z",
     "iopub.status.busy": "2022-09-12T23:13:35.846402Z",
     "iopub.status.idle": "2022-09-12T23:13:35.852198Z",
     "shell.execute_reply": "2022-09-12T23:13:35.850748Z"
    },
    "papermill": {
     "duration": 0.017687,
     "end_time": "2022-09-12T23:13:35.854369",
     "exception": false,
     "start_time": "2022-09-12T23:13:35.836682",
     "status": "completed"
    },
    "tags": []
   },
   "outputs": [
    {
     "name": "stdout",
     "output_type": "stream",
     "text": [
      "(110222, 7) (47238, 7)\n"
     ]
    }
   ],
   "source": [
    "print(X_train.shape, X_test.shape)"
   ]
  },
  {
   "cell_type": "code",
   "execution_count": 12,
   "id": "d2fa8b54",
   "metadata": {
    "execution": {
     "iopub.execute_input": "2022-09-12T23:13:35.873248Z",
     "iopub.status.busy": "2022-09-12T23:13:35.872623Z",
     "iopub.status.idle": "2022-09-12T23:13:35.885351Z",
     "shell.execute_reply": "2022-09-12T23:13:35.883877Z"
    },
    "papermill": {
     "duration": 0.025499,
     "end_time": "2022-09-12T23:13:35.888048",
     "exception": false,
     "start_time": "2022-09-12T23:13:35.862549",
     "status": "completed"
    },
    "tags": []
   },
   "outputs": [],
   "source": [
    "#Process the data for LSTM\n",
    "trainX =np.array(X_train_scale)\n",
    "testX =np.array(X_test_scale)\n",
    "X_train = trainX.reshape(X_train_scale.shape[0], 1, X_train_scale.shape[1])\n",
    "X_test = testX.reshape(X_test_scale.shape[0], 1, X_test_scale.shape[1])"
   ]
  },
  {
   "cell_type": "code",
   "execution_count": 13,
   "id": "f85701be",
   "metadata": {
    "execution": {
     "iopub.execute_input": "2022-09-12T23:13:35.908177Z",
     "iopub.status.busy": "2022-09-12T23:13:35.907466Z",
     "iopub.status.idle": "2022-09-12T23:13:37.503219Z",
     "shell.execute_reply": "2022-09-12T23:13:37.501691Z"
    },
    "papermill": {
     "duration": 1.609308,
     "end_time": "2022-09-12T23:13:37.505957",
     "exception": false,
     "start_time": "2022-09-12T23:13:35.896649",
     "status": "completed"
    },
    "tags": []
   },
   "outputs": [
    {
     "name": "stderr",
     "output_type": "stream",
     "text": [
      "2022-09-12 23:13:35.951517: I tensorflow/core/common_runtime/process_util.cc:146] Creating new thread pool with default inter op setting: 2. Tune using inter_op_parallelism_threads for best performance.\n"
     ]
    },
    {
     "data": {
      "image/png": "[encoded data removed]",
      "text/plain": [
       "<IPython.core.display.Image object>"
      ]
     },
     "execution_count": 13,
     "metadata": {},
     "output_type": "execute_result"
    }
   ],
   "source": [
    "# Criando o modelo LSTM\n",
    "# model = Sequential()\n",
    "# model.add(LSTM(units=50, return_sequences=True, input_shape=(X_train.shape[1],1)))\n",
    "\n",
    "# model.add(LSTM(units=50))\n",
    "from keras.layers import Input\n",
    "\n",
    "output_size = 6\n",
    "\n",
    "model = Sequential()\n",
    "model.add(LSTM(32, input_shape=(1, trainX.shape[1]), activation='relu', return_sequences=False))\n",
    "model.add(Dense(output_size))\n",
    "model.compile(loss='mean_squared_error', optimizer='adam')\n",
    "plot_model(model, show_shapes=True, show_layer_names=True)"
   ]
  },
  {
   "cell_type": "code",
   "execution_count": 14,
   "id": "176cf4e6",
   "metadata": {
    "execution": {
     "iopub.execute_input": "2022-09-12T23:13:37.527008Z",
     "iopub.status.busy": "2022-09-12T23:13:37.526185Z",
     "iopub.status.idle": "2022-09-12T23:46:32.978534Z",
     "shell.execute_reply": "2022-09-12T23:46:32.976893Z"
    },
    "papermill": {
     "duration": 1975.468007,
     "end_time": "2022-09-12T23:46:32.983453",
     "exception": false,
     "start_time": "2022-09-12T23:13:37.515446",
     "status": "completed"
    },
    "tags": []
   },
   "outputs": [
    {
     "name": "stderr",
     "output_type": "stream",
     "text": [
      "2022-09-12 23:13:37.608393: I tensorflow/compiler/mlir/mlir_graph_optimization_pass.cc:185] None of the MLIR Optimization Passes are enabled (registered 2)\n"
     ]
    },
    {
     "name": "stdout",
     "output_type": "stream",
     "text": [
      "Epoch 1/51\n",
      "13778/13778 [==============================] - 41s 3ms/step - loss: 10682265600.0000 - val_loss: 7062627840.0000\n",
      "Epoch 2/51\n",
      "13778/13778 [==============================] - 38s 3ms/step - loss: 6217354240.0000 - val_loss: 576432576.0000\n",
      "Epoch 3/51\n",
      "13778/13778 [==============================] - 40s 3ms/step - loss: 2310476544.0000 - val_loss: 1756429568.0000\n",
      "Epoch 4/51\n",
      "13778/13778 [==============================] - 34s 2ms/step - loss: 1252097792.0000 - val_loss: 2185476608.0000\n",
      "Epoch 5/51\n",
      "13778/13778 [==============================] - 41s 3ms/step - loss: 1174514304.0000 - val_loss: 2110149504.0000\n",
      "Epoch 6/51\n",
      "13778/13778 [==============================] - 38s 3ms/step - loss: 1130254592.0000 - val_loss: 2019186560.0000\n",
      "Epoch 7/51\n",
      "13778/13778 [==============================] - 41s 3ms/step - loss: 1086799488.0000 - val_loss: 1927778048.0000\n",
      "Epoch 8/51\n",
      "13778/13778 [==============================] - 37s 3ms/step - loss: 1043209792.0000 - val_loss: 1836438528.0000\n",
      "Epoch 9/51\n",
      "13778/13778 [==============================] - 39s 3ms/step - loss: 999437568.0000 - val_loss: 1745105408.0000\n",
      "Epoch 10/51\n",
      "13778/13778 [==============================] - 34s 2ms/step - loss: 955509376.0000 - val_loss: 1653924736.0000\n",
      "Epoch 11/51\n",
      "13778/13778 [==============================] - 34s 2ms/step - loss: 911401984.0000 - val_loss: 1562891520.0000\n",
      "Epoch 12/51\n",
      "13778/13778 [==============================] - 35s 3ms/step - loss: 867129344.0000 - val_loss: 1472076032.0000\n",
      "Epoch 13/51\n",
      "13778/13778 [==============================] - 34s 2ms/step - loss: 822716800.0000 - val_loss: 1381570816.0000\n",
      "Epoch 14/51\n",
      "13778/13778 [==============================] - 35s 3ms/step - loss: 778200128.0000 - val_loss: 1291545728.0000\n",
      "Epoch 15/51\n",
      "13778/13778 [==============================] - 37s 3ms/step - loss: 733631552.0000 - val_loss: 1202196096.0000\n",
      "Epoch 16/51\n",
      "13778/13778 [==============================] - 36s 3ms/step - loss: 689070400.0000 - val_loss: 1113686784.0000\n",
      "Epoch 17/51\n",
      "13778/13778 [==============================] - 40s 3ms/step - loss: 644608448.0000 - val_loss: 1026331648.0000\n",
      "Epoch 18/51\n",
      "13778/13778 [==============================] - 36s 3ms/step - loss: 600339584.0000 - val_loss: 940392384.0000\n",
      "Epoch 19/51\n",
      "13778/13778 [==============================] - 41s 3ms/step - loss: 556410496.0000 - val_loss: 856214912.0000\n",
      "Epoch 20/51\n",
      "13778/13778 [==============================] - 37s 3ms/step - loss: 512973056.0000 - val_loss: 774185856.0000\n",
      "Epoch 21/51\n",
      "13778/13778 [==============================] - 40s 3ms/step - loss: 470211104.0000 - val_loss: 694755072.0000\n",
      "Epoch 22/51\n",
      "13778/13778 [==============================] - 39s 3ms/step - loss: 428338240.0000 - val_loss: 618340032.0000\n",
      "Epoch 23/51\n",
      "13778/13778 [==============================] - 43s 3ms/step - loss: 387579584.0000 - val_loss: 545413120.0000\n",
      "Epoch 24/51\n",
      "13778/13778 [==============================] - 37s 3ms/step - loss: 348184352.0000 - val_loss: 476409056.0000\n",
      "Epoch 25/51\n",
      "13778/13778 [==============================] - 44s 3ms/step - loss: 310419776.0000 - val_loss: 411780672.0000\n",
      "Epoch 26/51\n",
      "13778/13778 [==============================] - 39s 3ms/step - loss: 274548640.0000 - val_loss: 351895360.0000\n",
      "Epoch 27/51\n",
      "13778/13778 [==============================] - 38s 3ms/step - loss: 240793472.0000 - val_loss: 297039616.0000\n",
      "Epoch 28/51\n",
      "13778/13778 [==============================] - 39s 3ms/step - loss: 209368480.0000 - val_loss: 247401136.0000\n",
      "Epoch 29/51\n",
      "13778/13778 [==============================] - 42s 3ms/step - loss: 180428256.0000 - val_loss: 203071376.0000\n",
      "Epoch 30/51\n",
      "13778/13778 [==============================] - 42s 3ms/step - loss: 154050272.0000 - val_loss: 163997600.0000\n",
      "Epoch 31/51\n",
      "13778/13778 [==============================] - 40s 3ms/step - loss: 130231040.0000 - val_loss: 130050568.0000\n",
      "Epoch 32/51\n",
      "13778/13778 [==============================] - 41s 3ms/step - loss: 108900440.0000 - val_loss: 101023872.0000\n",
      "Epoch 33/51\n",
      "13778/13778 [==============================] - 40s 3ms/step - loss: 89940912.0000 - val_loss: 76676912.0000\n",
      "Epoch 34/51\n",
      "13778/13778 [==============================] - 40s 3ms/step - loss: 73242152.0000 - val_loss: 56756312.0000\n",
      "Epoch 35/51\n",
      "13778/13778 [==============================] - 40s 3ms/step - loss: 58742852.0000 - val_loss: 40997660.0000\n",
      "Epoch 36/51\n",
      "13778/13778 [==============================] - 38s 3ms/step - loss: 46443880.0000 - val_loss: 29087590.0000\n",
      "Epoch 37/51\n",
      "13778/13778 [==============================] - 43s 3ms/step - loss: 36355124.0000 - val_loss: 20583688.0000\n",
      "Epoch 38/51\n",
      "13778/13778 [==============================] - 36s 3ms/step - loss: 28381838.0000 - val_loss: 14858505.0000\n",
      "Epoch 39/51\n",
      "13778/13778 [==============================] - 39s 3ms/step - loss: 22248522.0000 - val_loss: 11138734.0000\n",
      "Epoch 40/51\n",
      "13778/13778 [==============================] - 36s 3ms/step - loss: 17538774.0000 - val_loss: 8665508.0000\n",
      "Epoch 41/51\n",
      "13778/13778 [==============================] - 38s 3ms/step - loss: 13828235.0000 - val_loss: 6868861.0000\n",
      "Epoch 42/51\n",
      "13778/13778 [==============================] - 39s 3ms/step - loss: 10797899.0000 - val_loss: 5419465.5000\n",
      "Epoch 43/51\n",
      "13778/13778 [==============================] - 44s 3ms/step - loss: 8256345.5000 - val_loss: 4173044.7500\n",
      "Epoch 44/51\n",
      "13778/13778 [==============================] - 40s 3ms/step - loss: 6106499.0000 - val_loss: 3084463.2500\n",
      "Epoch 45/51\n",
      "13778/13778 [==============================] - 37s 3ms/step - loss: 4305219.5000 - val_loss: 2149044.5000\n",
      "Epoch 46/51\n",
      "13778/13778 [==============================] - 38s 3ms/step - loss: 2834322.0000 - val_loss: 1373885.3750\n",
      "Epoch 47/51\n",
      "13778/13778 [==============================] - 37s 3ms/step - loss: 1684376.7500 - val_loss: 767690.9375\n",
      "Epoch 48/51\n",
      "13778/13778 [==============================] - 41s 3ms/step - loss: 846573.1875 - val_loss: 337244.4062\n",
      "Epoch 49/51\n",
      "13778/13778 [==============================] - 40s 3ms/step - loss: 308545.7188 - val_loss: 85134.4062\n",
      "Epoch 50/51\n",
      "13778/13778 [==============================] - 37s 3ms/step - loss: 49130.1914 - val_loss: 1555.4469\n",
      "Epoch 51/51\n",
      "13778/13778 [==============================] - 43s 3ms/step - loss: 491.8628 - val_loss: 1232.7626\n"
     ]
    }
   ],
   "source": [
    "history = model.fit(X_train, y_train.values.ravel(), \n",
    "                    epochs=51,validation_data=(X_test, y_test), \n",
    "                    batch_size=8, verbose=1, shuffle=False)\n"
   ]
  },
  {
   "cell_type": "code",
   "execution_count": 15,
   "id": "6bee2bb4",
   "metadata": {
    "execution": {
     "iopub.execute_input": "2022-09-12T23:46:37.261838Z",
     "iopub.status.busy": "2022-09-12T23:46:37.261136Z",
     "iopub.status.idle": "2022-09-12T23:46:37.268642Z",
     "shell.execute_reply": "2022-09-12T23:46:37.267391Z"
    },
    "papermill": {
     "duration": 2.158479,
     "end_time": "2022-09-12T23:46:37.270918",
     "exception": false,
     "start_time": "2022-09-12T23:46:35.112439",
     "status": "completed"
    },
    "tags": []
   },
   "outputs": [],
   "source": [
    "X_test_2 = X_test[range(0,len(X_test),output_size)]\n"
   ]
  },
  {
   "cell_type": "code",
   "execution_count": 16,
   "id": "22e6ffc9",
   "metadata": {
    "execution": {
     "iopub.execute_input": "2022-09-12T23:46:41.448517Z",
     "iopub.status.busy": "2022-09-12T23:46:41.448120Z",
     "iopub.status.idle": "2022-09-12T23:46:42.049390Z",
     "shell.execute_reply": "2022-09-12T23:46:42.048015Z"
    },
    "papermill": {
     "duration": 2.622821,
     "end_time": "2022-09-12T23:46:42.052268",
     "exception": false,
     "start_time": "2022-09-12T23:46:39.429447",
     "status": "completed"
    },
    "tags": []
   },
   "outputs": [
    {
     "data": {
      "text/plain": [
       "(47238, 1)"
      ]
     },
     "execution_count": 16,
     "metadata": {},
     "output_type": "execute_result"
    }
   ],
   "source": [
    "\n",
    "y_pred= model.predict(X_test_2)\n",
    "y_pred.shape\n",
    "y_pred2 = np.reshape(y_pred,(len(y_test),1))\n",
    "y_pred2.shape"
   ]
  },
  {
   "cell_type": "code",
   "execution_count": 17,
   "id": "c9d1e072",
   "metadata": {
    "execution": {
     "iopub.execute_input": "2022-09-12T23:46:46.103576Z",
     "iopub.status.busy": "2022-09-12T23:46:46.102906Z",
     "iopub.status.idle": "2022-09-12T23:46:47.956001Z",
     "shell.execute_reply": "2022-09-12T23:46:47.954389Z"
    },
    "papermill": {
     "duration": 3.890728,
     "end_time": "2022-09-12T23:46:47.958476",
     "exception": false,
     "start_time": "2022-09-12T23:46:44.067748",
     "status": "completed"
    },
    "tags": []
   },
   "outputs": [
    {
     "data": {
      "image/png": "[encoded data removed]",
      "text/plain": [
       "<Figure size 432x288 with 1 Axes>"
      ]
     },
     "metadata": {
      "needs_background": "light"
     },
     "output_type": "display_data"
    },
    {
     "data": {
      "image/png": "[encoded data removed]",
      "text/plain": [
       "<Figure size 432x288 with 1 Axes>"
      ]
     },
     "metadata": {
      "needs_background": "light"
     },
     "output_type": "display_data"
    },
    {
     "name": "stdout",
     "output_type": "stream",
     "text": [
      "MAPE: 0.02699%\n",
      "MSE: 1426.92\n"
     ]
    }
   ],
   "source": [
    "# #LSTM Prediction\n",
    "# #y_pred= model.predict(X_test.reshape((1,3,1)))\n",
    "# y_pred= model.predict(X_test)\n",
    "# # print(y_pred)\n",
    "# # plt.plot(y_pred)\n",
    "plotar_testes(y_test,y_pred2,'LSTM')\n",
    "plotar_testes_1000(y_test,y_pred2,100,'LSTM')\n",
    "erros(y_test, y_pred2)"
   ]
  },
  {
   "cell_type": "code",
   "execution_count": 18,
   "id": "167525a6",
   "metadata": {
    "execution": {
     "iopub.execute_input": "2022-09-12T23:46:52.005876Z",
     "iopub.status.busy": "2022-09-12T23:46:52.004906Z",
     "iopub.status.idle": "2022-09-12T23:46:52.013854Z",
     "shell.execute_reply": "2022-09-12T23:46:52.012828Z"
    },
    "papermill": {
     "duration": 2.026189,
     "end_time": "2022-09-12T23:46:52.015985",
     "exception": false,
     "start_time": "2022-09-12T23:46:49.989796",
     "status": "completed"
    },
    "tags": []
   },
   "outputs": [
    {
     "data": {
      "text/plain": [
       "Date\n",
       "2022-08-12 13:30:41    111830.0\n",
       "2022-08-12 13:30:42    111830.0\n",
       "2022-08-12 13:30:43    111825.0\n",
       "2022-08-12 13:30:44    111830.0\n",
       "2022-08-12 13:30:45    111825.0\n",
       "                         ...   \n",
       "2022-08-15 17:50:55    113235.0\n",
       "2022-08-15 17:50:56    113230.0\n",
       "2022-08-15 17:50:57    113235.0\n",
       "2022-08-15 17:50:58    113230.0\n",
       "2022-08-15 17:50:59    113230.0\n",
       "Name: Close, Length: 47238, dtype: float64"
      ]
     },
     "execution_count": 18,
     "metadata": {},
     "output_type": "execute_result"
    }
   ],
   "source": [
    "y_test"
   ]
  },
  {
   "cell_type": "code",
   "execution_count": 19,
   "id": "e10b81ad",
   "metadata": {
    "execution": {
     "iopub.execute_input": "2022-09-12T23:46:56.141199Z",
     "iopub.status.busy": "2022-09-12T23:46:56.140072Z",
     "iopub.status.idle": "2022-09-12T23:46:56.761495Z",
     "shell.execute_reply": "2022-09-12T23:46:56.760376Z"
    },
    "papermill": {
     "duration": 2.74266,
     "end_time": "2022-09-12T23:46:56.764494",
     "exception": false,
     "start_time": "2022-09-12T23:46:54.021834",
     "status": "completed"
    },
    "tags": []
   },
   "outputs": [],
   "source": [
    "from tensorflow.keras.models import save_model\n",
    "save_model(model, \"model.h5\")"
   ]
  },
  {
   "cell_type": "code",
   "execution_count": 20,
   "id": "d0b2e55d",
   "metadata": {
    "execution": {
     "iopub.execute_input": "2022-09-12T23:47:00.805455Z",
     "iopub.status.busy": "2022-09-12T23:47:00.804232Z",
     "iopub.status.idle": "2022-09-12T23:47:00.808591Z",
     "shell.execute_reply": "2022-09-12T23:47:00.807802Z"
    },
    "papermill": {
     "duration": 2.002028,
     "end_time": "2022-09-12T23:47:00.810769",
     "exception": false,
     "start_time": "2022-09-12T23:46:58.808741",
     "status": "completed"
    },
    "tags": []
   },
   "outputs": [],
   "source": [
    "# from keras.models import load_model\n",
    "# model = load_model('../input/model-save/stund_split_10.h5')"
   ]
  },
  {
   "cell_type": "code",
   "execution_count": 21,
   "id": "e5adb3a6",
   "metadata": {
    "execution": {
     "iopub.execute_input": "2022-09-12T23:47:04.814754Z",
     "iopub.status.busy": "2022-09-12T23:47:04.813164Z",
     "iopub.status.idle": "2022-09-12T23:47:04.964078Z",
     "shell.execute_reply": "2022-09-12T23:47:04.963003Z"
    },
    "papermill": {
     "duration": 2.150637,
     "end_time": "2022-09-12T23:47:04.966529",
     "exception": false,
     "start_time": "2022-09-12T23:47:02.815892",
     "status": "completed"
    },
    "tags": []
   },
   "outputs": [
    {
     "data": {
      "image/png": "[encoded data removed]",
      "text/plain": [
       "<Figure size 432x288 with 1 Axes>"
      ]
     },
     "metadata": {
      "needs_background": "light"
     },
     "output_type": "display_data"
    }
   ],
   "source": [
    "plt.plot(history.history['loss'], label='train')\n",
    "plt.plot(history.history['val_loss'], label='test')\n",
    "plt.legend()\n",
    "plt.show()"
   ]
  },
  {
   "cell_type": "code",
   "execution_count": 22,
   "id": "b07a310e",
   "metadata": {
    "execution": {
     "iopub.execute_input": "2022-09-12T23:47:09.042497Z",
     "iopub.status.busy": "2022-09-12T23:47:09.041686Z",
     "iopub.status.idle": "2022-09-12T23:47:09.194772Z",
     "shell.execute_reply": "2022-09-12T23:47:09.193805Z"
    },
    "papermill": {
     "duration": 2.172977,
     "end_time": "2022-09-12T23:47:09.197543",
     "exception": false,
     "start_time": "2022-09-12T23:47:07.024566",
     "status": "completed"
    },
    "tags": []
   },
   "outputs": [
    {
     "data": {
      "image/png": "[encoded data removed]",
      "text/plain": [
       "<Figure size 432x288 with 1 Axes>"
      ]
     },
     "metadata": {
      "needs_background": "light"
     },
     "output_type": "display_data"
    }
   ],
   "source": [
    "plt.plot(history.history['loss'][50:66], label='train 50-66')\n",
    "plt.plot(history.history['val_loss'][50:66], label='test 50-66')\n",
    "plt.legend()\n",
    "plt.show()"
   ]
  },
  {
   "cell_type": "code",
   "execution_count": 23,
   "id": "ddac0f26",
   "metadata": {
    "execution": {
     "iopub.execute_input": "2022-09-12T23:47:13.220622Z",
     "iopub.status.busy": "2022-09-12T23:47:13.219355Z",
     "iopub.status.idle": "2022-09-12T23:47:13.364649Z",
     "shell.execute_reply": "2022-09-12T23:47:13.363622Z"
    },
    "papermill": {
     "duration": 2.158523,
     "end_time": "2022-09-12T23:47:13.367340",
     "exception": false,
     "start_time": "2022-09-12T23:47:11.208817",
     "status": "completed"
    },
    "tags": []
   },
   "outputs": [
    {
     "data": {
      "image/png": "[encoded data removed]",
      "text/plain": [
       "<Figure size 432x288 with 1 Axes>"
      ]
     },
     "metadata": {
      "needs_background": "light"
     },
     "output_type": "display_data"
    }
   ],
   "source": [
    "plt.plot(history.history['val_loss'], label='test')\n",
    "plt.legend()\n",
    "plt.show()"
   ]
  },
  {
   "cell_type": "code",
   "execution_count": null,
   "id": "c8fe1d42",
   "metadata": {
    "papermill": {
     "duration": 1.996594,
     "end_time": "2022-09-12T23:47:17.403019",
     "exception": false,
     "start_time": "2022-09-12T23:47:15.406425",
     "status": "completed"
    },
    "tags": []
   },
   "outputs": [],
   "source": []
  }
 ],
 "metadata": {
  "kernelspec": {
   "display_name": "Python 3",
   "language": "python",
   "name": "python3"
  },
  "language_info": {
   "codemirror_mode": {
    "name": "ipython",
    "version": 3
   },
   "file_extension": ".py",
   "mimetype": "text/x-python",
   "name": "python",
   "nbconvert_exporter": "python",
   "pygments_lexer": "ipython3",
   "version": "3.7.12"
  },
  "papermill": {
   "default_parameters": {},
   "duration": 2046.077057,
   "end_time": "2022-09-12T23:47:22.712312",
   "environment_variables": {},
   "exception": null,
   "input_path": "__notebook__.ipynb",
   "output_path": "__notebook__.ipynb",
   "parameters": {},
   "start_time": "2022-09-12T23:13:16.635255",
   "version": "2.3.4"
  }
 },
 "nbformat": 4,
 "nbformat_minor": 5
}
