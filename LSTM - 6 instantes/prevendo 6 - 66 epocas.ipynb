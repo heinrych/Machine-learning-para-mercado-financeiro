{
 "cells": [
  {
   "cell_type": "code",
   "execution_count": 1,
   "id": "ad9e9ae1",
   "metadata": {
    "_cell_guid": "b1076dfc-b9ad-4769-8c92-a6c4dae69d19",
    "_uuid": "8f2839f25d086af736a60e9eeb907d3b93b6e0e5",
    "execution": {
     "iopub.execute_input": "2022-09-13T00:07:17.237066Z",
     "iopub.status.busy": "2022-09-13T00:07:17.236031Z",
     "iopub.status.idle": "2022-09-13T00:07:17.250779Z",
     "shell.execute_reply": "2022-09-13T00:07:17.249360Z"
    },
    "papermill": {
     "duration": 0.027717,
     "end_time": "2022-09-13T00:07:17.253766",
     "exception": false,
     "start_time": "2022-09-13T00:07:17.226049",
     "status": "completed"
    },
    "tags": []
   },
   "outputs": [],
   "source": [
    "# This Python 3 environment comes with many helpful analytics libraries installed\n",
    "# It is defined by the kaggle/python Docker image: https://github.com/kaggle/docker-python\n",
    "# For example, here's several helpful packages to load\n",
    "\n",
    "import numpy as np # linear algebra\n",
    "import pandas as pd # data processing, CSV file I/O (e.g. pd.read_csv)\n",
    "\n",
    "# Input data files are available in the read-only \"../input/\" directory\n",
    "# For example, running this (by clicking run or pressing Shift+Enter) will list all files under the input directory\n",
    "\n",
    "import os\n",
    "\n",
    "# You can write up to 20GB to the current directory (/kaggle/working/) that gets preserved as output when you create a version using \"Save & Run All\" \n",
    "# You can also write temporary files to /kaggle/temp/, but they won't be saved outside of the current session"
   ]
  },
  {
   "cell_type": "code",
   "execution_count": 2,
   "id": "aa8d91de",
   "metadata": {
    "execution": {
     "iopub.execute_input": "2022-09-13T00:07:17.271037Z",
     "iopub.status.busy": "2022-09-13T00:07:17.269946Z",
     "iopub.status.idle": "2022-09-13T00:07:25.134323Z",
     "shell.execute_reply": "2022-09-13T00:07:25.133140Z"
    },
    "papermill": {
     "duration": 7.877313,
     "end_time": "2022-09-13T00:07:25.137811",
     "exception": false,
     "start_time": "2022-09-13T00:07:17.260498",
     "status": "completed"
    },
    "tags": []
   },
   "outputs": [],
   "source": [
    "# import yfinance as yf\n",
    "import pandas as pd\n",
    "import numpy as np\n",
    "from sklearn.preprocessing import StandardScaler  \n",
    "import matplotlib.pyplot as plt\n",
    "from sklearn.model_selection import train_test_split\n",
    "from collections import Counter\n",
    "\n",
    "from keras. utils.vis_utils import plot_model\n"
   ]
  },
  {
   "cell_type": "code",
   "execution_count": 3,
   "id": "39a4c4d8",
   "metadata": {
    "execution": {
     "iopub.execute_input": "2022-09-13T00:07:25.157114Z",
     "iopub.status.busy": "2022-09-13T00:07:25.156487Z",
     "iopub.status.idle": "2022-09-13T00:07:25.169286Z",
     "shell.execute_reply": "2022-09-13T00:07:25.168258Z"
    },
    "papermill": {
     "duration": 0.024992,
     "end_time": "2022-09-13T00:07:25.172274",
     "exception": false,
     "start_time": "2022-09-13T00:07:25.147282",
     "status": "completed"
    },
    "tags": []
   },
   "outputs": [],
   "source": [
    "def plotar_testes(y_test,y_pred,modelo):\n",
    "    #Predicted vs True Adj Close Value – LSTM\n",
    "    plt.plot(y_test.values.ravel(), label='Valor real')\n",
    "    plt.plot(y_pred, label= f'{modelo} predição')\n",
    "    plt.xticks(range(0,y_test.shape[0],5000),y_test.index[::5000],rotation=45)\n",
    "    plt.title(f'Predição usando {modelo}')\n",
    "    plt.xlabel('Tempo')\n",
    "    plt.ylabel('Valor ação')\n",
    "    plt.legend()\n",
    "    plt.savefig(f\"grafico_train_test.png\",dpi=300, bbox_inches='tight')\n",
    "    plt.show()\n",
    "\n",
    "def plotar_testes_1000(y_test,y_pred,tam,modelo):\n",
    "    #Predicted vs True Adj Close Value – LSTM\n",
    "    base = int(tam*0.1)\n",
    "    plt.plot(y_test[-tam:-1].values.ravel(), label='Valor real')\n",
    "    plt.plot(y_pred[-tam:-1], label= f'{modelo} predição')\n",
    "    plt.xticks(range(0,y_test[-tam:-1].shape[0],base),y_test[-tam:-1].index[::base],rotation=45)\n",
    "    plt.title(f'Predição usando {modelo}')\n",
    "    plt.xlabel('Tempo')\n",
    "    plt.ylabel('Valor ação')\n",
    "    plt.legend()\n",
    "    plt.savefig(f\"-1000.png\",dpi=300, bbox_inches='tight')\n",
    "    plt.show()\n",
    "\n",
    "from sklearn.metrics import mean_squared_error\n",
    "from sklearn.metrics import mean_absolute_percentage_error\n",
    "\n",
    "\n",
    "def erros(y_test, y_pred):\n",
    "    mape = mean_absolute_percentage_error(y_test, y_pred)\n",
    "    print(f\"MAPE: {mape*100:.5f}%\")\n",
    "    \n",
    "    mse = mean_squared_error(y_test, y_pred)\n",
    "    print(f\"MSE: {mse:.2f}\")"
   ]
  },
  {
   "cell_type": "code",
   "execution_count": 4,
   "id": "2136c93c",
   "metadata": {
    "execution": {
     "iopub.execute_input": "2022-09-13T00:07:25.192432Z",
     "iopub.status.busy": "2022-09-13T00:07:25.191590Z",
     "iopub.status.idle": "2022-09-13T00:07:25.642948Z",
     "shell.execute_reply": "2022-09-13T00:07:25.641524Z"
    },
    "papermill": {
     "duration": 0.464183,
     "end_time": "2022-09-13T00:07:25.645855",
     "exception": false,
     "start_time": "2022-09-13T00:07:25.181672",
     "status": "completed"
    },
    "tags": []
   },
   "outputs": [
    {
     "data": {
      "text/html": [
       "<div>\n",
       "<style scoped>\n",
       "    .dataframe tbody tr th:only-of-type {\n",
       "        vertical-align: middle;\n",
       "    }\n",
       "\n",
       "    .dataframe tbody tr th {\n",
       "        vertical-align: top;\n",
       "    }\n",
       "\n",
       "    .dataframe thead th {\n",
       "        text-align: right;\n",
       "    }\n",
       "</style>\n",
       "<table border=\"1\" class=\"dataframe\">\n",
       "  <thead>\n",
       "    <tr style=\"text-align: right;\">\n",
       "      <th></th>\n",
       "      <th>Open</th>\n",
       "      <th>Hight</th>\n",
       "      <th>Low</th>\n",
       "      <th>Close</th>\n",
       "      <th>Ticket</th>\n",
       "      <th>Volume</th>\n",
       "      <th>mm5d</th>\n",
       "      <th>mm21d</th>\n",
       "    </tr>\n",
       "    <tr>\n",
       "      <th>Date</th>\n",
       "      <th></th>\n",
       "      <th></th>\n",
       "      <th></th>\n",
       "      <th></th>\n",
       "      <th></th>\n",
       "      <th></th>\n",
       "      <th></th>\n",
       "      <th></th>\n",
       "    </tr>\n",
       "  </thead>\n",
       "  <tbody>\n",
       "    <tr>\n",
       "      <th>2022-08-09 09:03:20</th>\n",
       "      <td>109025.0</td>\n",
       "      <td>109030.0</td>\n",
       "      <td>108970.0</td>\n",
       "      <td>109015.0</td>\n",
       "      <td>4384</td>\n",
       "      <td>11805</td>\n",
       "      <td>109011.0</td>\n",
       "      <td>108994.523810</td>\n",
       "    </tr>\n",
       "    <tr>\n",
       "      <th>2022-08-09 09:03:21</th>\n",
       "      <td>109025.0</td>\n",
       "      <td>109030.0</td>\n",
       "      <td>108970.0</td>\n",
       "      <td>109005.0</td>\n",
       "      <td>4488</td>\n",
       "      <td>12000</td>\n",
       "      <td>109010.0</td>\n",
       "      <td>108993.333333</td>\n",
       "    </tr>\n",
       "    <tr>\n",
       "      <th>2022-08-09 09:03:22</th>\n",
       "      <td>109025.0</td>\n",
       "      <td>109030.0</td>\n",
       "      <td>108970.0</td>\n",
       "      <td>108985.0</td>\n",
       "      <td>4777</td>\n",
       "      <td>12855</td>\n",
       "      <td>109004.0</td>\n",
       "      <td>108991.428571</td>\n",
       "    </tr>\n",
       "    <tr>\n",
       "      <th>2022-08-09 09:03:23</th>\n",
       "      <td>109025.0</td>\n",
       "      <td>109030.0</td>\n",
       "      <td>108970.0</td>\n",
       "      <td>108985.0</td>\n",
       "      <td>4847</td>\n",
       "      <td>12961</td>\n",
       "      <td>108999.0</td>\n",
       "      <td>108991.428571</td>\n",
       "    </tr>\n",
       "    <tr>\n",
       "      <th>2022-08-09 09:03:24</th>\n",
       "      <td>109025.0</td>\n",
       "      <td>109030.0</td>\n",
       "      <td>108970.0</td>\n",
       "      <td>108980.0</td>\n",
       "      <td>4983</td>\n",
       "      <td>13308</td>\n",
       "      <td>108994.0</td>\n",
       "      <td>108990.952381</td>\n",
       "    </tr>\n",
       "    <tr>\n",
       "      <th>...</th>\n",
       "      <td>...</td>\n",
       "      <td>...</td>\n",
       "      <td>...</td>\n",
       "      <td>...</td>\n",
       "      <td>...</td>\n",
       "      <td>...</td>\n",
       "      <td>...</td>\n",
       "      <td>...</td>\n",
       "    </tr>\n",
       "    <tr>\n",
       "      <th>2022-08-15 17:50:55</th>\n",
       "      <td>113265.0</td>\n",
       "      <td>113280.0</td>\n",
       "      <td>113235.0</td>\n",
       "      <td>113235.0</td>\n",
       "      <td>2271</td>\n",
       "      <td>7924</td>\n",
       "      <td>113240.0</td>\n",
       "      <td>113241.428571</td>\n",
       "    </tr>\n",
       "    <tr>\n",
       "      <th>2022-08-15 17:50:56</th>\n",
       "      <td>113265.0</td>\n",
       "      <td>113280.0</td>\n",
       "      <td>113230.0</td>\n",
       "      <td>113230.0</td>\n",
       "      <td>2377</td>\n",
       "      <td>8206</td>\n",
       "      <td>113238.0</td>\n",
       "      <td>113240.476190</td>\n",
       "    </tr>\n",
       "    <tr>\n",
       "      <th>2022-08-15 17:50:57</th>\n",
       "      <td>113265.0</td>\n",
       "      <td>113280.0</td>\n",
       "      <td>113230.0</td>\n",
       "      <td>113235.0</td>\n",
       "      <td>2409</td>\n",
       "      <td>8287</td>\n",
       "      <td>113236.0</td>\n",
       "      <td>113240.000000</td>\n",
       "    </tr>\n",
       "    <tr>\n",
       "      <th>2022-08-15 17:50:58</th>\n",
       "      <td>113265.0</td>\n",
       "      <td>113280.0</td>\n",
       "      <td>113230.0</td>\n",
       "      <td>113230.0</td>\n",
       "      <td>2424</td>\n",
       "      <td>8326</td>\n",
       "      <td>113234.0</td>\n",
       "      <td>113239.285714</td>\n",
       "    </tr>\n",
       "    <tr>\n",
       "      <th>2022-08-15 17:50:59</th>\n",
       "      <td>113265.0</td>\n",
       "      <td>113280.0</td>\n",
       "      <td>113230.0</td>\n",
       "      <td>113230.0</td>\n",
       "      <td>2464</td>\n",
       "      <td>8429</td>\n",
       "      <td>113232.0</td>\n",
       "      <td>113238.333333</td>\n",
       "    </tr>\n",
       "  </tbody>\n",
       "</table>\n",
       "<p>157460 rows × 8 columns</p>\n",
       "</div>"
      ],
      "text/plain": [
       "                         Open     Hight       Low     Close  Ticket  Volume  \\\n",
       "Date                                                                          \n",
       "2022-08-09 09:03:20  109025.0  109030.0  108970.0  109015.0    4384   11805   \n",
       "2022-08-09 09:03:21  109025.0  109030.0  108970.0  109005.0    4488   12000   \n",
       "2022-08-09 09:03:22  109025.0  109030.0  108970.0  108985.0    4777   12855   \n",
       "2022-08-09 09:03:23  109025.0  109030.0  108970.0  108985.0    4847   12961   \n",
       "2022-08-09 09:03:24  109025.0  109030.0  108970.0  108980.0    4983   13308   \n",
       "...                       ...       ...       ...       ...     ...     ...   \n",
       "2022-08-15 17:50:55  113265.0  113280.0  113235.0  113235.0    2271    7924   \n",
       "2022-08-15 17:50:56  113265.0  113280.0  113230.0  113230.0    2377    8206   \n",
       "2022-08-15 17:50:57  113265.0  113280.0  113230.0  113235.0    2409    8287   \n",
       "2022-08-15 17:50:58  113265.0  113280.0  113230.0  113230.0    2424    8326   \n",
       "2022-08-15 17:50:59  113265.0  113280.0  113230.0  113230.0    2464    8429   \n",
       "\n",
       "                         mm5d          mm21d  \n",
       "Date                                          \n",
       "2022-08-09 09:03:20  109011.0  108994.523810  \n",
       "2022-08-09 09:03:21  109010.0  108993.333333  \n",
       "2022-08-09 09:03:22  109004.0  108991.428571  \n",
       "2022-08-09 09:03:23  108999.0  108991.428571  \n",
       "2022-08-09 09:03:24  108994.0  108990.952381  \n",
       "...                       ...            ...  \n",
       "2022-08-15 17:50:55  113240.0  113241.428571  \n",
       "2022-08-15 17:50:56  113238.0  113240.476190  \n",
       "2022-08-15 17:50:57  113236.0  113240.000000  \n",
       "2022-08-15 17:50:58  113234.0  113239.285714  \n",
       "2022-08-15 17:50:59  113232.0  113238.333333  \n",
       "\n",
       "[157460 rows x 8 columns]"
      ]
     },
     "execution_count": 4,
     "metadata": {},
     "output_type": "execute_result"
    }
   ],
   "source": [
    "#data = pd.read_csv(\"../input/winq22/WINQ22_SPREAD_1.csv\",sep=\";\")\n",
    "data = pd.read_csv(\"../input/winq22-process/submission_example.csv\",\n",
    "                  #skiprows = range(30001, 3119977), # ignora as primeiras 10 linhas do excel\n",
    "                  )\n",
    "df = pd.DataFrame(data)\n",
    "# df = df.reset_index()\n",
    "df.shape\n",
    "\n",
    "#Criando o Dataframe\n",
    "df.sort_index(ascending=True, axis=0)\n",
    "data = df.sort_index(ascending=True, axis=0)\n",
    "\n",
    "#Colocando data como índice\n",
    "df.index = df.Date\n",
    "df.drop('Date', axis=1, inplace=True)\n",
    "\n",
    "df.head()\n",
    "\n",
    "df['mm5d'] = df['Close'].rolling(5).mean()\n",
    "df['mm21d'] = df['Close'].rolling(21).mean()\n",
    "\n",
    "#retirando os dados nulos\n",
    "df.dropna(inplace=True)\n",
    "df"
   ]
  },
  {
   "cell_type": "code",
   "execution_count": 5,
   "id": "e628e54e",
   "metadata": {
    "execution": {
     "iopub.execute_input": "2022-09-13T00:07:25.661838Z",
     "iopub.status.busy": "2022-09-13T00:07:25.661291Z",
     "iopub.status.idle": "2022-09-13T00:07:26.065302Z",
     "shell.execute_reply": "2022-09-13T00:07:26.064243Z"
    },
    "papermill": {
     "duration": 0.415174,
     "end_time": "2022-09-13T00:07:26.067953",
     "exception": false,
     "start_time": "2022-09-13T00:07:25.652779",
     "status": "completed"
    },
    "tags": []
   },
   "outputs": [
    {
     "data": {
      "image/png": "[encoded data removed]",
      "text/plain": [
       "<Figure size 1296x648 with 1 Axes>"
      ]
     },
     "metadata": {
      "needs_background": "light"
     },
     "output_type": "display_data"
    }
   ],
   "source": [
    "plt.figure(figsize = (18,9))\n",
    "plt.plot(range(df.shape[0]),(df['Close']))\n",
    "plt.xticks(range(0,df.shape[0],10000),df.index[::10000],rotation=45)\n",
    "plt.xlabel('Date',fontsize=18)\n",
    "plt.ylabel('Mid Price',fontsize=18)\n",
    "plt.show()"
   ]
  },
  {
   "cell_type": "code",
   "execution_count": 6,
   "id": "69ef4800",
   "metadata": {
    "execution": {
     "iopub.execute_input": "2022-09-13T00:07:26.087519Z",
     "iopub.status.busy": "2022-09-13T00:07:26.086603Z",
     "iopub.status.idle": "2022-09-13T00:07:26.091322Z",
     "shell.execute_reply": "2022-09-13T00:07:26.090476Z"
    },
    "papermill": {
     "duration": 0.017275,
     "end_time": "2022-09-13T00:07:26.093878",
     "exception": false,
     "start_time": "2022-09-13T00:07:26.076603",
     "status": "completed"
    },
    "tags": []
   },
   "outputs": [],
   "source": [
    "#Importando as libraries\n",
    "from sklearn.preprocessing import MinMaxScaler\n",
    "from keras.models import Sequential\n",
    "from keras.layers import Dense, Dropout, LSTM"
   ]
  },
  {
   "cell_type": "markdown",
   "id": "460969c4",
   "metadata": {
    "papermill": {
     "duration": 0.008078,
     "end_time": "2022-09-13T00:07:26.110165",
     "exception": false,
     "start_time": "2022-09-13T00:07:26.102087",
     "status": "completed"
    },
    "tags": []
   },
   "source": [
    "# =============================================="
   ]
  },
  {
   "cell_type": "code",
   "execution_count": 7,
   "id": "f3f0998b",
   "metadata": {
    "execution": {
     "iopub.execute_input": "2022-09-13T00:07:26.127919Z",
     "iopub.status.busy": "2022-09-13T00:07:26.127504Z",
     "iopub.status.idle": "2022-09-13T00:07:26.138045Z",
     "shell.execute_reply": "2022-09-13T00:07:26.137204Z"
    },
    "papermill": {
     "duration": 0.021989,
     "end_time": "2022-09-13T00:07:26.140125",
     "exception": false,
     "start_time": "2022-09-13T00:07:26.118136",
     "status": "completed"
    },
    "tags": []
   },
   "outputs": [],
   "source": [
    "features = df.loc[:,['Open', 'Hight', 'Low', 'Ticket','Volume','mm5d','mm21d']]\n",
    "y_output = df['Close']"
   ]
  },
  {
   "cell_type": "code",
   "execution_count": 8,
   "id": "f872851e",
   "metadata": {
    "execution": {
     "iopub.execute_input": "2022-09-13T00:07:26.158026Z",
     "iopub.status.busy": "2022-09-13T00:07:26.157357Z",
     "iopub.status.idle": "2022-09-13T00:07:26.174562Z",
     "shell.execute_reply": "2022-09-13T00:07:26.173239Z"
    },
    "papermill": {
     "duration": 0.029246,
     "end_time": "2022-09-13T00:07:26.177329",
     "exception": false,
     "start_time": "2022-09-13T00:07:26.148083",
     "status": "completed"
    },
    "tags": []
   },
   "outputs": [
    {
     "name": "stdout",
     "output_type": "stream",
     "text": [
      "110222 110222\n",
      "47238 47238\n"
     ]
    }
   ],
   "source": [
    "split_percentage = 0.7\n",
    "split = int(split_percentage*len(df))\n",
    "  \n",
    "# Train data set\n",
    "X_train = features[:split]\n",
    "y_train = y_output[:split]\n",
    "  \n",
    "# Test data set\n",
    "X_test = features[split:]\n",
    "y_test = y_output[split:]\n",
    "\n",
    "print( len(X_train), len(y_train))\n",
    "print( len(X_test), len(y_test))"
   ]
  },
  {
   "cell_type": "code",
   "execution_count": 9,
   "id": "775ea961",
   "metadata": {
    "execution": {
     "iopub.execute_input": "2022-09-13T00:07:26.197090Z",
     "iopub.status.busy": "2022-09-13T00:07:26.196219Z",
     "iopub.status.idle": "2022-09-13T00:07:26.201742Z",
     "shell.execute_reply": "2022-09-13T00:07:26.200582Z"
    },
    "papermill": {
     "duration": 0.018189,
     "end_time": "2022-09-13T00:07:26.204533",
     "exception": false,
     "start_time": "2022-09-13T00:07:26.186344",
     "status": "completed"
    },
    "tags": []
   },
   "outputs": [],
   "source": [
    "# # Normalizando os dados de entrada(features)\n",
    "\n",
    "# # Gerando o novo padrão\n",
    "# scaler = StandardScaler()\n",
    "# X_train_scale = scaler.fit_transform(X_train)  # Normalizando os dados de entrada(treinamento)\n",
    "# X_test_scale  = scaler.transform(X_test)       # Normalizando os dados de entrada(teste)"
   ]
  },
  {
   "cell_type": "code",
   "execution_count": 10,
   "id": "f3503e84",
   "metadata": {
    "execution": {
     "iopub.execute_input": "2022-09-13T00:07:26.224501Z",
     "iopub.status.busy": "2022-09-13T00:07:26.223699Z",
     "iopub.status.idle": "2022-09-13T00:07:26.250830Z",
     "shell.execute_reply": "2022-09-13T00:07:26.249726Z"
    },
    "papermill": {
     "duration": 0.040056,
     "end_time": "2022-09-13T00:07:26.253363",
     "exception": false,
     "start_time": "2022-09-13T00:07:26.213307",
     "status": "completed"
    },
    "tags": []
   },
   "outputs": [],
   "source": [
    "# Normalizando os dados de entrada(features)\n",
    "\n",
    "# Gerando o novo padrão\n",
    "scaler = MinMaxScaler()\n",
    "X_train_scale = scaler.fit_transform(X_train)  # Normalizando os dados de entrada(treinamento)\n",
    "X_test_scale  = scaler.transform(X_test)       # Normalizando os dados de entrada(teste)"
   ]
  },
  {
   "cell_type": "code",
   "execution_count": 11,
   "id": "a03b929a",
   "metadata": {
    "execution": {
     "iopub.execute_input": "2022-09-13T00:07:26.271867Z",
     "iopub.status.busy": "2022-09-13T00:07:26.271037Z",
     "iopub.status.idle": "2022-09-13T00:07:26.277816Z",
     "shell.execute_reply": "2022-09-13T00:07:26.276405Z"
    },
    "papermill": {
     "duration": 0.018705,
     "end_time": "2022-09-13T00:07:26.280262",
     "exception": false,
     "start_time": "2022-09-13T00:07:26.261557",
     "status": "completed"
    },
    "tags": []
   },
   "outputs": [
    {
     "name": "stdout",
     "output_type": "stream",
     "text": [
      "(110222, 7) (47238, 7)\n"
     ]
    }
   ],
   "source": [
    "print(X_train.shape, X_test.shape)"
   ]
  },
  {
   "cell_type": "code",
   "execution_count": 12,
   "id": "67af6bb5",
   "metadata": {
    "execution": {
     "iopub.execute_input": "2022-09-13T00:07:26.298285Z",
     "iopub.status.busy": "2022-09-13T00:07:26.297818Z",
     "iopub.status.idle": "2022-09-13T00:07:26.309303Z",
     "shell.execute_reply": "2022-09-13T00:07:26.308210Z"
    },
    "papermill": {
     "duration": 0.023563,
     "end_time": "2022-09-13T00:07:26.312004",
     "exception": false,
     "start_time": "2022-09-13T00:07:26.288441",
     "status": "completed"
    },
    "tags": []
   },
   "outputs": [],
   "source": [
    "#Process the data for LSTM\n",
    "trainX =np.array(X_train_scale)\n",
    "testX =np.array(X_test_scale)\n",
    "X_train = trainX.reshape(X_train_scale.shape[0], 1, X_train_scale.shape[1])\n",
    "X_test = testX.reshape(X_test_scale.shape[0], 1, X_test_scale.shape[1])"
   ]
  },
  {
   "cell_type": "code",
   "execution_count": 13,
   "id": "7060ce74",
   "metadata": {
    "execution": {
     "iopub.execute_input": "2022-09-13T00:07:26.331370Z",
     "iopub.status.busy": "2022-09-13T00:07:26.330480Z",
     "iopub.status.idle": "2022-09-13T00:07:27.738629Z",
     "shell.execute_reply": "2022-09-13T00:07:27.737395Z"
    },
    "papermill": {
     "duration": 1.421182,
     "end_time": "2022-09-13T00:07:27.741590",
     "exception": false,
     "start_time": "2022-09-13T00:07:26.320408",
     "status": "completed"
    },
    "tags": []
   },
   "outputs": [
    {
     "name": "stderr",
     "output_type": "stream",
     "text": [
      "2022-09-13 00:07:26.371424: I tensorflow/core/common_runtime/process_util.cc:146] Creating new thread pool with default inter op setting: 2. Tune using inter_op_parallelism_threads for best performance.\n"
     ]
    },
    {
     "data": {
      "image/png": "[encoded data removed]",
      "text/plain": [
       "<IPython.core.display.Image object>"
      ]
     },
     "execution_count": 13,
     "metadata": {},
     "output_type": "execute_result"
    }
   ],
   "source": [
    "# Criando o modelo LSTM\n",
    "# model = Sequential()\n",
    "# model.add(LSTM(units=50, return_sequences=True, input_shape=(X_train.shape[1],1)))\n",
    "\n",
    "# model.add(LSTM(units=50))\n",
    "from keras.layers import Input\n",
    "\n",
    "output_size = 6\n",
    "\n",
    "model = Sequential()\n",
    "model.add(LSTM(32, input_shape=(1, trainX.shape[1]), activation='relu', return_sequences=False))\n",
    "model.add(Dense(output_size))\n",
    "model.compile(loss='mean_squared_error', optimizer='adam')\n",
    "plot_model(model, show_shapes=True, show_layer_names=True)"
   ]
  },
  {
   "cell_type": "code",
   "execution_count": 14,
   "id": "128859fe",
   "metadata": {
    "execution": {
     "iopub.execute_input": "2022-09-13T00:07:27.762343Z",
     "iopub.status.busy": "2022-09-13T00:07:27.761409Z",
     "iopub.status.idle": "2022-09-13T00:41:51.547609Z",
     "shell.execute_reply": "2022-09-13T00:41:51.546220Z"
    },
    "papermill": {
     "duration": 2063.799692,
     "end_time": "2022-09-13T00:41:51.550346",
     "exception": false,
     "start_time": "2022-09-13T00:07:27.750654",
     "status": "completed"
    },
    "tags": []
   },
   "outputs": [
    {
     "name": "stderr",
     "output_type": "stream",
     "text": [
      "2022-09-13 00:07:27.844562: I tensorflow/compiler/mlir/mlir_graph_optimization_pass.cc:185] None of the MLIR Optimization Passes are enabled (registered 2)\n"
     ]
    },
    {
     "name": "stdout",
     "output_type": "stream",
     "text": [
      "Epoch 1/66\n",
      "13778/13778 [==============================] - 32s 2ms/step - loss: 10595612672.0000 - val_loss: 6817369600.0000\n",
      "Epoch 2/66\n",
      "13778/13778 [==============================] - 33s 2ms/step - loss: 6053666304.0000 - val_loss: 475566848.0000\n",
      "Epoch 3/66\n",
      "13778/13778 [==============================] - 32s 2ms/step - loss: 2233762816.0000 - val_loss: 1812325632.0000\n",
      "Epoch 4/66\n",
      "13778/13778 [==============================] - 31s 2ms/step - loss: 1247486848.0000 - val_loss: 2185448192.0000\n",
      "Epoch 5/66\n",
      "13778/13778 [==============================] - 32s 2ms/step - loss: 1174045952.0000 - val_loss: 2108220672.0000\n",
      "Epoch 6/66\n",
      "13778/13778 [==============================] - 30s 2ms/step - loss: 1129838080.0000 - val_loss: 2017152256.0000\n",
      "Epoch 7/66\n",
      "13778/13778 [==============================] - 30s 2ms/step - loss: 1086335360.0000 - val_loss: 1925696768.0000\n",
      "Epoch 8/66\n",
      "13778/13778 [==============================] - 30s 2ms/step - loss: 1042695424.0000 - val_loss: 1834290304.0000\n",
      "Epoch 9/66\n",
      "13778/13778 [==============================] - 30s 2ms/step - loss: 998885248.0000 - val_loss: 1742983552.0000\n",
      "Epoch 10/66\n",
      "13778/13778 [==============================] - 30s 2ms/step - loss: 954910464.0000 - val_loss: 1651756544.0000\n",
      "Epoch 11/66\n",
      "13778/13778 [==============================] - 30s 2ms/step - loss: 910767936.0000 - val_loss: 1560706432.0000\n",
      "Epoch 12/66\n",
      "13778/13778 [==============================] - 31s 2ms/step - loss: 866468288.0000 - val_loss: 1469923456.0000\n",
      "Epoch 13/66\n",
      "13778/13778 [==============================] - 30s 2ms/step - loss: 822033984.0000 - val_loss: 1379462528.0000\n",
      "Epoch 14/66\n",
      "13778/13778 [==============================] - 30s 2ms/step - loss: 777509824.0000 - val_loss: 1289484672.0000\n",
      "Epoch 15/66\n",
      "13778/13778 [==============================] - 30s 2ms/step - loss: 732925120.0000 - val_loss: 1200186752.0000\n",
      "Epoch 16/66\n",
      "13778/13778 [==============================] - 30s 2ms/step - loss: 688365952.0000 - val_loss: 1111770880.0000\n",
      "Epoch 17/66\n",
      "13778/13778 [==============================] - 31s 2ms/step - loss: 643907904.0000 - val_loss: 1024498368.0000\n",
      "Epoch 18/66\n",
      "13778/13778 [==============================] - 30s 2ms/step - loss: 599658496.0000 - val_loss: 938658560.0000\n",
      "Epoch 19/66\n",
      "13778/13778 [==============================] - 31s 2ms/step - loss: 555753984.0000 - val_loss: 854631808.0000\n",
      "Epoch 20/66\n",
      "13778/13778 [==============================] - 32s 2ms/step - loss: 512346016.0000 - val_loss: 772741568.0000\n",
      "Epoch 21/66\n",
      "13778/13778 [==============================] - 32s 2ms/step - loss: 469623648.0000 - val_loss: 693444864.0000\n",
      "Epoch 22/66\n",
      "13778/13778 [==============================] - 33s 2ms/step - loss: 427795232.0000 - val_loss: 617182272.0000\n",
      "Epoch 23/66\n",
      "13778/13778 [==============================] - 32s 2ms/step - loss: 387092096.0000 - val_loss: 544419904.0000\n",
      "Epoch 24/66\n",
      "13778/13778 [==============================] - 32s 2ms/step - loss: 347759168.0000 - val_loss: 475580160.0000\n",
      "Epoch 25/66\n",
      "13778/13778 [==============================] - 33s 2ms/step - loss: 310058080.0000 - val_loss: 411109568.0000\n",
      "Epoch 26/66\n",
      "13778/13778 [==============================] - 33s 2ms/step - loss: 274246208.0000 - val_loss: 351374752.0000\n",
      "Epoch 27/66\n",
      "13778/13778 [==============================] - 32s 2ms/step - loss: 240560048.0000 - val_loss: 296659936.0000\n",
      "Epoch 28/66\n",
      "13778/13778 [==============================] - 31s 2ms/step - loss: 209197280.0000 - val_loss: 247145664.0000\n",
      "Epoch 29/66\n",
      "13778/13778 [==============================] - 30s 2ms/step - loss: 180312768.0000 - val_loss: 202915920.0000\n",
      "Epoch 30/66\n",
      "13778/13778 [==============================] - 31s 2ms/step - loss: 153987488.0000 - val_loss: 163928528.0000\n",
      "Epoch 31/66\n",
      "13778/13778 [==============================] - 30s 2ms/step - loss: 130211936.0000 - val_loss: 130048488.0000\n",
      "Epoch 32/66\n",
      "13778/13778 [==============================] - 32s 2ms/step - loss: 108916864.0000 - val_loss: 101071280.0000\n",
      "Epoch 33/66\n",
      "13778/13778 [==============================] - 32s 2ms/step - loss: 89985232.0000 - val_loss: 76754480.0000\n",
      "Epoch 34/66\n",
      "13778/13778 [==============================] - 32s 2ms/step - loss: 73304728.0000 - val_loss: 56845868.0000\n",
      "Epoch 35/66\n",
      "13778/13778 [==============================] - 32s 2ms/step - loss: 58816076.0000 - val_loss: 41087880.0000\n",
      "Epoch 36/66\n",
      "13778/13778 [==============================] - 33s 2ms/step - loss: 46519540.0000 - val_loss: 29167066.0000\n",
      "Epoch 37/66\n",
      "13778/13778 [==============================] - 31s 2ms/step - loss: 36425636.0000 - val_loss: 20646036.0000\n",
      "Epoch 38/66\n",
      "13778/13778 [==============================] - 30s 2ms/step - loss: 28442490.0000 - val_loss: 14901545.0000\n",
      "Epoch 39/66\n",
      "13778/13778 [==============================] - 31s 2ms/step - loss: 22296974.0000 - val_loss: 11167136.0000\n",
      "Epoch 40/66\n",
      "13778/13778 [==============================] - 30s 2ms/step - loss: 17577720.0000 - val_loss: 8684749.0000\n",
      "Epoch 41/66\n",
      "13778/13778 [==============================] - 35s 3ms/step - loss: 13860294.0000 - val_loss: 6883379.0000\n",
      "Epoch 42/66\n",
      "13778/13778 [==============================] - 31s 2ms/step - loss: 10825684.0000 - val_loss: 5431890.0000\n",
      "Epoch 43/66\n",
      "13778/13778 [==============================] - 30s 2ms/step - loss: 8280758.0000 - val_loss: 4184434.7500\n",
      "Epoch 44/66\n",
      "13778/13778 [==============================] - 31s 2ms/step - loss: 6128136.5000 - val_loss: 3095004.5000\n",
      "Epoch 45/66\n",
      "13778/13778 [==============================] - 31s 2ms/step - loss: 4324066.0000 - val_loss: 2158497.2500\n",
      "Epoch 46/66\n",
      "13778/13778 [==============================] - 30s 2ms/step - loss: 2850267.2500 - val_loss: 1381992.7500\n",
      "Epoch 47/66\n",
      "13778/13778 [==============================] - 30s 2ms/step - loss: 1697099.5000 - val_loss: 774116.6250\n",
      "Epoch 48/66\n",
      "13778/13778 [==============================] - 30s 2ms/step - loss: 855843.0625 - val_loss: 341715.5625\n",
      "Epoch 49/66\n",
      "13778/13778 [==============================] - 30s 2ms/step - loss: 314196.5625 - val_loss: 87388.2500\n",
      "Epoch 50/66\n",
      "13778/13778 [==============================] - 30s 2ms/step - loss: 51175.8945 - val_loss: 1719.8325\n",
      "Epoch 51/66\n",
      "13778/13778 [==============================] - 30s 2ms/step - loss: 536.7048 - val_loss: 1362.6100\n",
      "Epoch 52/66\n",
      "13778/13778 [==============================] - 30s 2ms/step - loss: 302.8198 - val_loss: 497.9911\n",
      "Epoch 53/66\n",
      "13778/13778 [==============================] - 30s 2ms/step - loss: 277.7520 - val_loss: 265.9453\n",
      "Epoch 54/66\n",
      "13778/13778 [==============================] - 31s 2ms/step - loss: 259.9648 - val_loss: 257.5973\n",
      "Epoch 55/66\n",
      "13778/13778 [==============================] - 31s 2ms/step - loss: 246.2745 - val_loss: 337.7414\n",
      "Epoch 56/66\n",
      "13778/13778 [==============================] - 31s 2ms/step - loss: 235.3658 - val_loss: 451.5118\n",
      "Epoch 57/66\n",
      "13778/13778 [==============================] - 30s 2ms/step - loss: 226.4509 - val_loss: 578.3363\n",
      "Epoch 58/66\n",
      "13778/13778 [==============================] - 30s 2ms/step - loss: 219.0764 - val_loss: 719.5604\n",
      "Epoch 59/66\n",
      "13778/13778 [==============================] - 31s 2ms/step - loss: 212.9642 - val_loss: 850.6755\n",
      "Epoch 60/66\n",
      "13778/13778 [==============================] - 30s 2ms/step - loss: 207.7623 - val_loss: 970.2325\n",
      "Epoch 61/66\n",
      "13778/13778 [==============================] - 30s 2ms/step - loss: 203.2680 - val_loss: 1089.7723\n",
      "Epoch 62/66\n",
      "13778/13778 [==============================] - 31s 2ms/step - loss: 199.3751 - val_loss: 1203.9159\n",
      "Epoch 63/66\n",
      "13778/13778 [==============================] - 30s 2ms/step - loss: 195.9230 - val_loss: 1301.8317\n",
      "Epoch 64/66\n",
      "13778/13778 [==============================] - 30s 2ms/step - loss: 192.7730 - val_loss: 1388.9851\n",
      "Epoch 65/66\n",
      "13778/13778 [==============================] - 30s 2ms/step - loss: 189.8701 - val_loss: 1462.9822\n",
      "Epoch 66/66\n",
      "13778/13778 [==============================] - 31s 2ms/step - loss: 187.1366 - val_loss: 1532.2423\n"
     ]
    }
   ],
   "source": [
    "epocas = 66\n",
    "history = model.fit(X_train, y_train.values.ravel(), \n",
    "                    epochs=epocas,validation_data=(X_test, y_test), \n",
    "                    batch_size=8, verbose=1, shuffle=False)\n"
   ]
  },
  {
   "cell_type": "code",
   "execution_count": 15,
   "id": "cf81d709",
   "metadata": {
    "execution": {
     "iopub.execute_input": "2022-09-13T00:41:56.003361Z",
     "iopub.status.busy": "2022-09-13T00:41:56.002613Z",
     "iopub.status.idle": "2022-09-13T00:41:56.009394Z",
     "shell.execute_reply": "2022-09-13T00:41:56.008124Z"
    },
    "papermill": {
     "duration": 2.280546,
     "end_time": "2022-09-13T00:41:56.011876",
     "exception": false,
     "start_time": "2022-09-13T00:41:53.731330",
     "status": "completed"
    },
    "tags": []
   },
   "outputs": [],
   "source": [
    "X_test_2 = X_test[range(0,len(X_test),output_size)]\n"
   ]
  },
  {
   "cell_type": "code",
   "execution_count": 16,
   "id": "3fd28ba5",
   "metadata": {
    "execution": {
     "iopub.execute_input": "2022-09-13T00:42:00.375637Z",
     "iopub.status.busy": "2022-09-13T00:42:00.375244Z",
     "iopub.status.idle": "2022-09-13T00:42:00.870596Z",
     "shell.execute_reply": "2022-09-13T00:42:00.869712Z"
    },
    "papermill": {
     "duration": 2.68064,
     "end_time": "2022-09-13T00:42:00.872758",
     "exception": false,
     "start_time": "2022-09-13T00:41:58.192118",
     "status": "completed"
    },
    "tags": []
   },
   "outputs": [
    {
     "data": {
      "text/plain": [
       "(47238, 1)"
      ]
     },
     "execution_count": 16,
     "metadata": {},
     "output_type": "execute_result"
    }
   ],
   "source": [
    "\n",
    "y_pred= model.predict(X_test_2)\n",
    "y_pred.shape\n",
    "y_pred2 = np.reshape(y_pred,(len(y_test),1))\n",
    "y_pred2.shape"
   ]
  },
  {
   "cell_type": "code",
   "execution_count": 17,
   "id": "b6f5d62a",
   "metadata": {
    "execution": {
     "iopub.execute_input": "2022-09-13T00:42:05.209935Z",
     "iopub.status.busy": "2022-09-13T00:42:05.208950Z",
     "iopub.status.idle": "2022-09-13T00:42:07.016745Z",
     "shell.execute_reply": "2022-09-13T00:42:07.015442Z"
    },
    "papermill": {
     "duration": 3.975227,
     "end_time": "2022-09-13T00:42:07.019444",
     "exception": false,
     "start_time": "2022-09-13T00:42:03.044217",
     "status": "completed"
    },
    "tags": []
   },
   "outputs": [
    {
     "data": {
      "image/png": "[encoded data removed]",
      "text/plain": [
       "<Figure size 432x288 with 1 Axes>"
      ]
     },
     "metadata": {
      "needs_background": "light"
     },
     "output_type": "display_data"
    },
    {
     "data": {
      "image/png": "[encoded data removed]",
      "text/plain": [
       "<Figure size 432x288 with 1 Axes>"
      ]
     },
     "metadata": {
      "needs_background": "light"
     },
     "output_type": "display_data"
    },
    {
     "name": "stdout",
     "output_type": "stream",
     "text": [
      "MAPE: 0.03025%\n",
      "MSE: 1714.67\n"
     ]
    }
   ],
   "source": [
    "# #LSTM Prediction\n",
    "# #y_pred= model.predict(X_test.reshape((1,3,1)))\n",
    "# y_pred= model.predict(X_test)\n",
    "# # print(y_pred)\n",
    "# # plt.plot(y_pred)\n",
    "plotar_testes(y_test,y_pred2,'LSTM')\n",
    "plotar_testes_1000(y_test,y_pred2,100,'LSTM')\n",
    "erros(y_test, y_pred2)"
   ]
  },
  {
   "cell_type": "code",
   "execution_count": 18,
   "id": "13e96c11",
   "metadata": {
    "execution": {
     "iopub.execute_input": "2022-09-13T00:42:11.512948Z",
     "iopub.status.busy": "2022-09-13T00:42:11.512199Z",
     "iopub.status.idle": "2022-09-13T00:42:11.521565Z",
     "shell.execute_reply": "2022-09-13T00:42:11.520120Z"
    },
    "papermill": {
     "duration": 2.306893,
     "end_time": "2022-09-13T00:42:11.523881",
     "exception": false,
     "start_time": "2022-09-13T00:42:09.216988",
     "status": "completed"
    },
    "tags": []
   },
   "outputs": [
    {
     "data": {
      "text/plain": [
       "Date\n",
       "2022-08-12 13:30:41    111830.0\n",
       "2022-08-12 13:30:42    111830.0\n",
       "2022-08-12 13:30:43    111825.0\n",
       "2022-08-12 13:30:44    111830.0\n",
       "2022-08-12 13:30:45    111825.0\n",
       "                         ...   \n",
       "2022-08-15 17:50:55    113235.0\n",
       "2022-08-15 17:50:56    113230.0\n",
       "2022-08-15 17:50:57    113235.0\n",
       "2022-08-15 17:50:58    113230.0\n",
       "2022-08-15 17:50:59    113230.0\n",
       "Name: Close, Length: 47238, dtype: float64"
      ]
     },
     "execution_count": 18,
     "metadata": {},
     "output_type": "execute_result"
    }
   ],
   "source": [
    "y_test"
   ]
  },
  {
   "cell_type": "code",
   "execution_count": 19,
   "id": "0895032d",
   "metadata": {
    "execution": {
     "iopub.execute_input": "2022-09-13T00:42:15.902444Z",
     "iopub.status.busy": "2022-09-13T00:42:15.902048Z",
     "iopub.status.idle": "2022-09-13T00:42:16.441185Z",
     "shell.execute_reply": "2022-09-13T00:42:16.440293Z"
    },
    "papermill": {
     "duration": 2.698291,
     "end_time": "2022-09-13T00:42:16.443707",
     "exception": false,
     "start_time": "2022-09-13T00:42:13.745416",
     "status": "completed"
    },
    "tags": []
   },
   "outputs": [],
   "source": [
    "from tensorflow.keras.models import save_model\n",
    "save_model(model, \"model.h5\")"
   ]
  },
  {
   "cell_type": "code",
   "execution_count": 20,
   "id": "ad0cfa1a",
   "metadata": {
    "execution": {
     "iopub.execute_input": "2022-09-13T00:42:20.838557Z",
     "iopub.status.busy": "2022-09-13T00:42:20.837465Z",
     "iopub.status.idle": "2022-09-13T00:42:20.842941Z",
     "shell.execute_reply": "2022-09-13T00:42:20.841742Z"
    },
    "papermill": {
     "duration": 2.218792,
     "end_time": "2022-09-13T00:42:20.845475",
     "exception": false,
     "start_time": "2022-09-13T00:42:18.626683",
     "status": "completed"
    },
    "tags": []
   },
   "outputs": [],
   "source": [
    "# from keras.models import load_model\n",
    "# model = load_model('../input/model-save/stund_split_10.h5')"
   ]
  },
  {
   "cell_type": "code",
   "execution_count": 21,
   "id": "d0464f92",
   "metadata": {
    "execution": {
     "iopub.execute_input": "2022-09-13T00:42:25.203835Z",
     "iopub.status.busy": "2022-09-13T00:42:25.203461Z",
     "iopub.status.idle": "2022-09-13T00:42:25.400736Z",
     "shell.execute_reply": "2022-09-13T00:42:25.399481Z"
    },
    "papermill": {
     "duration": 2.380457,
     "end_time": "2022-09-13T00:42:25.403216",
     "exception": false,
     "start_time": "2022-09-13T00:42:23.022759",
     "status": "completed"
    },
    "tags": []
   },
   "outputs": [
    {
     "data": {
      "image/png": "[encoded data removed]",
      "text/plain": [
       "<Figure size 432x288 with 1 Axes>"
      ]
     },
     "metadata": {
      "needs_background": "light"
     },
     "output_type": "display_data"
    }
   ],
   "source": [
    "plt.plot(history.history['loss'], label='train')\n",
    "plt.plot(history.history['val_loss'], label='test')\n",
    "plt.legend()\n",
    "plt.show()"
   ]
  },
  {
   "cell_type": "code",
   "execution_count": 22,
   "id": "b932b6eb",
   "metadata": {
    "execution": {
     "iopub.execute_input": "2022-09-13T00:42:29.754107Z",
     "iopub.status.busy": "2022-09-13T00:42:29.753729Z",
     "iopub.status.idle": "2022-09-13T00:42:29.971063Z",
     "shell.execute_reply": "2022-09-13T00:42:29.970132Z"
    },
    "papermill": {
     "duration": 2.389525,
     "end_time": "2022-09-13T00:42:29.973433",
     "exception": false,
     "start_time": "2022-09-13T00:42:27.583908",
     "status": "completed"
    },
    "tags": []
   },
   "outputs": [
    {
     "data": {
      "image/png": "[encoded data removed]",
      "text/plain": [
       "<Figure size 432x288 with 1 Axes>"
      ]
     },
     "metadata": {
      "needs_background": "light"
     },
     "output_type": "display_data"
    }
   ],
   "source": [
    "high = epocas\n",
    "low = epocas-20\n",
    "\n",
    "plt.plot(history.history['loss'][low:high], label=f'train {low}-{high}')\n",
    "plt.plot(history.history['val_loss'][low:high], label=f'test {low}-{high}')\n",
    "plt.legend()\n",
    "plt.show()"
   ]
  },
  {
   "cell_type": "code",
   "execution_count": 23,
   "id": "d0ace1e5",
   "metadata": {
    "execution": {
     "iopub.execute_input": "2022-09-13T00:42:34.346411Z",
     "iopub.status.busy": "2022-09-13T00:42:34.346007Z",
     "iopub.status.idle": "2022-09-13T00:42:34.538013Z",
     "shell.execute_reply": "2022-09-13T00:42:34.536935Z"
    },
    "papermill": {
     "duration": 2.362792,
     "end_time": "2022-09-13T00:42:34.540736",
     "exception": false,
     "start_time": "2022-09-13T00:42:32.177944",
     "status": "completed"
    },
    "tags": []
   },
   "outputs": [
    {
     "data": {
      "image/png": "[encoded data removed]",
      "text/plain": [
       "<Figure size 432x288 with 1 Axes>"
      ]
     },
     "metadata": {
      "needs_background": "light"
     },
     "output_type": "display_data"
    }
   ],
   "source": [
    "plt.plot(history.history['val_loss'], label='test')\n",
    "plt.legend()\n",
    "plt.show()"
   ]
  },
  {
   "cell_type": "code",
   "execution_count": null,
   "id": "167d04a0",
   "metadata": {
    "papermill": {
     "duration": 2.228963,
     "end_time": "2022-09-13T00:42:38.939520",
     "exception": false,
     "start_time": "2022-09-13T00:42:36.710557",
     "status": "completed"
    },
    "tags": []
   },
   "outputs": [],
   "source": []
  }
 ],
 "metadata": {
  "kernelspec": {
   "display_name": "Python 3",
   "language": "python",
   "name": "python3"
  },
  "language_info": {
   "codemirror_mode": {
    "name": "ipython",
    "version": 3
   },
   "file_extension": ".py",
   "mimetype": "text/x-python",
   "name": "python",
   "nbconvert_exporter": "python",
   "pygments_lexer": "ipython3",
   "version": "3.7.12"
  },
  "papermill": {
   "default_parameters": {},
   "duration": 2137.148807,
   "end_time": "2022-09-13T00:42:44.507996",
   "environment_variables": {},
   "exception": null,
   "input_path": "__notebook__.ipynb",
   "output_path": "__notebook__.ipynb",
   "parameters": {},
   "start_time": "2022-09-13T00:07:07.359189",
   "version": "2.3.4"
  }
 },
 "nbformat": 4,
 "nbformat_minor": 5
}
