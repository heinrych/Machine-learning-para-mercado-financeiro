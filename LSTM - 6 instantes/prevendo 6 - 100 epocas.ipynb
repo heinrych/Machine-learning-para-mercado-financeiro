{
 "cells": [
  {
   "cell_type": "code",
   "execution_count": 1,
   "id": "6efe48e0",
   "metadata": {
    "_cell_guid": "b1076dfc-b9ad-4769-8c92-a6c4dae69d19",
    "_uuid": "8f2839f25d086af736a60e9eeb907d3b93b6e0e5",
    "execution": {
     "iopub.execute_input": "2022-09-13T00:06:30.214842Z",
     "iopub.status.busy": "2022-09-13T00:06:30.214171Z",
     "iopub.status.idle": "2022-09-13T00:06:30.228917Z",
     "shell.execute_reply": "2022-09-13T00:06:30.227795Z"
    },
    "papermill": {
     "duration": 0.027161,
     "end_time": "2022-09-13T00:06:30.231544",
     "exception": false,
     "start_time": "2022-09-13T00:06:30.204383",
     "status": "completed"
    },
    "tags": []
   },
   "outputs": [],
   "source": [
    "# This Python 3 environment comes with many helpful analytics libraries installed\n",
    "# It is defined by the kaggle/python Docker image: https://github.com/kaggle/docker-python\n",
    "# For example, here's several helpful packages to load\n",
    "\n",
    "import numpy as np # linear algebra\n",
    "import pandas as pd # data processing, CSV file I/O (e.g. pd.read_csv)\n",
    "\n",
    "# Input data files are available in the read-only \"../input/\" directory\n",
    "# For example, running this (by clicking run or pressing Shift+Enter) will list all files under the input directory\n",
    "\n",
    "import os\n",
    "\n",
    "# You can write up to 20GB to the current directory (/kaggle/working/) that gets preserved as output when you create a version using \"Save & Run All\" \n",
    "# You can also write temporary files to /kaggle/temp/, but they won't be saved outside of the current session"
   ]
  },
  {
   "cell_type": "code",
   "execution_count": 2,
   "id": "aa7d1164",
   "metadata": {
    "execution": {
     "iopub.execute_input": "2022-09-13T00:06:30.247292Z",
     "iopub.status.busy": "2022-09-13T00:06:30.246515Z",
     "iopub.status.idle": "2022-09-13T00:06:37.642409Z",
     "shell.execute_reply": "2022-09-13T00:06:37.641169Z"
    },
    "papermill": {
     "duration": 7.406981,
     "end_time": "2022-09-13T00:06:37.645285",
     "exception": false,
     "start_time": "2022-09-13T00:06:30.238304",
     "status": "completed"
    },
    "tags": []
   },
   "outputs": [],
   "source": [
    "# import yfinance as yf\n",
    "import pandas as pd\n",
    "import numpy as np\n",
    "from sklearn.preprocessing import StandardScaler  \n",
    "import matplotlib.pyplot as plt\n",
    "from sklearn.model_selection import train_test_split\n",
    "from collections import Counter\n",
    "\n",
    "from keras. utils.vis_utils import plot_model\n"
   ]
  },
  {
   "cell_type": "code",
   "execution_count": 3,
   "id": "9586e441",
   "metadata": {
    "execution": {
     "iopub.execute_input": "2022-09-13T00:06:37.661293Z",
     "iopub.status.busy": "2022-09-13T00:06:37.659816Z",
     "iopub.status.idle": "2022-09-13T00:06:37.673122Z",
     "shell.execute_reply": "2022-09-13T00:06:37.671835Z"
    },
    "papermill": {
     "duration": 0.024191,
     "end_time": "2022-09-13T00:06:37.676114",
     "exception": false,
     "start_time": "2022-09-13T00:06:37.651923",
     "status": "completed"
    },
    "tags": []
   },
   "outputs": [],
   "source": [
    "def plotar_testes(y_test,y_pred,modelo):\n",
    "    #Predicted vs True Adj Close Value – LSTM\n",
    "    plt.plot(y_test.values.ravel(), label='Valor real')\n",
    "    plt.plot(y_pred, label= f'{modelo} predição')\n",
    "    plt.xticks(range(0,y_test.shape[0],5000),y_test.index[::5000],rotation=45)\n",
    "    plt.title(f'Predição usando {modelo}')\n",
    "    plt.xlabel('Tempo')\n",
    "    plt.ylabel('Valor ação')\n",
    "    plt.legend()\n",
    "    plt.savefig(f\"grafico_train_test.png\",dpi=300, bbox_inches='tight')\n",
    "    plt.show()\n",
    "\n",
    "def plotar_testes_1000(y_test,y_pred,tam,modelo):\n",
    "    #Predicted vs True Adj Close Value – LSTM\n",
    "    base = int(tam*0.1)\n",
    "    plt.plot(y_test[-tam:-1].values.ravel(), label='Valor real')\n",
    "    plt.plot(y_pred[-tam:-1], label= f'{modelo} predição')\n",
    "    plt.xticks(range(0,y_test[-tam:-1].shape[0],base),y_test[-tam:-1].index[::base],rotation=45)\n",
    "    plt.title(f'Predição usando {modelo}')\n",
    "    plt.xlabel('Tempo')\n",
    "    plt.ylabel('Valor ação')\n",
    "    plt.legend()\n",
    "    plt.savefig(f\"-1000.png\",dpi=300, bbox_inches='tight')\n",
    "    plt.show()\n",
    "\n",
    "from sklearn.metrics import mean_squared_error\n",
    "from sklearn.metrics import mean_absolute_percentage_error\n",
    "\n",
    "\n",
    "def erros(y_test, y_pred):\n",
    "    mape = mean_absolute_percentage_error(y_test, y_pred)\n",
    "    print(f\"MAPE: {mape*100:.5f}%\")\n",
    "    \n",
    "    mse = mean_squared_error(y_test, y_pred)\n",
    "    print(f\"MSE: {mse:.2f}\")"
   ]
  },
  {
   "cell_type": "code",
   "execution_count": 4,
   "id": "6f58a5cd",
   "metadata": {
    "execution": {
     "iopub.execute_input": "2022-09-13T00:06:37.691668Z",
     "iopub.status.busy": "2022-09-13T00:06:37.691016Z",
     "iopub.status.idle": "2022-09-13T00:06:38.124845Z",
     "shell.execute_reply": "2022-09-13T00:06:38.123606Z"
    },
    "papermill": {
     "duration": 0.444712,
     "end_time": "2022-09-13T00:06:38.127647",
     "exception": false,
     "start_time": "2022-09-13T00:06:37.682935",
     "status": "completed"
    },
    "tags": []
   },
   "outputs": [
    {
     "data": {
      "text/html": [
       "<div>\n",
       "<style scoped>\n",
       "    .dataframe tbody tr th:only-of-type {\n",
       "        vertical-align: middle;\n",
       "    }\n",
       "\n",
       "    .dataframe tbody tr th {\n",
       "        vertical-align: top;\n",
       "    }\n",
       "\n",
       "    .dataframe thead th {\n",
       "        text-align: right;\n",
       "    }\n",
       "</style>\n",
       "<table border=\"1\" class=\"dataframe\">\n",
       "  <thead>\n",
       "    <tr style=\"text-align: right;\">\n",
       "      <th></th>\n",
       "      <th>Open</th>\n",
       "      <th>Hight</th>\n",
       "      <th>Low</th>\n",
       "      <th>Close</th>\n",
       "      <th>Ticket</th>\n",
       "      <th>Volume</th>\n",
       "      <th>mm5d</th>\n",
       "      <th>mm21d</th>\n",
       "    </tr>\n",
       "    <tr>\n",
       "      <th>Date</th>\n",
       "      <th></th>\n",
       "      <th></th>\n",
       "      <th></th>\n",
       "      <th></th>\n",
       "      <th></th>\n",
       "      <th></th>\n",
       "      <th></th>\n",
       "      <th></th>\n",
       "    </tr>\n",
       "  </thead>\n",
       "  <tbody>\n",
       "    <tr>\n",
       "      <th>2022-08-09 09:03:20</th>\n",
       "      <td>109025.0</td>\n",
       "      <td>109030.0</td>\n",
       "      <td>108970.0</td>\n",
       "      <td>109015.0</td>\n",
       "      <td>4384</td>\n",
       "      <td>11805</td>\n",
       "      <td>109011.0</td>\n",
       "      <td>108994.523810</td>\n",
       "    </tr>\n",
       "    <tr>\n",
       "      <th>2022-08-09 09:03:21</th>\n",
       "      <td>109025.0</td>\n",
       "      <td>109030.0</td>\n",
       "      <td>108970.0</td>\n",
       "      <td>109005.0</td>\n",
       "      <td>4488</td>\n",
       "      <td>12000</td>\n",
       "      <td>109010.0</td>\n",
       "      <td>108993.333333</td>\n",
       "    </tr>\n",
       "    <tr>\n",
       "      <th>2022-08-09 09:03:22</th>\n",
       "      <td>109025.0</td>\n",
       "      <td>109030.0</td>\n",
       "      <td>108970.0</td>\n",
       "      <td>108985.0</td>\n",
       "      <td>4777</td>\n",
       "      <td>12855</td>\n",
       "      <td>109004.0</td>\n",
       "      <td>108991.428571</td>\n",
       "    </tr>\n",
       "    <tr>\n",
       "      <th>2022-08-09 09:03:23</th>\n",
       "      <td>109025.0</td>\n",
       "      <td>109030.0</td>\n",
       "      <td>108970.0</td>\n",
       "      <td>108985.0</td>\n",
       "      <td>4847</td>\n",
       "      <td>12961</td>\n",
       "      <td>108999.0</td>\n",
       "      <td>108991.428571</td>\n",
       "    </tr>\n",
       "    <tr>\n",
       "      <th>2022-08-09 09:03:24</th>\n",
       "      <td>109025.0</td>\n",
       "      <td>109030.0</td>\n",
       "      <td>108970.0</td>\n",
       "      <td>108980.0</td>\n",
       "      <td>4983</td>\n",
       "      <td>13308</td>\n",
       "      <td>108994.0</td>\n",
       "      <td>108990.952381</td>\n",
       "    </tr>\n",
       "    <tr>\n",
       "      <th>...</th>\n",
       "      <td>...</td>\n",
       "      <td>...</td>\n",
       "      <td>...</td>\n",
       "      <td>...</td>\n",
       "      <td>...</td>\n",
       "      <td>...</td>\n",
       "      <td>...</td>\n",
       "      <td>...</td>\n",
       "    </tr>\n",
       "    <tr>\n",
       "      <th>2022-08-15 17:50:55</th>\n",
       "      <td>113265.0</td>\n",
       "      <td>113280.0</td>\n",
       "      <td>113235.0</td>\n",
       "      <td>113235.0</td>\n",
       "      <td>2271</td>\n",
       "      <td>7924</td>\n",
       "      <td>113240.0</td>\n",
       "      <td>113241.428571</td>\n",
       "    </tr>\n",
       "    <tr>\n",
       "      <th>2022-08-15 17:50:56</th>\n",
       "      <td>113265.0</td>\n",
       "      <td>113280.0</td>\n",
       "      <td>113230.0</td>\n",
       "      <td>113230.0</td>\n",
       "      <td>2377</td>\n",
       "      <td>8206</td>\n",
       "      <td>113238.0</td>\n",
       "      <td>113240.476190</td>\n",
       "    </tr>\n",
       "    <tr>\n",
       "      <th>2022-08-15 17:50:57</th>\n",
       "      <td>113265.0</td>\n",
       "      <td>113280.0</td>\n",
       "      <td>113230.0</td>\n",
       "      <td>113235.0</td>\n",
       "      <td>2409</td>\n",
       "      <td>8287</td>\n",
       "      <td>113236.0</td>\n",
       "      <td>113240.000000</td>\n",
       "    </tr>\n",
       "    <tr>\n",
       "      <th>2022-08-15 17:50:58</th>\n",
       "      <td>113265.0</td>\n",
       "      <td>113280.0</td>\n",
       "      <td>113230.0</td>\n",
       "      <td>113230.0</td>\n",
       "      <td>2424</td>\n",
       "      <td>8326</td>\n",
       "      <td>113234.0</td>\n",
       "      <td>113239.285714</td>\n",
       "    </tr>\n",
       "    <tr>\n",
       "      <th>2022-08-15 17:50:59</th>\n",
       "      <td>113265.0</td>\n",
       "      <td>113280.0</td>\n",
       "      <td>113230.0</td>\n",
       "      <td>113230.0</td>\n",
       "      <td>2464</td>\n",
       "      <td>8429</td>\n",
       "      <td>113232.0</td>\n",
       "      <td>113238.333333</td>\n",
       "    </tr>\n",
       "  </tbody>\n",
       "</table>\n",
       "<p>157460 rows × 8 columns</p>\n",
       "</div>"
      ],
      "text/plain": [
       "                         Open     Hight       Low     Close  Ticket  Volume  \\\n",
       "Date                                                                          \n",
       "2022-08-09 09:03:20  109025.0  109030.0  108970.0  109015.0    4384   11805   \n",
       "2022-08-09 09:03:21  109025.0  109030.0  108970.0  109005.0    4488   12000   \n",
       "2022-08-09 09:03:22  109025.0  109030.0  108970.0  108985.0    4777   12855   \n",
       "2022-08-09 09:03:23  109025.0  109030.0  108970.0  108985.0    4847   12961   \n",
       "2022-08-09 09:03:24  109025.0  109030.0  108970.0  108980.0    4983   13308   \n",
       "...                       ...       ...       ...       ...     ...     ...   \n",
       "2022-08-15 17:50:55  113265.0  113280.0  113235.0  113235.0    2271    7924   \n",
       "2022-08-15 17:50:56  113265.0  113280.0  113230.0  113230.0    2377    8206   \n",
       "2022-08-15 17:50:57  113265.0  113280.0  113230.0  113235.0    2409    8287   \n",
       "2022-08-15 17:50:58  113265.0  113280.0  113230.0  113230.0    2424    8326   \n",
       "2022-08-15 17:50:59  113265.0  113280.0  113230.0  113230.0    2464    8429   \n",
       "\n",
       "                         mm5d          mm21d  \n",
       "Date                                          \n",
       "2022-08-09 09:03:20  109011.0  108994.523810  \n",
       "2022-08-09 09:03:21  109010.0  108993.333333  \n",
       "2022-08-09 09:03:22  109004.0  108991.428571  \n",
       "2022-08-09 09:03:23  108999.0  108991.428571  \n",
       "2022-08-09 09:03:24  108994.0  108990.952381  \n",
       "...                       ...            ...  \n",
       "2022-08-15 17:50:55  113240.0  113241.428571  \n",
       "2022-08-15 17:50:56  113238.0  113240.476190  \n",
       "2022-08-15 17:50:57  113236.0  113240.000000  \n",
       "2022-08-15 17:50:58  113234.0  113239.285714  \n",
       "2022-08-15 17:50:59  113232.0  113238.333333  \n",
       "\n",
       "[157460 rows x 8 columns]"
      ]
     },
     "execution_count": 4,
     "metadata": {},
     "output_type": "execute_result"
    }
   ],
   "source": [
    "#data = pd.read_csv(\"../input/winq22/WINQ22_SPREAD_1.csv\",sep=\";\")\n",
    "data = pd.read_csv(\"../input/winq22-process/submission_example.csv\",\n",
    "                  #skiprows = range(30001, 3119977), # ignora as primeiras 10 linhas do excel\n",
    "                  )\n",
    "df = pd.DataFrame(data)\n",
    "# df = df.reset_index()\n",
    "df.shape\n",
    "\n",
    "#Criando o Dataframe\n",
    "df.sort_index(ascending=True, axis=0)\n",
    "data = df.sort_index(ascending=True, axis=0)\n",
    "\n",
    "#Colocando data como índice\n",
    "df.index = df.Date\n",
    "df.drop('Date', axis=1, inplace=True)\n",
    "\n",
    "df.head()\n",
    "\n",
    "df['mm5d'] = df['Close'].rolling(5).mean()\n",
    "df['mm21d'] = df['Close'].rolling(21).mean()\n",
    "\n",
    "#retirando os dados nulos\n",
    "df.dropna(inplace=True)\n",
    "df"
   ]
  },
  {
   "cell_type": "code",
   "execution_count": 5,
   "id": "25ab2cd6",
   "metadata": {
    "execution": {
     "iopub.execute_input": "2022-09-13T00:06:38.143759Z",
     "iopub.status.busy": "2022-09-13T00:06:38.142951Z",
     "iopub.status.idle": "2022-09-13T00:06:38.552508Z",
     "shell.execute_reply": "2022-09-13T00:06:38.551058Z"
    },
    "papermill": {
     "duration": 0.420445,
     "end_time": "2022-09-13T00:06:38.555122",
     "exception": false,
     "start_time": "2022-09-13T00:06:38.134677",
     "status": "completed"
    },
    "tags": []
   },
   "outputs": [
    {
     "data": {
      "image/png": "[encoded data removed]",
      "text/plain": [
       "<Figure size 1296x648 with 1 Axes>"
      ]
     },
     "metadata": {
      "needs_background": "light"
     },
     "output_type": "display_data"
    }
   ],
   "source": [
    "plt.figure(figsize = (18,9))\n",
    "plt.plot(range(df.shape[0]),(df['Close']))\n",
    "plt.xticks(range(0,df.shape[0],10000),df.index[::10000],rotation=45)\n",
    "plt.xlabel('Date',fontsize=18)\n",
    "plt.ylabel('Mid Price',fontsize=18)\n",
    "plt.show()"
   ]
  },
  {
   "cell_type": "code",
   "execution_count": 6,
   "id": "a9f88676",
   "metadata": {
    "execution": {
     "iopub.execute_input": "2022-09-13T00:06:38.574093Z",
     "iopub.status.busy": "2022-09-13T00:06:38.572856Z",
     "iopub.status.idle": "2022-09-13T00:06:38.579257Z",
     "shell.execute_reply": "2022-09-13T00:06:38.577976Z"
    },
    "papermill": {
     "duration": 0.018614,
     "end_time": "2022-09-13T00:06:38.581925",
     "exception": false,
     "start_time": "2022-09-13T00:06:38.563311",
     "status": "completed"
    },
    "tags": []
   },
   "outputs": [],
   "source": [
    "#Importando as libraries\n",
    "from sklearn.preprocessing import MinMaxScaler\n",
    "from keras.models import Sequential\n",
    "from keras.layers import Dense, Dropout, LSTM"
   ]
  },
  {
   "cell_type": "markdown",
   "id": "a5745ccd",
   "metadata": {
    "papermill": {
     "duration": 0.007882,
     "end_time": "2022-09-13T00:06:38.597947",
     "exception": false,
     "start_time": "2022-09-13T00:06:38.590065",
     "status": "completed"
    },
    "tags": []
   },
   "source": [
    "# =============================================="
   ]
  },
  {
   "cell_type": "code",
   "execution_count": 7,
   "id": "4e08917d",
   "metadata": {
    "execution": {
     "iopub.execute_input": "2022-09-13T00:06:38.617050Z",
     "iopub.status.busy": "2022-09-13T00:06:38.616288Z",
     "iopub.status.idle": "2022-09-13T00:06:38.626702Z",
     "shell.execute_reply": "2022-09-13T00:06:38.625459Z"
    },
    "papermill": {
     "duration": 0.022795,
     "end_time": "2022-09-13T00:06:38.629407",
     "exception": false,
     "start_time": "2022-09-13T00:06:38.606612",
     "status": "completed"
    },
    "tags": []
   },
   "outputs": [],
   "source": [
    "features = df.loc[:,['Open', 'Hight', 'Low', 'Ticket','Volume','mm5d','mm21d']]\n",
    "y_output = df['Close']"
   ]
  },
  {
   "cell_type": "code",
   "execution_count": 8,
   "id": "9e53f910",
   "metadata": {
    "execution": {
     "iopub.execute_input": "2022-09-13T00:06:38.647771Z",
     "iopub.status.busy": "2022-09-13T00:06:38.647019Z",
     "iopub.status.idle": "2022-09-13T00:06:38.664426Z",
     "shell.execute_reply": "2022-09-13T00:06:38.662712Z"
    },
    "papermill": {
     "duration": 0.029809,
     "end_time": "2022-09-13T00:06:38.667233",
     "exception": false,
     "start_time": "2022-09-13T00:06:38.637424",
     "status": "completed"
    },
    "tags": []
   },
   "outputs": [
    {
     "name": "stdout",
     "output_type": "stream",
     "text": [
      "110222 110222\n",
      "47238 47238\n"
     ]
    }
   ],
   "source": [
    "split_percentage = 0.7\n",
    "split = int(split_percentage*len(df))\n",
    "  \n",
    "# Train data set\n",
    "X_train = features[:split]\n",
    "y_train = y_output[:split]\n",
    "  \n",
    "# Test data set\n",
    "X_test = features[split:]\n",
    "y_test = y_output[split:]\n",
    "\n",
    "print( len(X_train), len(y_train))\n",
    "print( len(X_test), len(y_test))"
   ]
  },
  {
   "cell_type": "code",
   "execution_count": 9,
   "id": "7742330d",
   "metadata": {
    "execution": {
     "iopub.execute_input": "2022-09-13T00:06:38.685533Z",
     "iopub.status.busy": "2022-09-13T00:06:38.685110Z",
     "iopub.status.idle": "2022-09-13T00:06:38.689654Z",
     "shell.execute_reply": "2022-09-13T00:06:38.688665Z"
    },
    "papermill": {
     "duration": 0.016308,
     "end_time": "2022-09-13T00:06:38.691872",
     "exception": false,
     "start_time": "2022-09-13T00:06:38.675564",
     "status": "completed"
    },
    "tags": []
   },
   "outputs": [],
   "source": [
    "# # Normalizando os dados de entrada(features)\n",
    "\n",
    "# # Gerando o novo padrão\n",
    "# scaler = StandardScaler()\n",
    "# X_train_scale = scaler.fit_transform(X_train)  # Normalizando os dados de entrada(treinamento)\n",
    "# X_test_scale  = scaler.transform(X_test)       # Normalizando os dados de entrada(teste)"
   ]
  },
  {
   "cell_type": "code",
   "execution_count": 10,
   "id": "5f22fd0e",
   "metadata": {
    "execution": {
     "iopub.execute_input": "2022-09-13T00:06:38.710154Z",
     "iopub.status.busy": "2022-09-13T00:06:38.709397Z",
     "iopub.status.idle": "2022-09-13T00:06:38.734856Z",
     "shell.execute_reply": "2022-09-13T00:06:38.733828Z"
    },
    "papermill": {
     "duration": 0.037543,
     "end_time": "2022-09-13T00:06:38.737536",
     "exception": false,
     "start_time": "2022-09-13T00:06:38.699993",
     "status": "completed"
    },
    "tags": []
   },
   "outputs": [],
   "source": [
    "# Normalizando os dados de entrada(features)\n",
    "\n",
    "# Gerando o novo padrão\n",
    "scaler = MinMaxScaler()\n",
    "X_train_scale = scaler.fit_transform(X_train)  # Normalizando os dados de entrada(treinamento)\n",
    "X_test_scale  = scaler.transform(X_test)       # Normalizando os dados de entrada(teste)"
   ]
  },
  {
   "cell_type": "code",
   "execution_count": 11,
   "id": "10008b7b",
   "metadata": {
    "execution": {
     "iopub.execute_input": "2022-09-13T00:06:38.756378Z",
     "iopub.status.busy": "2022-09-13T00:06:38.755573Z",
     "iopub.status.idle": "2022-09-13T00:06:38.761568Z",
     "shell.execute_reply": "2022-09-13T00:06:38.760215Z"
    },
    "papermill": {
     "duration": 0.018442,
     "end_time": "2022-09-13T00:06:38.764258",
     "exception": false,
     "start_time": "2022-09-13T00:06:38.745816",
     "status": "completed"
    },
    "tags": []
   },
   "outputs": [
    {
     "name": "stdout",
     "output_type": "stream",
     "text": [
      "(110222, 7) (47238, 7)\n"
     ]
    }
   ],
   "source": [
    "print(X_train.shape, X_test.shape)"
   ]
  },
  {
   "cell_type": "code",
   "execution_count": 12,
   "id": "0ba28a09",
   "metadata": {
    "execution": {
     "iopub.execute_input": "2022-09-13T00:06:38.783078Z",
     "iopub.status.busy": "2022-09-13T00:06:38.781915Z",
     "iopub.status.idle": "2022-09-13T00:06:38.794725Z",
     "shell.execute_reply": "2022-09-13T00:06:38.793071Z"
    },
    "papermill": {
     "duration": 0.025268,
     "end_time": "2022-09-13T00:06:38.797700",
     "exception": false,
     "start_time": "2022-09-13T00:06:38.772432",
     "status": "completed"
    },
    "tags": []
   },
   "outputs": [],
   "source": [
    "#Process the data for LSTM\n",
    "trainX =np.array(X_train_scale)\n",
    "testX =np.array(X_test_scale)\n",
    "X_train = trainX.reshape(X_train_scale.shape[0], 1, X_train_scale.shape[1])\n",
    "X_test = testX.reshape(X_test_scale.shape[0], 1, X_test_scale.shape[1])"
   ]
  },
  {
   "cell_type": "code",
   "execution_count": 13,
   "id": "f7f7832b",
   "metadata": {
    "execution": {
     "iopub.execute_input": "2022-09-13T00:06:38.817661Z",
     "iopub.status.busy": "2022-09-13T00:06:38.816778Z",
     "iopub.status.idle": "2022-09-13T00:06:40.203845Z",
     "shell.execute_reply": "2022-09-13T00:06:40.202006Z"
    },
    "papermill": {
     "duration": 1.400457,
     "end_time": "2022-09-13T00:06:40.206571",
     "exception": false,
     "start_time": "2022-09-13T00:06:38.806114",
     "status": "completed"
    },
    "tags": []
   },
   "outputs": [
    {
     "name": "stderr",
     "output_type": "stream",
     "text": [
      "2022-09-13 00:06:38.867291: I tensorflow/core/common_runtime/process_util.cc:146] Creating new thread pool with default inter op setting: 2. Tune using inter_op_parallelism_threads for best performance.\n"
     ]
    },
    {
     "data": {
      "image/png": "[encoded data removed]",
      "text/plain": [
       "<IPython.core.display.Image object>"
      ]
     },
     "execution_count": 13,
     "metadata": {},
     "output_type": "execute_result"
    }
   ],
   "source": [
    "# Criando o modelo LSTM\n",
    "# model = Sequential()\n",
    "# model.add(LSTM(units=50, return_sequences=True, input_shape=(X_train.shape[1],1)))\n",
    "\n",
    "# model.add(LSTM(units=50))\n",
    "from keras.layers import Input\n",
    "\n",
    "output_size = 6\n",
    "\n",
    "model = Sequential()\n",
    "model.add(LSTM(32, input_shape=(1, trainX.shape[1]), activation='relu', return_sequences=False))\n",
    "model.add(Dense(output_size))\n",
    "model.compile(loss='mean_squared_error', optimizer='adam')\n",
    "plot_model(model, show_shapes=True, show_layer_names=True)"
   ]
  },
  {
   "cell_type": "code",
   "execution_count": 14,
   "id": "13f32cc6",
   "metadata": {
    "execution": {
     "iopub.execute_input": "2022-09-13T00:06:40.227420Z",
     "iopub.status.busy": "2022-09-13T00:06:40.226755Z",
     "iopub.status.idle": "2022-09-13T01:09:03.963074Z",
     "shell.execute_reply": "2022-09-13T01:09:03.961715Z"
    },
    "papermill": {
     "duration": 3743.75095,
     "end_time": "2022-09-13T01:09:03.966817",
     "exception": false,
     "start_time": "2022-09-13T00:06:40.215867",
     "status": "completed"
    },
    "tags": []
   },
   "outputs": [
    {
     "name": "stderr",
     "output_type": "stream",
     "text": [
      "2022-09-13 00:06:40.305930: I tensorflow/compiler/mlir/mlir_graph_optimization_pass.cc:185] None of the MLIR Optimization Passes are enabled (registered 2)\n"
     ]
    },
    {
     "name": "stdout",
     "output_type": "stream",
     "text": [
      "Epoch 1/100\n",
      "13778/13778 [==============================] - 38s 3ms/step - loss: 11078067200.0000 - val_loss: 8524351488.0000\n",
      "Epoch 2/100\n",
      "13778/13778 [==============================] - 39s 3ms/step - loss: 7683089408.0000 - val_loss: 2416539136.0000\n",
      "Epoch 3/100\n",
      "13778/13778 [==============================] - 40s 3ms/step - loss: 3728730624.0000 - val_loss: 407599072.0000\n",
      "Epoch 4/100\n",
      "13778/13778 [==============================] - 39s 3ms/step - loss: 1595615616.0000 - val_loss: 2226706432.0000\n",
      "Epoch 5/100\n",
      "13778/13778 [==============================] - 36s 3ms/step - loss: 1245169408.0000 - val_loss: 2436645376.0000\n",
      "Epoch 6/100\n",
      "13778/13778 [==============================] - 36s 3ms/step - loss: 1195128448.0000 - val_loss: 2376994560.0000\n",
      "Epoch 7/100\n",
      "13778/13778 [==============================] - 36s 3ms/step - loss: 1161648640.0000 - val_loss: 2301826048.0000\n",
      "Epoch 8/100\n",
      "13778/13778 [==============================] - 36s 3ms/step - loss: 1128961664.0000 - val_loss: 2225736960.0000\n",
      "Epoch 9/100\n",
      "13778/13778 [==============================] - 35s 3ms/step - loss: 1096217344.0000 - val_loss: 2149575936.0000\n",
      "Epoch 10/100\n",
      "13778/13778 [==============================] - 35s 3ms/step - loss: 1063324672.0000 - val_loss: 2073240320.0000\n",
      "Epoch 11/100\n",
      "13778/13778 [==============================] - 35s 3ms/step - loss: 1030286016.0000 - val_loss: 1996860544.0000\n",
      "Epoch 12/100\n",
      "13778/13778 [==============================] - 39s 3ms/step - loss: 997099456.0000 - val_loss: 1920359040.0000\n",
      "Epoch 13/100\n",
      "13778/13778 [==============================] - 36s 3ms/step - loss: 963742912.0000 - val_loss: 1843790720.0000\n",
      "Epoch 14/100\n",
      "13778/13778 [==============================] - 40s 3ms/step - loss: 930226240.0000 - val_loss: 1767147136.0000\n",
      "Epoch 15/100\n",
      "13778/13778 [==============================] - 37s 3ms/step - loss: 896539776.0000 - val_loss: 1690455936.0000\n",
      "Epoch 16/100\n",
      "13778/13778 [==============================] - 36s 3ms/step - loss: 862683648.0000 - val_loss: 1613748352.0000\n",
      "Epoch 17/100\n",
      "13778/13778 [==============================] - 38s 3ms/step - loss: 828653120.0000 - val_loss: 1537044992.0000\n",
      "Epoch 18/100\n",
      "13778/13778 [==============================] - 35s 3ms/step - loss: 794465088.0000 - val_loss: 1460415360.0000\n",
      "Epoch 19/100\n",
      "13778/13778 [==============================] - 34s 2ms/step - loss: 760135808.0000 - val_loss: 1383950592.0000\n",
      "Epoch 20/100\n",
      "13778/13778 [==============================] - 33s 2ms/step - loss: 725675584.0000 - val_loss: 1307735936.0000\n",
      "Epoch 21/100\n",
      "13778/13778 [==============================] - 33s 2ms/step - loss: 691109056.0000 - val_loss: 1231873024.0000\n",
      "Epoch 22/100\n",
      "13778/13778 [==============================] - 34s 2ms/step - loss: 656480000.0000 - val_loss: 1156485504.0000\n",
      "Epoch 23/100\n",
      "13778/13778 [==============================] - 35s 3ms/step - loss: 621810624.0000 - val_loss: 1081694464.0000\n",
      "Epoch 24/100\n",
      "13778/13778 [==============================] - 33s 2ms/step - loss: 587166080.0000 - val_loss: 1007721536.0000\n",
      "Epoch 25/100\n",
      "13778/13778 [==============================] - 39s 3ms/step - loss: 552604224.0000 - val_loss: 934699008.0000\n",
      "Epoch 26/100\n",
      "13778/13778 [==============================] - 35s 3ms/step - loss: 518206016.0000 - val_loss: 862894016.0000\n",
      "Epoch 27/100\n",
      "13778/13778 [==============================] - 35s 3ms/step - loss: 484044672.0000 - val_loss: 792500928.0000\n",
      "Epoch 28/100\n",
      "13778/13778 [==============================] - 35s 3ms/step - loss: 450231488.0000 - val_loss: 723805888.0000\n",
      "Epoch 29/100\n",
      "13778/13778 [==============================] - 35s 3ms/step - loss: 416879744.0000 - val_loss: 657074176.0000\n",
      "Epoch 30/100\n",
      "13778/13778 [==============================] - 34s 2ms/step - loss: 384121632.0000 - val_loss: 592600320.0000\n",
      "Epoch 31/100\n",
      "13778/13778 [==============================] - 36s 3ms/step - loss: 352110048.0000 - val_loss: 530699200.0000\n",
      "Epoch 32/100\n",
      "13778/13778 [==============================] - 36s 3ms/step - loss: 320992192.0000 - val_loss: 471647136.0000\n",
      "Epoch 33/100\n",
      "13778/13778 [==============================] - 35s 3ms/step - loss: 290939872.0000 - val_loss: 415758976.0000\n",
      "Epoch 34/100\n",
      "13778/13778 [==============================] - 36s 3ms/step - loss: 262109168.0000 - val_loss: 363273056.0000\n",
      "Epoch 35/100\n",
      "13778/13778 [==============================] - 35s 3ms/step - loss: 234663344.0000 - val_loss: 314429120.0000\n",
      "Epoch 36/100\n",
      "13778/13778 [==============================] - 36s 3ms/step - loss: 208745200.0000 - val_loss: 269410048.0000\n",
      "Epoch 37/100\n",
      "13778/13778 [==============================] - 36s 3ms/step - loss: 184488960.0000 - val_loss: 228332992.0000\n",
      "Epoch 38/100\n",
      "13778/13778 [==============================] - 36s 3ms/step - loss: 161983584.0000 - val_loss: 191247648.0000\n",
      "Epoch 39/100\n",
      "13778/13778 [==============================] - 37s 3ms/step - loss: 141283632.0000 - val_loss: 158154960.0000\n",
      "Epoch 40/100\n",
      "13778/13778 [==============================] - 36s 3ms/step - loss: 122386960.0000 - val_loss: 128975640.0000\n",
      "Epoch 41/100\n",
      "13778/13778 [==============================] - 35s 3ms/step - loss: 105268512.0000 - val_loss: 103599840.0000\n",
      "Epoch 42/100\n",
      "13778/13778 [==============================] - 35s 3ms/step - loss: 89863336.0000 - val_loss: 81860840.0000\n",
      "Epoch 43/100\n",
      "13778/13778 [==============================] - 37s 3ms/step - loss: 76090424.0000 - val_loss: 63572336.0000\n",
      "Epoch 44/100\n",
      "13778/13778 [==============================] - 36s 3ms/step - loss: 63873420.0000 - val_loss: 48526524.0000\n",
      "Epoch 45/100\n",
      "13778/13778 [==============================] - 36s 3ms/step - loss: 53158704.0000 - val_loss: 36493316.0000\n",
      "Epoch 46/100\n",
      "13778/13778 [==============================] - 38s 3ms/step - loss: 43902352.0000 - val_loss: 27198386.0000\n",
      "Epoch 47/100\n",
      "13778/13778 [==============================] - 39s 3ms/step - loss: 36066328.0000 - val_loss: 20309492.0000\n",
      "Epoch 48/100\n",
      "13778/13778 [==============================] - 39s 3ms/step - loss: 29573820.0000 - val_loss: 15419263.0000\n",
      "Epoch 49/100\n",
      "13778/13778 [==============================] - 40s 3ms/step - loss: 24289406.0000 - val_loss: 12056210.0000\n",
      "Epoch 50/100\n",
      "13778/13778 [==============================] - 39s 3ms/step - loss: 20014664.0000 - val_loss: 9740188.0000\n",
      "Epoch 51/100\n",
      "13778/13778 [==============================] - 40s 3ms/step - loss: 16524086.0000 - val_loss: 8062094.0000\n",
      "Epoch 52/100\n",
      "13778/13778 [==============================] - 38s 3ms/step - loss: 13613708.0000 - val_loss: 6734137.0000\n",
      "Epoch 53/100\n",
      "13778/13778 [==============================] - 37s 3ms/step - loss: 11128936.0000 - val_loss: 5592503.0000\n",
      "Epoch 54/100\n",
      "13778/13778 [==============================] - 37s 3ms/step - loss: 8970293.0000 - val_loss: 4564449.5000\n",
      "Epoch 55/100\n",
      "13778/13778 [==============================] - 38s 3ms/step - loss: 7081794.0000 - val_loss: 3629248.2500\n",
      "Epoch 56/100\n",
      "13778/13778 [==============================] - 37s 3ms/step - loss: 5435305.0000 - val_loss: 2788390.0000\n",
      "Epoch 57/100\n",
      "13778/13778 [==============================] - 36s 3ms/step - loss: 4017624.5000 - val_loss: 2048856.5000\n",
      "Epoch 58/100\n",
      "13778/13778 [==============================] - 36s 3ms/step - loss: 2822699.0000 - val_loss: 1416996.2500\n",
      "Epoch 59/100\n",
      "13778/13778 [==============================] - 38s 3ms/step - loss: 1847205.2500 - val_loss: 897846.8750\n",
      "Epoch 60/100\n",
      "13778/13778 [==============================] - 39s 3ms/step - loss: 1087505.3750 - val_loss: 495543.8438\n",
      "Epoch 61/100\n",
      "13778/13778 [==============================] - 38s 3ms/step - loss: 538046.1875 - val_loss: 213017.7500\n",
      "Epoch 62/100\n",
      "13778/13778 [==============================] - 38s 3ms/step - loss: 189959.7500 - val_loss: 50782.5508\n",
      "Epoch 63/100\n",
      "13778/13778 [==============================] - 38s 3ms/step - loss: 27652.0547 - val_loss: 896.4016\n",
      "Epoch 64/100\n",
      "13778/13778 [==============================] - 37s 3ms/step - loss: 400.8339 - val_loss: 1608.1885\n",
      "Epoch 65/100\n",
      "13778/13778 [==============================] - 39s 3ms/step - loss: 321.2903 - val_loss: 970.8407\n",
      "Epoch 66/100\n",
      "13778/13778 [==============================] - 39s 3ms/step - loss: 297.6327 - val_loss: 656.3035\n",
      "Epoch 67/100\n",
      "13778/13778 [==============================] - 40s 3ms/step - loss: 278.5463 - val_loss: 479.3259\n",
      "Epoch 68/100\n",
      "13778/13778 [==============================] - 40s 3ms/step - loss: 262.7203 - val_loss: 373.4429\n",
      "Epoch 69/100\n",
      "13778/13778 [==============================] - 39s 3ms/step - loss: 249.4773 - val_loss: 315.2598\n",
      "Epoch 70/100\n",
      "13778/13778 [==============================] - 40s 3ms/step - loss: 238.4009 - val_loss: 292.8025\n",
      "Epoch 71/100\n",
      "13778/13778 [==============================] - 39s 3ms/step - loss: 229.0825 - val_loss: 296.9500\n",
      "Epoch 72/100\n",
      "13778/13778 [==============================] - 37s 3ms/step - loss: 221.2069 - val_loss: 321.4190\n",
      "Epoch 73/100\n",
      "13778/13778 [==============================] - 38s 3ms/step - loss: 214.5331 - val_loss: 359.8789\n",
      "Epoch 74/100\n",
      "13778/13778 [==============================] - 37s 3ms/step - loss: 208.8145 - val_loss: 405.9647\n",
      "Epoch 75/100\n",
      "13778/13778 [==============================] - 38s 3ms/step - loss: 203.8616 - val_loss: 455.4649\n",
      "Epoch 76/100\n",
      "13778/13778 [==============================] - 38s 3ms/step - loss: 199.5108 - val_loss: 513.5202\n",
      "Epoch 77/100\n",
      "13778/13778 [==============================] - 37s 3ms/step - loss: 195.6893 - val_loss: 569.0162\n",
      "Epoch 78/100\n",
      "13778/13778 [==============================] - 37s 3ms/step - loss: 192.2561 - val_loss: 624.6865\n",
      "Epoch 79/100\n",
      "13778/13778 [==============================] - 39s 3ms/step - loss: 189.1490 - val_loss: 678.0697\n",
      "Epoch 80/100\n",
      "13778/13778 [==============================] - 39s 3ms/step - loss: 186.2811 - val_loss: 733.0186\n",
      "Epoch 81/100\n",
      "13778/13778 [==============================] - 37s 3ms/step - loss: 183.6448 - val_loss: 785.1630\n",
      "Epoch 82/100\n",
      "13778/13778 [==============================] - 38s 3ms/step - loss: 181.1745 - val_loss: 834.5623\n",
      "Epoch 83/100\n",
      "13778/13778 [==============================] - 38s 3ms/step - loss: 178.8301 - val_loss: 875.2367\n",
      "Epoch 84/100\n",
      "13778/13778 [==============================] - 40s 3ms/step - loss: 176.5524 - val_loss: 916.3047\n",
      "Epoch 85/100\n",
      "13778/13778 [==============================] - 38s 3ms/step - loss: 174.3903 - val_loss: 953.2452\n",
      "Epoch 86/100\n",
      "13778/13778 [==============================] - 39s 3ms/step - loss: 172.2762 - val_loss: 992.8769\n",
      "Epoch 87/100\n",
      "13778/13778 [==============================] - 39s 3ms/step - loss: 170.2641 - val_loss: 1029.6349\n",
      "Epoch 88/100\n",
      "13778/13778 [==============================] - 39s 3ms/step - loss: 168.2798 - val_loss: 1063.4852\n",
      "Epoch 89/100\n",
      "13778/13778 [==============================] - 38s 3ms/step - loss: 166.3285 - val_loss: 1096.2627\n",
      "Epoch 90/100\n",
      "13778/13778 [==============================] - 38s 3ms/step - loss: 164.4309 - val_loss: 1130.1794\n",
      "Epoch 91/100\n",
      "13778/13778 [==============================] - 39s 3ms/step - loss: 162.5640 - val_loss: 1159.0704\n",
      "Epoch 92/100\n",
      "13778/13778 [==============================] - 37s 3ms/step - loss: 160.7354 - val_loss: 1183.2292\n",
      "Epoch 93/100\n",
      "13778/13778 [==============================] - 39s 3ms/step - loss: 158.8968 - val_loss: 1207.9470\n",
      "Epoch 94/100\n",
      "13778/13778 [==============================] - 39s 3ms/step - loss: 157.1052 - val_loss: 1227.6815\n",
      "Epoch 95/100\n",
      "13778/13778 [==============================] - 40s 3ms/step - loss: 155.3189 - val_loss: 1247.2596\n",
      "Epoch 96/100\n",
      "13778/13778 [==============================] - 37s 3ms/step - loss: 153.5717 - val_loss: 1270.6486\n",
      "Epoch 97/100\n",
      "13778/13778 [==============================] - 41s 3ms/step - loss: 151.8553 - val_loss: 1294.2247\n",
      "Epoch 98/100\n",
      "13778/13778 [==============================] - 38s 3ms/step - loss: 150.1939 - val_loss: 1312.4286\n",
      "Epoch 99/100\n",
      "13778/13778 [==============================] - 38s 3ms/step - loss: 148.5276 - val_loss: 1327.0071\n",
      "Epoch 100/100\n",
      "13778/13778 [==============================] - 40s 3ms/step - loss: 146.8763 - val_loss: 1333.9216\n"
     ]
    }
   ],
   "source": [
    "history = model.fit(X_train, y_train.values.ravel(), \n",
    "                    epochs=100,validation_data=(X_test, y_test), \n",
    "                    batch_size=8, verbose=1, shuffle=False)\n"
   ]
  },
  {
   "cell_type": "code",
   "execution_count": 15,
   "id": "46cd6096",
   "metadata": {
    "execution": {
     "iopub.execute_input": "2022-09-13T01:09:12.138691Z",
     "iopub.status.busy": "2022-09-13T01:09:12.137572Z",
     "iopub.status.idle": "2022-09-13T01:09:12.145798Z",
     "shell.execute_reply": "2022-09-13T01:09:12.144248Z"
    },
    "papermill": {
     "duration": 4.214525,
     "end_time": "2022-09-13T01:09:12.151065",
     "exception": false,
     "start_time": "2022-09-13T01:09:07.936540",
     "status": "completed"
    },
    "tags": []
   },
   "outputs": [],
   "source": [
    "X_test_2 = X_test[range(0,len(X_test),output_size)]\n"
   ]
  },
  {
   "cell_type": "code",
   "execution_count": 16,
   "id": "462d44cf",
   "metadata": {
    "execution": {
     "iopub.execute_input": "2022-09-13T01:09:20.331651Z",
     "iopub.status.busy": "2022-09-13T01:09:20.330672Z",
     "iopub.status.idle": "2022-09-13T01:09:20.957840Z",
     "shell.execute_reply": "2022-09-13T01:09:20.956600Z"
    },
    "papermill": {
     "duration": 4.694075,
     "end_time": "2022-09-13T01:09:20.960607",
     "exception": false,
     "start_time": "2022-09-13T01:09:16.266532",
     "status": "completed"
    },
    "tags": []
   },
   "outputs": [
    {
     "data": {
      "text/plain": [
       "(47238, 1)"
      ]
     },
     "execution_count": 16,
     "metadata": {},
     "output_type": "execute_result"
    }
   ],
   "source": [
    "\n",
    "y_pred= model.predict(X_test_2)\n",
    "y_pred.shape\n",
    "y_pred2 = np.reshape(y_pred,(len(y_test),1))\n",
    "y_pred2.shape"
   ]
  },
  {
   "cell_type": "code",
   "execution_count": 17,
   "id": "d9f5fde3",
   "metadata": {
    "execution": {
     "iopub.execute_input": "2022-09-13T01:09:29.099922Z",
     "iopub.status.busy": "2022-09-13T01:09:29.099106Z",
     "iopub.status.idle": "2022-09-13T01:09:30.962312Z",
     "shell.execute_reply": "2022-09-13T01:09:30.961191Z"
    },
    "papermill": {
     "duration": 5.927522,
     "end_time": "2022-09-13T01:09:30.965158",
     "exception": false,
     "start_time": "2022-09-13T01:09:25.037636",
     "status": "completed"
    },
    "tags": []
   },
   "outputs": [
    {
     "data": {
      "image/png": "[encoded data removed]",
      "text/plain": [
       "<Figure size 432x288 with 1 Axes>"
      ]
     },
     "metadata": {
      "needs_background": "light"
     },
     "output_type": "display_data"
    },
    {
     "data": {
      "image/png": "[encoded data removed]",
      "text/plain": [
       "<Figure size 432x288 with 1 Axes>"
      ]
     },
     "metadata": {
      "needs_background": "light"
     },
     "output_type": "display_data"
    },
    {
     "name": "stdout",
     "output_type": "stream",
     "text": [
      "MAPE: 0.02831%\n",
      "MSE: 1512.73\n"
     ]
    }
   ],
   "source": [
    "# #LSTM Prediction\n",
    "# #y_pred= model.predict(X_test.reshape((1,3,1)))\n",
    "# y_pred= model.predict(X_test)\n",
    "# # print(y_pred)\n",
    "# # plt.plot(y_pred)\n",
    "plotar_testes(y_test,y_pred2,'LSTM')\n",
    "plotar_testes_1000(y_test,y_pred2,100,'LSTM')\n",
    "erros(y_test, y_pred2)"
   ]
  },
  {
   "cell_type": "code",
   "execution_count": 18,
   "id": "fa7b7b76",
   "metadata": {
    "execution": {
     "iopub.execute_input": "2022-09-13T01:09:38.971278Z",
     "iopub.status.busy": "2022-09-13T01:09:38.970891Z",
     "iopub.status.idle": "2022-09-13T01:09:38.981031Z",
     "shell.execute_reply": "2022-09-13T01:09:38.979766Z"
    },
    "papermill": {
     "duration": 4.039505,
     "end_time": "2022-09-13T01:09:38.983551",
     "exception": false,
     "start_time": "2022-09-13T01:09:34.944046",
     "status": "completed"
    },
    "tags": []
   },
   "outputs": [
    {
     "data": {
      "text/plain": [
       "Date\n",
       "2022-08-12 13:30:41    111830.0\n",
       "2022-08-12 13:30:42    111830.0\n",
       "2022-08-12 13:30:43    111825.0\n",
       "2022-08-12 13:30:44    111830.0\n",
       "2022-08-12 13:30:45    111825.0\n",
       "                         ...   \n",
       "2022-08-15 17:50:55    113235.0\n",
       "2022-08-15 17:50:56    113230.0\n",
       "2022-08-15 17:50:57    113235.0\n",
       "2022-08-15 17:50:58    113230.0\n",
       "2022-08-15 17:50:59    113230.0\n",
       "Name: Close, Length: 47238, dtype: float64"
      ]
     },
     "execution_count": 18,
     "metadata": {},
     "output_type": "execute_result"
    }
   ],
   "source": [
    "y_test"
   ]
  },
  {
   "cell_type": "code",
   "execution_count": 19,
   "id": "5344186f",
   "metadata": {
    "execution": {
     "iopub.execute_input": "2022-09-13T01:09:47.167896Z",
     "iopub.status.busy": "2022-09-13T01:09:47.167057Z",
     "iopub.status.idle": "2022-09-13T01:09:47.728686Z",
     "shell.execute_reply": "2022-09-13T01:09:47.727517Z"
    },
    "papermill": {
     "duration": 4.665871,
     "end_time": "2022-09-13T01:09:47.731655",
     "exception": false,
     "start_time": "2022-09-13T01:09:43.065784",
     "status": "completed"
    },
    "tags": []
   },
   "outputs": [],
   "source": [
    "from tensorflow.keras.models import save_model\n",
    "save_model(model, \"model.h5\")"
   ]
  },
  {
   "cell_type": "code",
   "execution_count": 20,
   "id": "8c34b05c",
   "metadata": {
    "execution": {
     "iopub.execute_input": "2022-09-13T01:09:55.739449Z",
     "iopub.status.busy": "2022-09-13T01:09:55.738630Z",
     "iopub.status.idle": "2022-09-13T01:09:55.743653Z",
     "shell.execute_reply": "2022-09-13T01:09:55.742671Z"
    },
    "papermill": {
     "duration": 3.949203,
     "end_time": "2022-09-13T01:09:55.746068",
     "exception": false,
     "start_time": "2022-09-13T01:09:51.796865",
     "status": "completed"
    },
    "tags": []
   },
   "outputs": [],
   "source": [
    "# from keras.models import load_model\n",
    "# model = load_model('../input/model-save/stund_split_10.h5')"
   ]
  },
  {
   "cell_type": "code",
   "execution_count": 21,
   "id": "9b8b0adb",
   "metadata": {
    "execution": {
     "iopub.execute_input": "2022-09-13T01:10:03.857866Z",
     "iopub.status.busy": "2022-09-13T01:10:03.857415Z",
     "iopub.status.idle": "2022-09-13T01:10:04.071196Z",
     "shell.execute_reply": "2022-09-13T01:10:04.069846Z"
    },
    "papermill": {
     "duration": 4.211705,
     "end_time": "2022-09-13T01:10:04.074158",
     "exception": false,
     "start_time": "2022-09-13T01:09:59.862453",
     "status": "completed"
    },
    "tags": []
   },
   "outputs": [
    {
     "data": {
      "image/png": "[encoded data removed]",
      "text/plain": [
       "<Figure size 432x288 with 1 Axes>"
      ]
     },
     "metadata": {
      "needs_background": "light"
     },
     "output_type": "display_data"
    }
   ],
   "source": [
    "plt.plot(history.history['loss'], label='train')\n",
    "plt.plot(history.history['val_loss'], label='test')\n",
    "plt.legend()\n",
    "plt.show()"
   ]
  },
  {
   "cell_type": "code",
   "execution_count": 22,
   "id": "7f7c4096",
   "metadata": {
    "execution": {
     "iopub.execute_input": "2022-09-13T01:10:12.289924Z",
     "iopub.status.busy": "2022-09-13T01:10:12.288443Z",
     "iopub.status.idle": "2022-09-13T01:10:12.452308Z",
     "shell.execute_reply": "2022-09-13T01:10:12.451040Z"
    },
    "papermill": {
     "duration": 4.262023,
     "end_time": "2022-09-13T01:10:12.455254",
     "exception": false,
     "start_time": "2022-09-13T01:10:08.193231",
     "status": "completed"
    },
    "tags": []
   },
   "outputs": [
    {
     "data": {
      "image/png": "[encoded data removed]",
      "text/plain": [
       "<Figure size 432x288 with 1 Axes>"
      ]
     },
     "metadata": {
      "needs_background": "light"
     },
     "output_type": "display_data"
    }
   ],
   "source": [
    "high = 100\n",
    "low = high-20\n",
    "\n",
    "plt.plot(history.history['loss'][low:high], label=f'train {low}-{high}')\n",
    "plt.plot(history.history['val_loss'][low:high], label=f'test {low}-{high}')\n",
    "plt.legend()\n",
    "plt.show()"
   ]
  },
  {
   "cell_type": "code",
   "execution_count": 23,
   "id": "285c8b59",
   "metadata": {
    "execution": {
     "iopub.execute_input": "2022-09-13T01:10:20.689671Z",
     "iopub.status.busy": "2022-09-13T01:10:20.689212Z",
     "iopub.status.idle": "2022-09-13T01:10:20.833446Z",
     "shell.execute_reply": "2022-09-13T01:10:20.832500Z"
    },
    "papermill": {
     "duration": 4.243308,
     "end_time": "2022-09-13T01:10:20.836009",
     "exception": false,
     "start_time": "2022-09-13T01:10:16.592701",
     "status": "completed"
    },
    "tags": []
   },
   "outputs": [
    {
     "data": {
      "image/png": "[encoded data removed]",
      "text/plain": [
       "<Figure size 432x288 with 1 Axes>"
      ]
     },
     "metadata": {
      "needs_background": "light"
     },
     "output_type": "display_data"
    }
   ],
   "source": [
    "plt.plot(history.history['val_loss'], label='test')\n",
    "plt.legend()\n",
    "plt.show()"
   ]
  },
  {
   "cell_type": "code",
   "execution_count": null,
   "id": "e72848b9",
   "metadata": {
    "papermill": {
     "duration": 4.069796,
     "end_time": "2022-09-13T01:10:28.900183",
     "exception": false,
     "start_time": "2022-09-13T01:10:24.830387",
     "status": "completed"
    },
    "tags": []
   },
   "outputs": [],
   "source": []
  }
 ],
 "metadata": {
  "kernelspec": {
   "display_name": "Python 3",
   "language": "python",
   "name": "python3"
  },
  "language_info": {
   "codemirror_mode": {
    "name": "ipython",
    "version": 3
   },
   "file_extension": ".py",
   "mimetype": "text/x-python",
   "name": "python",
   "nbconvert_exporter": "python",
   "pygments_lexer": "ipython3",
   "version": "3.7.12"
  },
  "papermill": {
   "default_parameters": {},
   "duration": 3856.98004,
   "end_time": "2022-09-13T01:10:36.384606",
   "environment_variables": {},
   "exception": null,
   "input_path": "__notebook__.ipynb",
   "output_path": "__notebook__.ipynb",
   "parameters": {},
   "start_time": "2022-09-13T00:06:19.404566",
   "version": "2.3.4"
  }
 },
 "nbformat": 4,
 "nbformat_minor": 5
}
